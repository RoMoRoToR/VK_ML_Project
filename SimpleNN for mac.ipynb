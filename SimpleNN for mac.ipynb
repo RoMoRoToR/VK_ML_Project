{
 "cells": [
  {
   "metadata": {
    "ExecuteTime": {
     "end_time": "2024-05-29T07:19:44.002694Z",
     "start_time": "2024-05-29T07:19:43.997906Z"
    }
   },
   "cell_type": "code",
   "source": [
    "import pandas as pd\n",
    "import numpy as np\n",
    "import re\n",
    "import nltk\n",
    "from nltk.tokenize import word_tokenize\n",
    "from nltk.corpus import stopwords\n",
    "from nltk.stem.snowball import SnowballStemmer\n",
    "from transformers import BertTokenizer, BertModel\n",
    "import torch\n",
    "import torch.nn as nn\n",
    "import torch.optim as optim\n",
    "from sklearn.feature_extraction.text import TfidfVectorizer\n",
    "from sklearn.model_selection import GroupShuffleSplit\n",
    "from sklearn.preprocessing import StandardScaler\n",
    "from sklearn.metrics import f1_score\n",
    "from torch.utils.data import Dataset, DataLoader\n",
    "from sklearn.utils.class_weight import compute_class_weight"
   ],
   "id": "cfb50db3f29954f4",
   "outputs": [],
   "execution_count": 120
  },
  {
   "metadata": {
    "ExecuteTime": {
     "end_time": "2024-05-29T07:19:44.079436Z",
     "start_time": "2024-05-29T07:19:44.009903Z"
    }
   },
   "cell_type": "code",
   "source": [
    "train_groups = pd.read_csv('train_groups.csv')\n",
    "test_groups = pd.read_csv('test_groups.csv')\n",
    "docs_titles = pd.read_csv('docs_titles.tsv', sep='\\t')\n",
    "\n",
    "docs_titles['title'] = docs_titles['title'].fillna('')  # Замена пропущенных заголовков на пустую строку\n",
    "\n",
    "train_data = train_groups.merge(docs_titles, on='doc_id', how='left')\n",
    "test_data = test_groups.merge(docs_titles, on='doc_id', how='left')"
   ],
   "id": "1f5eee433e0e713c",
   "outputs": [],
   "execution_count": 121
  },
  {
   "metadata": {
    "ExecuteTime": {
     "end_time": "2024-05-29T07:19:44.086743Z",
     "start_time": "2024-05-29T07:19:44.080480Z"
    }
   },
   "cell_type": "code",
   "source": [
    "# Проверка типов данных в столбце 'title'\n",
    "print(train_data['title'].apply(type).value_counts())\n",
    "print(test_data['title'].apply(type).value_counts())"
   ],
   "id": "cfb21a9fb16e9b1d",
   "outputs": [
    {
     "name": "stdout",
     "output_type": "stream",
     "text": [
      "title\n",
      "<class 'str'>    11690\n",
      "Name: count, dtype: int64\n",
      "title\n",
      "<class 'str'>      16551\n",
      "<class 'float'>       76\n",
      "Name: count, dtype: int64\n"
     ]
    }
   ],
   "execution_count": 122
  },
  {
   "metadata": {
    "ExecuteTime": {
     "end_time": "2024-05-29T07:19:44.094762Z",
     "start_time": "2024-05-29T07:19:44.087577Z"
    }
   },
   "cell_type": "code",
   "source": [
    "# Преобразование всех значений в строку, заменив NaN на пустую строку\n",
    "train_data['title'] = train_data['title'].astype(str)\n",
    "test_data['title'] = test_data['title'].astype(str).fillna('')\n",
    "\n",
    "nltk.download('punkt')\n",
    "nltk.download('stopwords')\n",
    "nltk.download('wordnet')\n",
    "\n",
    "stop_words = set(stopwords.words('russian')) | set(stopwords.words('english'))\n",
    "stemmer = SnowballStemmer(\"russian\")"
   ],
   "id": "ccf6440405a3a56b",
   "outputs": [
    {
     "name": "stderr",
     "output_type": "stream",
     "text": [
      "[nltk_data] Downloading package punkt to\n",
      "[nltk_data]     /Users/taniyashuba/nltk_data...\n",
      "[nltk_data]   Package punkt is already up-to-date!\n",
      "[nltk_data] Downloading package stopwords to\n",
      "[nltk_data]     /Users/taniyashuba/nltk_data...\n",
      "[nltk_data]   Package stopwords is already up-to-date!\n",
      "[nltk_data] Downloading package wordnet to\n",
      "[nltk_data]     /Users/taniyashuba/nltk_data...\n",
      "[nltk_data]   Package wordnet is already up-to-date!\n"
     ]
    }
   ],
   "execution_count": 123
  },
  {
   "metadata": {
    "ExecuteTime": {
     "end_time": "2024-05-29T07:19:51.030364Z",
     "start_time": "2024-05-29T07:19:44.096215Z"
    }
   },
   "cell_type": "code",
   "source": [
    "def preprocess_text(text):\n",
    "    text = re.sub(r'<.*?>', '', text)  # Удаление HTML-тегов\n",
    "    text = re.sub(r'[^a-zA-Zа-яА-Я0-9\\s]', '', text.lower())  # Удаление спецсимволов\n",
    "    tokens = word_tokenize(text.lower())\n",
    "    tokens = [token for token in tokens if token not in stop_words and not token.isdigit()]\n",
    "    tokens = [stemmer.stem(word) for word in tokens]\n",
    "    processed_text = ' '.join(tokens)\n",
    "    return processed_text if processed_text else 'empty'  # Заменить пустой текст на 'empty'\n",
    "\n",
    "\n",
    "train_data['title_processed'] = train_data['title'].apply(preprocess_text)\n",
    "test_data['title_processed'] = test_data['title'].apply(preprocess_text)\n",
    "\n",
    "tokenizer = BertTokenizer.from_pretrained('bert-base-uncased')\n",
    "model = BertModel.from_pretrained('bert-base-uncased')\n",
    "\n",
    "device = torch.device('cuda' if torch.cuda.is_available() else 'cpu')\n",
    "model.to(device)"
   ],
   "id": "29dd72e795b9568c",
   "outputs": [
    {
     "data": {
      "text/plain": [
       "BertModel(\n",
       "  (embeddings): BertEmbeddings(\n",
       "    (word_embeddings): Embedding(30522, 768, padding_idx=0)\n",
       "    (position_embeddings): Embedding(512, 768)\n",
       "    (token_type_embeddings): Embedding(2, 768)\n",
       "    (LayerNorm): LayerNorm((768,), eps=1e-12, elementwise_affine=True)\n",
       "    (dropout): Dropout(p=0.1, inplace=False)\n",
       "  )\n",
       "  (encoder): BertEncoder(\n",
       "    (layer): ModuleList(\n",
       "      (0-11): 12 x BertLayer(\n",
       "        (attention): BertAttention(\n",
       "          (self): BertSdpaSelfAttention(\n",
       "            (query): Linear(in_features=768, out_features=768, bias=True)\n",
       "            (key): Linear(in_features=768, out_features=768, bias=True)\n",
       "            (value): Linear(in_features=768, out_features=768, bias=True)\n",
       "            (dropout): Dropout(p=0.1, inplace=False)\n",
       "          )\n",
       "          (output): BertSelfOutput(\n",
       "            (dense): Linear(in_features=768, out_features=768, bias=True)\n",
       "            (LayerNorm): LayerNorm((768,), eps=1e-12, elementwise_affine=True)\n",
       "            (dropout): Dropout(p=0.1, inplace=False)\n",
       "          )\n",
       "        )\n",
       "        (intermediate): BertIntermediate(\n",
       "          (dense): Linear(in_features=768, out_features=3072, bias=True)\n",
       "          (intermediate_act_fn): GELUActivation()\n",
       "        )\n",
       "        (output): BertOutput(\n",
       "          (dense): Linear(in_features=3072, out_features=768, bias=True)\n",
       "          (LayerNorm): LayerNorm((768,), eps=1e-12, elementwise_affine=True)\n",
       "          (dropout): Dropout(p=0.1, inplace=False)\n",
       "        )\n",
       "      )\n",
       "    )\n",
       "  )\n",
       "  (pooler): BertPooler(\n",
       "    (dense): Linear(in_features=768, out_features=768, bias=True)\n",
       "    (activation): Tanh()\n",
       "  )\n",
       ")"
      ]
     },
     "execution_count": 124,
     "metadata": {},
     "output_type": "execute_result"
    }
   ],
   "execution_count": 124
  },
  {
   "metadata": {
    "ExecuteTime": {
     "end_time": "2024-05-29T08:09:26.476669Z",
     "start_time": "2024-05-29T08:09:26.472909Z"
    }
   },
   "cell_type": "code",
   "source": [
    "def get_bert_embeddings(text):\n",
    "    inputs = tokenizer(text, padding=True, truncation=True, max_length=512, return_tensors=\"pt\").to(device)\n",
    "    with torch.no_grad():\n",
    "        outputs = model(**inputs)\n",
    "    return outputs.last_hidden_state[:, 0, :].cpu().numpy().flatten()"
   ],
   "id": "45ce387883eadac8",
   "outputs": [],
   "execution_count": 144
  },
  {
   "metadata": {
    "ExecuteTime": {
     "end_time": "2024-05-29T08:30:35.215786Z",
     "start_time": "2024-05-29T08:09:27.980266Z"
    }
   },
   "cell_type": "code",
   "source": [
    "# Обработка возможных пустых значений при векторизации\n",
    "def safe_get_bert_embeddings(text):\n",
    "    try:\n",
    "        embeddings = get_bert_embeddings(text)\n",
    "        if embeddings.size == 0:\n",
    "            print(f\"Empty embeddings for text: {text[:50]}...\")\n",
    "        return embeddings\n",
    "    except Exception as e:\n",
    "        print(f\"Error processing text: {text[:50]}... Error: {e}\")\n",
    "        return np.zeros(768)  # Размерность вектора BERT\n",
    "\n",
    "\n",
    "train_data['title_embeddings'] = train_data['title'].apply(lambda x: safe_get_bert_embeddings(x))\n",
    "test_data['title_embeddings'] = test_data['title'].apply(lambda x: safe_get_bert_embeddings(x))"
   ],
   "id": "bfb0571771896540",
   "outputs": [],
   "execution_count": 145
  },
  {
   "metadata": {
    "ExecuteTime": {
     "end_time": "2024-05-29T08:30:35.252801Z",
     "start_time": "2024-05-29T08:30:35.217195Z"
    }
   },
   "cell_type": "code",
   "source": [
    "def embeddings_to_features(data, column_prefix):\n",
    "    embeddings = [e for e in data[column_prefix + '_embeddings'].values if e is not None and len(e) > 0]\n",
    "    if len(embeddings) == 0:\n",
    "        raise ValueError('No embeddings found to stack')\n",
    "    embeddings = np.stack(embeddings)\n",
    "    feature_names = [f\"{column_prefix}_embedding_{i}\" for i in range(embeddings.shape[1])]\n",
    "    features_df = pd.DataFrame(embeddings, columns=feature_names, index=data.index)\n",
    "    return features_df\n",
    "\n",
    "\n",
    "train_features = embeddings_to_features(train_data, 'title')\n",
    "test_features = embeddings_to_features(test_data, 'title')"
   ],
   "id": "5af3582ba73c22d3",
   "outputs": [],
   "execution_count": 146
  },
  {
   "metadata": {
    "ExecuteTime": {
     "end_time": "2024-05-29T08:30:35.316291Z",
     "start_time": "2024-05-29T08:30:35.254054Z"
    }
   },
   "cell_type": "code",
   "source": [
    "def add_new_features(data):\n",
    "    # Длина заголовка\n",
    "    data['title_length'] = data['title'].apply(lambda x: len(x.split()))\n",
    "    # Количество уникальных слов\n",
    "    data['unique_words'] = data['title'].apply(lambda x: len(set(x.split())))\n",
    "    return data\n",
    "\n",
    "\n",
    "train_data = add_new_features(train_data)\n",
    "test_data = add_new_features(test_data)"
   ],
   "id": "15115115dda3a5d0",
   "outputs": [],
   "execution_count": 147
  },
  {
   "metadata": {
    "ExecuteTime": {
     "end_time": "2024-05-29T08:30:36.474543Z",
     "start_time": "2024-05-29T08:30:35.318348Z"
    }
   },
   "cell_type": "code",
   "source": [
    "def group_tfidf_vectorize(data, groups):\n",
    "    tfidf_features = pd.DataFrame(index=data.index)\n",
    "    tfidf_vectorizer = TfidfVectorizer(max_features=100)\n",
    "\n",
    "    for group_id in groups:\n",
    "        group_indices = data[data['group_id'] == group_id].index\n",
    "        group_texts = data.loc[group_indices, 'title_processed']\n",
    "        if group_texts.empty:\n",
    "            continue\n",
    "        tfidf_matrix = tfidf_vectorizer.fit_transform(group_texts)\n",
    "        tfidf_df = pd.DataFrame(tfidf_matrix.toarray(), columns=[f'tfidf_{i}' for i in range(tfidf_matrix.shape[1])],\n",
    "                                index=group_indices)\n",
    "        tfidf_features = pd.concat([tfidf_features, tfidf_df], axis=0)\n",
    "\n",
    "    tfidf_features = tfidf_features.reset_index(drop=True)\n",
    "    data = data.reset_index(drop=True)\n",
    "    tfidf_features = tfidf_features.reindex(data.index)  # Убедиться, что индексы совпадают\n",
    "    return tfidf_features\n",
    "\n",
    "\n",
    "tfidf_train_df = group_tfidf_vectorize(train_data, train_data['group_id'].unique())\n",
    "tfidf_test_df = group_tfidf_vectorize(test_data, test_data['group_id'].unique())\n",
    "\n",
    "train_features = pd.concat([train_features, tfidf_train_df, train_data[['title_length', 'unique_words']]], axis=1)\n",
    "test_features = pd.concat([test_features, tfidf_test_df, test_data[['title_length', 'unique_words']]], axis=1)"
   ],
   "id": "5844ff88fdfac990",
   "outputs": [],
   "execution_count": 148
  },
  {
   "metadata": {
    "ExecuteTime": {
     "end_time": "2024-05-29T08:30:36.501466Z",
     "start_time": "2024-05-29T08:30:36.475310Z"
    }
   },
   "cell_type": "code",
   "source": [
    "# Проверка данных на наличие NaN и бесконечных значений\n",
    "print(train_features.isnull().sum().sum())\n",
    "print(test_features.isnull().sum().sum())\n",
    "\n",
    "print(np.isinf(train_features).sum().sum())\n",
    "print(np.isinf(test_features).sum().sum())"
   ],
   "id": "177aa9971ef27acc",
   "outputs": [
    {
     "name": "stdout",
     "output_type": "stream",
     "text": [
      "1169000\n",
      "1662700\n",
      "0\n",
      "0\n"
     ]
    }
   ],
   "execution_count": 149
  },
  {
   "metadata": {
    "ExecuteTime": {
     "end_time": "2024-05-29T08:30:36.523858Z",
     "start_time": "2024-05-29T08:30:36.502229Z"
    }
   },
   "cell_type": "code",
   "source": [
    "# Замена NaN значений на 0\n",
    "train_features = train_features.fillna(0)\n",
    "test_features = test_features.fillna(0)"
   ],
   "id": "fbb8e40f57396404",
   "outputs": [],
   "execution_count": 150
  },
  {
   "metadata": {
    "ExecuteTime": {
     "end_time": "2024-05-29T08:30:36.582234Z",
     "start_time": "2024-05-29T08:30:36.524604Z"
    }
   },
   "cell_type": "code",
   "source": [
    "# Замена бесконечных значений на конечные\n",
    "train_features = train_features.replace([np.inf, -np.inf], 0)\n",
    "test_features = test_features.replace([np.inf, -np.inf], 0)\n",
    "\n",
    "X_train = train_features\n",
    "y_train = train_data['target']\n",
    "X_test = test_features"
   ],
   "id": "2b96f0fc9730eaf4",
   "outputs": [],
   "execution_count": 151
  },
  {
   "metadata": {
    "ExecuteTime": {
     "end_time": "2024-05-29T08:30:36.585692Z",
     "start_time": "2024-05-29T08:30:36.583159Z"
    }
   },
   "cell_type": "code",
   "source": [
    "# Проверка количества строк после обработки данных\n",
    "print(f\"Train features shape: {train_features.shape}\")\n",
    "print(f\"Test features shape: {test_features.shape}\")\n",
    "print(f\"Train labels shape: {y_train.shape}\")"
   ],
   "id": "8474d5afd7b844e8",
   "outputs": [
    {
     "name": "stdout",
     "output_type": "stream",
     "text": [
      "Train features shape: (11690, 870)\n",
      "Test features shape: (16627, 870)\n",
      "Train labels shape: (11690,)\n"
     ]
    }
   ],
   "execution_count": 152
  },
  {
   "metadata": {
    "ExecuteTime": {
     "end_time": "2024-05-29T08:30:36.591320Z",
     "start_time": "2024-05-29T08:30:36.586520Z"
    }
   },
   "cell_type": "code",
   "source": [
    "# Проверка уникальности идентификаторов\n",
    "test_group_ids = set(test_groups['doc_id'])\n",
    "test_feature_ids = set(test_data['doc_id'])\n",
    "missing_ids = test_group_ids - test_feature_ids\n",
    "print(f\"Missing IDs in test_features: {len(missing_ids)}\")"
   ],
   "id": "b7d4ea6057ef3630",
   "outputs": [
    {
     "name": "stdout",
     "output_type": "stream",
     "text": [
      "Missing IDs in test_features: 0\n"
     ]
    }
   ],
   "execution_count": 153
  },
  {
   "metadata": {
    "ExecuteTime": {
     "end_time": "2024-05-29T08:30:36.598313Z",
     "start_time": "2024-05-29T08:30:36.593498Z"
    }
   },
   "cell_type": "code",
   "source": [
    "# Восстановление отсутствующих строк\n",
    "missing_data = test_groups[test_groups['doc_id'].isin(missing_ids)]\n",
    "missing_data = missing_data.merge(docs_titles, on='doc_id', how='left')\n",
    "missing_data['title'] = missing_data['title'].fillna('')\n",
    "missing_data['title_processed'] = missing_data['title'].apply(preprocess_text)\n",
    "missing_data['title_embeddings'] = missing_data['title'].apply(lambda x: safe_get_bert_embeddings(x))"
   ],
   "id": "58576d1b5517bd17",
   "outputs": [],
   "execution_count": 154
  },
  {
   "metadata": {
    "ExecuteTime": {
     "end_time": "2024-05-29T08:30:36.602127Z",
     "start_time": "2024-05-29T08:30:36.599020Z"
    }
   },
   "cell_type": "code",
   "source": [
    "# Debugging: Check the embeddings for missing data\n",
    "print(\"Generating embeddings for missing data:\")\n",
    "missing_data['title_embeddings'] = missing_data['title'].apply(lambda x: safe_get_bert_embeddings(x))"
   ],
   "id": "75f39ce26da56cff",
   "outputs": [
    {
     "name": "stdout",
     "output_type": "stream",
     "text": [
      "Generating embeddings for missing data:\n"
     ]
    }
   ],
   "execution_count": 155
  },
  {
   "metadata": {
    "ExecuteTime": {
     "end_time": "2024-05-29T08:30:36.606435Z",
     "start_time": "2024-05-29T08:30:36.603019Z"
    }
   },
   "cell_type": "code",
   "source": [
    "# Check the length of each embedding\n",
    "embedding_lengths = missing_data['title_embeddings'].apply(lambda x: len(x))\n",
    "print(\"Embedding lengths summary:\")\n",
    "print(embedding_lengths.describe())"
   ],
   "id": "2146888c5d7389c7",
   "outputs": [
    {
     "name": "stdout",
     "output_type": "stream",
     "text": [
      "Embedding lengths summary:\n",
      "count       0\n",
      "unique      0\n",
      "top       NaN\n",
      "freq      NaN\n",
      "Name: title_embeddings, dtype: object\n"
     ]
    }
   ],
   "execution_count": 156
  },
  {
   "metadata": {
    "ExecuteTime": {
     "end_time": "2024-05-29T08:30:36.609516Z",
     "start_time": "2024-05-29T08:30:36.607374Z"
    }
   },
   "cell_type": "code",
   "source": [
    "# Check for non-empty embeddings\n",
    "non_empty_embeddings = missing_data['title_embeddings'].apply(lambda x: len(x) > 0).sum()\n",
    "print(f\"Number of non-empty embeddings: {non_empty_embeddings}\")"
   ],
   "id": "9c8ab382c55758f8",
   "outputs": [
    {
     "name": "stdout",
     "output_type": "stream",
     "text": [
      "Number of non-empty embeddings: 0\n"
     ]
    }
   ],
   "execution_count": 157
  },
  {
   "metadata": {
    "ExecuteTime": {
     "end_time": "2024-05-29T08:30:36.613324Z",
     "start_time": "2024-05-29T08:30:36.610228Z"
    }
   },
   "cell_type": "code",
   "source": [
    "# If there are non-empty embeddings, proceed\n",
    "if non_empty_embeddings > 0:\n",
    "    missing_features = embeddings_to_features(missing_data, 'title')\n",
    "    missing_tfidf_features = group_tfidf_vectorize(missing_data, missing_data['group_id'].unique())\n",
    "    \n",
    "    # Новые признаки для отсутствующих данных\n",
    "    missing_data = add_new_features(missing_data)\n",
    "\n",
    "    # Объединение всех признаков для отсутствующих данных\n",
    "    missing_features = pd.concat([missing_features, missing_tfidf_features, missing_data[['title_length', 'unique_words']]],\n",
    "                                 axis=1)\n",
    "\n",
    "    # Замена NaN значений на 0 и бесконечных значений на конечные\n",
    "    missing_features = missing_features.fillna(0)\n",
    "    missing_features = missing_features.replace([np.inf, -np.inf], 0)\n",
    "\n",
    "    # Добавление отсутствующих данных к основным признакам теста\n",
    "    test_features = pd.concat([test_features, missing_features])\n",
    "    \n",
    "print(f\"Test features shape after adding missing data: {test_features.shape}\")\n",
    "print(f\"Test groups shape: {test_groups.shape}\")"
   ],
   "id": "2ca1e814aef91f38",
   "outputs": [
    {
     "name": "stdout",
     "output_type": "stream",
     "text": [
      "Test features shape after adding missing data: (16627, 870)\n",
      "Test groups shape: (16627, 3)\n"
     ]
    }
   ],
   "execution_count": 158
  },
  {
   "metadata": {
    "ExecuteTime": {
     "end_time": "2024-05-29T08:30:36.736316Z",
     "start_time": "2024-05-29T08:30:36.614219Z"
    }
   },
   "cell_type": "code",
   "source": [
    "splitter = GroupShuffleSplit(n_splits=1, test_size=0.3, random_state=42)\n",
    "train_indices, val_indices = next(splitter.split(X_train, y_train, groups=train_groups['group_id']))\n",
    "\n",
    "X_train_split = X_train.iloc[train_indices]\n",
    "y_train_split = y_train.iloc[train_indices]\n",
    "\n",
    "X_val_split = X_train.iloc[val_indices]\n",
    "y_val_split = y_train.iloc[val_indices]\n",
    "\n",
    "scaler = StandardScaler()\n",
    "X_train_scaled = scaler.fit_transform(X_train_split)\n",
    "X_val_scaled = scaler.transform(X_val_split)\n",
    "X_test_scaled = scaler.transform(X_test)  # Don't forget to scale test data"
   ],
   "id": "4b929f3c52c9b9b8",
   "outputs": [],
   "execution_count": 159
  },
  {
   "metadata": {
    "ExecuteTime": {
     "end_time": "2024-05-29T08:30:36.744725Z",
     "start_time": "2024-05-29T08:30:36.737273Z"
    }
   },
   "cell_type": "code",
   "source": [
    "class TextDataset(Dataset):\n",
    "    def __init__(self, features, labels=None):\n",
    "        self.features = torch.tensor(features, dtype=torch.float32)\n",
    "        self.labels = torch.tensor(labels, dtype=torch.long) if labels is not None else None\n",
    "\n",
    "    def __len__(self):\n",
    "        return len(self.features)\n",
    "\n",
    "    def __getitem__(self, idx):\n",
    "        if self.labels is not None:\n",
    "            return self.features[idx], self.labels[idx]\n",
    "        return self.features[idx]\n",
    "\n",
    "\n",
    "batch_size = 32\n",
    "train_dataset = TextDataset(X_train_scaled, y_train_split.values)\n",
    "val_dataset = TextDataset(X_val_scaled, y_val_split.values)\n",
    "train_loader = DataLoader(train_dataset, batch_size=batch_size, shuffle=True)\n",
    "val_loader = DataLoader(val_dataset, batch_size=batch_size, shuffle=False)"
   ],
   "id": "e3fecf7c3406e073",
   "outputs": [],
   "execution_count": 160
  },
  {
   "metadata": {
    "ExecuteTime": {
     "end_time": "2024-05-29T08:30:36.754552Z",
     "start_time": "2024-05-29T08:30:36.745730Z"
    }
   },
   "cell_type": "code",
   "source": [
    "class SimpleNN(nn.Module):\n",
    "    def __init__(self, input_size, num_classes):\n",
    "        super(SimpleNN, self).__init__()\n",
    "        self.fc1 = nn.Linear(input_size, 512)\n",
    "        self.relu = nn.ReLU()\n",
    "        self.fc2 = nn.Linear(512, 256)\n",
    "        self.fc3 = nn.Linear(256, 128)\n",
    "        self.fc4 = nn.Linear(128, num_classes)\n",
    "\n",
    "    def forward(self, x):\n",
    "        out = self.fc1(x)\n",
    "        out = self.relu(out)\n",
    "        out = self.fc2(out)\n",
    "        out = self.relu(out)\n",
    "        out = self.fc3(out)\n",
    "        out = self.relu(out)\n",
    "        out = self.fc4(out)\n",
    "        return out\n",
    "\n",
    "\n",
    "input_size = X_train_scaled.shape[1]\n",
    "num_classes = 2\n",
    "learning_rate = 0.001\n",
    "num_epochs = 20\n",
    "\n",
    "model = SimpleNN(input_size, num_classes)\n",
    "model.to(device)\n"
   ],
   "id": "3605a07f92c62afb",
   "outputs": [
    {
     "data": {
      "text/plain": [
       "SimpleNN(\n",
       "  (fc1): Linear(in_features=870, out_features=512, bias=True)\n",
       "  (relu): ReLU()\n",
       "  (fc2): Linear(in_features=512, out_features=256, bias=True)\n",
       "  (fc3): Linear(in_features=256, out_features=128, bias=True)\n",
       "  (fc4): Linear(in_features=128, out_features=2, bias=True)\n",
       ")"
      ]
     },
     "execution_count": 161,
     "metadata": {},
     "output_type": "execute_result"
    }
   ],
   "execution_count": 161
  },
  {
   "metadata": {
    "ExecuteTime": {
     "end_time": "2024-05-29T08:30:36.760231Z",
     "start_time": "2024-05-29T08:30:36.755510Z"
    }
   },
   "cell_type": "code",
   "source": [
    "# Определение весов классов\n",
    "class_weights = compute_class_weight('balanced', classes=np.unique(y_train_split), y=y_train_split)\n",
    "class_weights = torch.tensor(class_weights, dtype=torch.float).to(device)"
   ],
   "id": "686774f556e12aaa",
   "outputs": [],
   "execution_count": 162
  },
  {
   "metadata": {
    "ExecuteTime": {
     "end_time": "2024-05-29T08:30:54.765484Z",
     "start_time": "2024-05-29T08:30:36.761424Z"
    }
   },
   "cell_type": "code",
   "source": [
    "# Обновление функции потерь с учетом весов классов\n",
    "criterion = nn.CrossEntropyLoss(weight=class_weights)\n",
    "optimizer = optim.Adam(model.parameters(), lr=learning_rate)\n",
    "\n",
    "for epoch in range(num_epochs):\n",
    "    model.train()\n",
    "    for features, labels in train_loader:\n",
    "        features, labels = features.to(device), labels.to(device)\n",
    "        outputs = model(features)\n",
    "        loss = criterion(outputs, labels)\n",
    "\n",
    "        optimizer.zero_grad()\n",
    "        loss.backward()\n",
    "        optimizer.step()\n",
    "\n",
    "    model.eval()\n",
    "    val_predictions = []\n",
    "    val_labels = []\n",
    "    with torch.no_grad():\n",
    "        for features, labels in val_loader:\n",
    "            features, labels = features.to(device), labels.to(device)\n",
    "            outputs = model(features)\n",
    "            _, predicted = torch.max(outputs.data, 1)\n",
    "            val_predictions.extend(predicted.cpu().numpy())\n",
    "            val_labels.extend(labels.cpu().numpy())\n",
    "\n",
    "    val_f1 = f1_score(val_labels, val_predictions, average='weighted')\n",
    "    print(f\"Epoch [{epoch + 1}/{num_epochs}], Validation F1-score: {val_f1:.4f}\")"
   ],
   "id": "926c32154874b3d8",
   "outputs": [
    {
     "name": "stdout",
     "output_type": "stream",
     "text": [
      "Epoch [1/20], Validation F1-score: 0.7501\n",
      "Epoch [2/20], Validation F1-score: 0.7247\n",
      "Epoch [3/20], Validation F1-score: 0.7336\n",
      "Epoch [4/20], Validation F1-score: 0.7530\n",
      "Epoch [5/20], Validation F1-score: 0.7075\n",
      "Epoch [6/20], Validation F1-score: 0.7407\n",
      "Epoch [7/20], Validation F1-score: 0.7043\n",
      "Epoch [8/20], Validation F1-score: 0.7507\n",
      "Epoch [9/20], Validation F1-score: 0.6944\n",
      "Epoch [10/20], Validation F1-score: 0.7494\n",
      "Epoch [11/20], Validation F1-score: 0.7303\n",
      "Epoch [12/20], Validation F1-score: 0.7303\n",
      "Epoch [13/20], Validation F1-score: 0.7264\n",
      "Epoch [14/20], Validation F1-score: 0.7282\n",
      "Epoch [15/20], Validation F1-score: 0.7307\n",
      "Epoch [16/20], Validation F1-score: 0.7070\n",
      "Epoch [17/20], Validation F1-score: 0.7416\n",
      "Epoch [18/20], Validation F1-score: 0.7160\n",
      "Epoch [19/20], Validation F1-score: 0.7482\n",
      "Epoch [20/20], Validation F1-score: 0.7419\n"
     ]
    }
   ],
   "execution_count": 163
  },
  {
   "metadata": {
    "ExecuteTime": {
     "end_time": "2024-05-29T08:30:55.104464Z",
     "start_time": "2024-05-29T08:30:54.767053Z"
    }
   },
   "cell_type": "code",
   "source": [
    "test_dataset = TextDataset(X_test_scaled)\n",
    "test_loader = DataLoader(test_dataset, batch_size=batch_size, shuffle=False)\n",
    "\n",
    "model.eval()\n",
    "test_predictions = []\n",
    "with torch.no_grad():\n",
    "    for features in test_loader:\n",
    "        features = features.to(device)\n",
    "        outputs = model(features)\n",
    "        _, predicted = torch.max(outputs.data, 1)\n",
    "        test_predictions.extend(predicted.cpu().numpy())\n",
    "\n",
    "print(f\"Количество предсказаний: {len(test_predictions)}\")\n",
    "print(f\"Количество строк в test_groups: {len(test_groups)}\")"
   ],
   "id": "789fef0dd4581b3b",
   "outputs": [
    {
     "name": "stdout",
     "output_type": "stream",
     "text": [
      "Количество предсказаний: 16627\n",
      "Количество строк в test_groups: 16627\n"
     ]
    }
   ],
   "execution_count": 164
  },
  {
   "metadata": {
    "ExecuteTime": {
     "end_time": "2024-05-29T08:48:34.393786Z",
     "start_time": "2024-05-29T08:48:34.360288Z"
    }
   },
   "cell_type": "code",
   "source": [
    "if len(test_predictions) == len(test_groups):\n",
    "    submission = test_groups[['pair_id']].copy()\n",
    "    submission['target'] = test_predictions\n",
    "    submission.to_csv('submission.csv', index=False)\n",
    "    print('Файл с предсказаниями создан: submission.csv')\n",
    "else:\n",
    "    print(\"Ошибка: количество предсказаний не совпадает с количеством строк в test_groups\")"
   ],
   "id": "93b2c1e3cffe5fdb",
   "outputs": [
    {
     "name": "stdout",
     "output_type": "stream",
     "text": [
      "Файл с предсказаниями создан: submission.csv\n"
     ]
    }
   ],
   "execution_count": 166
  },
  {
   "metadata": {},
   "cell_type": "code",
   "outputs": [],
   "execution_count": null,
   "source": "",
   "id": "79343a30384dcb92"
  }
 ],
 "metadata": {
  "kernelspec": {
   "display_name": "Python 3",
   "language": "python",
   "name": "python3"
  },
  "language_info": {
   "codemirror_mode": {
    "name": "ipython",
    "version": 2
   },
   "file_extension": ".py",
   "mimetype": "text/x-python",
   "name": "python",
   "nbconvert_exporter": "python",
   "pygments_lexer": "ipython2",
   "version": "2.7.6"
  }
 },
 "nbformat": 4,
 "nbformat_minor": 5
}
