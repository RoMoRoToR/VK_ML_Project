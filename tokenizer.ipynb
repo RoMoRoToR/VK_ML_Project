{
 "cells": [
  {
   "metadata": {
    "ExecuteTime": {
     "end_time": "2024-06-02T08:28:15.599193Z",
     "start_time": "2024-06-02T08:28:10.973309Z"
    }
   },
   "cell_type": "code",
   "source": [
    "import pandas as pd\n",
    "import numpy as np\n",
    "import re\n",
    "import nltk\n",
    "import pymorphy2\n",
    "import patoolib\n",
    "import os\n",
    "from collections import Counter\n",
    "from nltk.tokenize import word_tokenize\n",
    "from nltk.corpus import stopwords\n",
    "from nltk.stem.snowball import SnowballStemmer\n",
    "from transformers import BertTokenizer, BertModel\n",
    "import torch\n",
    "from sklearn.feature_extraction.text import TfidfVectorizer\n",
    "from sklearn.model_selection import train_test_split, GroupShuffleSplit, GridSearchCV\n",
    "from sklearn.preprocessing import StandardScaler\n",
    "from sklearn.metrics.pairwise import cosine_similarity\n",
    "from sklearn.metrics import f1_score, precision_recall_curve, classification_report, accuracy_score\n",
    "from catboost import CatBoostClassifier, Pool\n",
    "from tqdm import tqdm\n",
    "from bs4 import BeautifulSoup\n",
    "from sklearn.neighbors import KNeighborsClassifier\n",
    "from sklearn.ensemble import RandomForestClassifier\n",
    "from sklearn.svm import SVC\n",
    "from sklearn.linear_model import LogisticRegression\n",
    "from sklearn.base import BaseEstimator, ClassifierMixin\n",
    "from sklearn.ensemble import StackingClassifier\n",
    "import warnings\n",
    "from sklearn.cluster import DBSCAN\n",
    "warnings.filterwarnings(\"ignore\")"
   ],
   "id": "3d78c70a9948201d",
   "outputs": [
    {
     "name": "stderr",
     "output_type": "stream",
     "text": [
      "/Users/taniyashuba/PycharmProjects/VK_ML_Project/venv/lib/python3.9/site-packages/urllib3/__init__.py:35: NotOpenSSLWarning: urllib3 v2 only supports OpenSSL 1.1.1+, currently the 'ssl' module is compiled with 'LibreSSL 2.8.3'. See: https://github.com/urllib3/urllib3/issues/3020\n",
      "  warnings.warn(\n"
     ]
    }
   ],
   "execution_count": 9
  },
  {
   "metadata": {},
   "cell_type": "markdown",
   "source": "# Загрузка данных",
   "id": "c83ec499f8fd8200"
  },
  {
   "metadata": {
    "ExecuteTime": {
     "end_time": "2024-06-02T08:28:15.659469Z",
     "start_time": "2024-06-02T08:28:15.602103Z"
    }
   },
   "cell_type": "code",
   "source": [
    "# Загрузка данных\n",
    "train_groups = pd.read_csv('train_groups.csv')\n",
    "test_groups = pd.read_csv('test_groups.csv')\n",
    "sample_submission = pd.read_csv('sample_submission.csv')\n",
    "docs_titles = pd.read_csv('docs_titles.tsv', sep='\\t')"
   ],
   "id": "36b62dd738ced4bb",
   "outputs": [],
   "execution_count": 10
  },
  {
   "metadata": {
    "ExecuteTime": {
     "end_time": "2024-06-02T08:28:15.667730Z",
     "start_time": "2024-06-02T08:28:15.660379Z"
    }
   },
   "cell_type": "code",
   "source": [
    "# Объединение заголовков с данными групп\n",
    "train_data = train_groups.merge(docs_titles, on='doc_id')\n",
    "test_data = test_groups.merge(docs_titles, on='doc_id', how='left')"
   ],
   "id": "6ba9813d660cbbf4",
   "outputs": [],
   "execution_count": 11
  },
  {
   "metadata": {
    "ExecuteTime": {
     "end_time": "2024-06-02T08:28:26.020978Z",
     "start_time": "2024-06-02T08:28:15.669145Z"
    }
   },
   "cell_type": "code",
   "source": [
    "# Загрузка данных из дополнительного файла\n",
    "additional_data = pd.read_csv('doc_texts_processed.tsv', sep='\\t')"
   ],
   "id": "868dd54fc60dddb3",
   "outputs": [],
   "execution_count": 12
  },
  {
   "metadata": {
    "ExecuteTime": {
     "end_time": "2024-06-02T08:28:26.040121Z",
     "start_time": "2024-06-02T08:28:26.026340Z"
    }
   },
   "cell_type": "code",
   "source": [
    "# Объединение дополнительного файла с основными данными\n",
    "train_data = train_data.merge(additional_data, on='doc_id', how='left', suffixes=('', '_add'))\n",
    "test_data = test_data.merge(additional_data, on='doc_id', how='left', suffixes=('', '_add'))"
   ],
   "id": "9f4eff3e5dac08e",
   "outputs": [],
   "execution_count": 13
  },
  {
   "metadata": {
    "ExecuteTime": {
     "end_time": "2024-06-02T08:28:26.048996Z",
     "start_time": "2024-06-02T08:28:26.044528Z"
    }
   },
   "cell_type": "code",
   "source": [
    "# Проверка наличия дополнительного столбца и его обработка\n",
    "if 'text_processed_add' in train_data.columns:\n",
    "    train_data['title'].fillna(train_data['text_processed_add'], inplace=True)\n",
    "if 'text_processed_add' in test_data.columns:\n",
    "    test_data['title'].fillna(test_data['text_processed_add'], inplace=True)"
   ],
   "id": "9ef0938b4583b0",
   "outputs": [],
   "execution_count": 14
  },
  {
   "metadata": {
    "ExecuteTime": {
     "end_time": "2024-06-02T08:28:26.060289Z",
     "start_time": "2024-06-02T08:28:26.052274Z"
    }
   },
   "cell_type": "code",
   "source": [
    "# Просмотр пропусков\n",
    "train_data.isna().sum(), test_data.isna().sum()"
   ],
   "id": "ef47e250d254fd29",
   "outputs": [
    {
     "data": {
      "text/plain": [
       "(pair_id            0\n",
       " group_id           0\n",
       " doc_id             0\n",
       " target             0\n",
       " title             16\n",
       " text_processed     0\n",
       " dtype: int64,\n",
       " pair_id               0\n",
       " group_id              0\n",
       " doc_id                0\n",
       " title                92\n",
       " text_processed    16485\n",
       " dtype: int64)"
      ]
     },
     "execution_count": 15,
     "metadata": {},
     "output_type": "execute_result"
    }
   ],
   "execution_count": 15
  },
  {
   "metadata": {
    "ExecuteTime": {
     "end_time": "2024-06-02T08:28:26.064358Z",
     "start_time": "2024-06-02T08:28:26.060991Z"
    }
   },
   "cell_type": "code",
   "source": [
    "# Заполнение оставшихся пропусков пустыми строками\n",
    "train_data['title'].fillna('', inplace=True)\n",
    "test_data['title'].fillna('', inplace=True)"
   ],
   "id": "e1bfaa523615732d",
   "outputs": [],
   "execution_count": 16
  },
  {
   "metadata": {},
   "cell_type": "markdown",
   "source": "# Предобработка данных\n",
   "id": "24f4166d7c4a935d"
  },
  {
   "metadata": {
    "ExecuteTime": {
     "end_time": "2024-06-02T08:28:26.414264Z",
     "start_time": "2024-06-02T08:28:26.065127Z"
    }
   },
   "cell_type": "code",
   "source": [
    "# Загрузка данных для NLTK\n",
    "nltk.download('punkt')\n",
    "nltk.download('stopwords')\n",
    "nltk.download('wordnet')"
   ],
   "id": "da659d1f9f2bab5d",
   "outputs": [
    {
     "name": "stderr",
     "output_type": "stream",
     "text": [
      "[nltk_data] Downloading package punkt to\n",
      "[nltk_data]     /Users/taniyashuba/nltk_data...\n",
      "[nltk_data]   Package punkt is already up-to-date!\n",
      "[nltk_data] Downloading package stopwords to\n",
      "[nltk_data]     /Users/taniyashuba/nltk_data...\n",
      "[nltk_data]   Package stopwords is already up-to-date!\n",
      "[nltk_data] Downloading package wordnet to\n",
      "[nltk_data]     /Users/taniyashuba/nltk_data...\n",
      "[nltk_data]   Package wordnet is already up-to-date!\n"
     ]
    },
    {
     "data": {
      "text/plain": [
       "True"
      ]
     },
     "execution_count": 17,
     "metadata": {},
     "output_type": "execute_result"
    }
   ],
   "execution_count": 17
  },
  {
   "metadata": {
    "ExecuteTime": {
     "end_time": "2024-06-02T08:28:26.419817Z",
     "start_time": "2024-06-02T08:28:26.416762Z"
    }
   },
   "cell_type": "code",
   "source": [
    "# Стоп-слова и шум\n",
    "stop_words = set(stopwords.words('russian')) | set(stopwords.words('english'))"
   ],
   "id": "37069c189bcd794c",
   "outputs": [],
   "execution_count": 18
  },
  {
   "metadata": {
    "ExecuteTime": {
     "end_time": "2024-06-02T08:28:44.576230Z",
     "start_time": "2024-06-02T08:28:26.420402Z"
    }
   },
   "cell_type": "code",
   "source": [
    "# Пробуем стеммер или леммер\n",
    "stemmer = SnowballStemmer(\"russian\")\n",
    "morph = pymorphy2.MorphAnalyzer()\n",
    "\n",
    "\n",
    "def preprocess_text(text):\n",
    "    \"\"\"\n",
    "    Токенизация + лемматизация/стемминг текста\n",
    "    \"\"\"\n",
    "    text = re.sub(r'<.*?>', '', text)  # Удаление HTML-тегов\n",
    "    text = re.sub(r'[^a-zA-Zа-яА-Я0-9\\s]', '', text.lower())  # Удаление спецсимволов\n",
    "    tokens = word_tokenize(text.lower())\n",
    "    tokens = [token for token in tokens if token not in stop_words and not token.isdigit()]\n",
    "    tokens = [morph.parse(word)[0].normal_form for word in tokens]\n",
    "    return tokens\n",
    "\n",
    "\n",
    "train_data['title_processed'] = train_data['title'].apply(preprocess_text)\n",
    "test_data['title_processed'] = test_data['title'].apply(preprocess_text)"
   ],
   "id": "74476b707060975b",
   "outputs": [],
   "execution_count": 19
  },
  {
   "metadata": {},
   "cell_type": "markdown",
   "source": "# Векторизация BERT",
   "id": "68e47fd577455b13"
  },
  {
   "metadata": {
    "ExecuteTime": {
     "end_time": "2024-06-02T08:45:51.631376Z",
     "start_time": "2024-06-02T08:28:44.577121Z"
    }
   },
   "cell_type": "code",
   "source": [
    "# Векторизация с помощью BERT\n",
    "device = torch.device('cuda' if torch.cuda.is_available() else 'cpu')\n",
    "tokenizer = BertTokenizer.from_pretrained('bert-base-uncased')\n",
    "model = BertModel.from_pretrained('bert-base-uncased').to(device)\n",
    "\n",
    "\n",
    "def get_bert_embeddings(text):\n",
    "    inputs = tokenizer(text, padding=True, truncation=True, max_length=512, return_tensors=\"pt\").to(device)\n",
    "    with torch.no_grad():\n",
    "        outputs = model(**inputs)\n",
    "    return outputs.last_hidden_state[:, 0, :].squeeze().cpu()\n",
    "\n",
    "\n",
    "train_data['title_embeddings'] = train_data['title'].apply(lambda x: get_bert_embeddings(x).numpy())\n",
    "test_data['title_embeddings'] = test_data['title'].apply(lambda x: get_bert_embeddings(x).numpy())"
   ],
   "id": "ae35e4e970eba7d8",
   "outputs": [],
   "execution_count": 20
  },
  {
   "metadata": {
    "ExecuteTime": {
     "end_time": "2024-06-02T08:45:51.667014Z",
     "start_time": "2024-06-02T08:45:51.632558Z"
    }
   },
   "cell_type": "code",
   "source": [
    "# Создание фичей\n",
    "def embeddings_to_features(data, column_prefix):\n",
    "    \"\"\"\n",
    "    Преобразуем эмбеддинги в фичи\n",
    "    \"\"\"\n",
    "    embeddings = np.stack(data[column_prefix + '_embeddings'].values)\n",
    "    feature_names = [f\"{column_prefix}_embedding_{i}\" for i in range(embeddings.shape[1])]\n",
    "    features_df = pd.DataFrame(embeddings, columns=feature_names, index=data.index)\n",
    "    return features_df\n",
    "\n",
    "\n",
    "train_features = embeddings_to_features(train_data, 'title')\n",
    "test_features = embeddings_to_features(test_data, 'title')"
   ],
   "id": "20e7c8eacaa35bed",
   "outputs": [],
   "execution_count": 21
  },
  {
   "metadata": {
    "ExecuteTime": {
     "end_time": "2024-06-02T08:45:51.711659Z",
     "start_time": "2024-06-02T08:45:51.667785Z"
    }
   },
   "cell_type": "code",
   "source": [
    "def add_new_features(data):\n",
    "    \"\"\"\n",
    "    Добавляем новые признаки: длина заголовка и число уникальных слов\n",
    "    \"\"\"\n",
    "    data['title_length'] = data['title'].apply(lambda x: len(x.split()))\n",
    "    data['unique_words'] = data['title_processed'].apply(lambda x: len(set(x)))\n",
    "    return data\n",
    "\n",
    "\n",
    "train_data = add_new_features(train_data)\n",
    "test_data = add_new_features(test_data)"
   ],
   "id": "733a18e8d949b9b6",
   "outputs": [],
   "execution_count": 22
  },
  {
   "metadata": {},
   "cell_type": "markdown",
   "source": "## Косинусные сходства Tfidf",
   "id": "a72604d2538f83b1"
  },
  {
   "metadata": {
    "ExecuteTime": {
     "end_time": "2024-06-02T08:45:51.715187Z",
     "start_time": "2024-06-02T08:45:51.712606Z"
    }
   },
   "cell_type": "code",
   "source": [
    "def vectorize_group(group):\n",
    "    \"\"\"\n",
    "    Векторизуем группу документов с кастомным токенайзером\n",
    "    \"\"\"\n",
    "    vectorizer = TfidfVectorizer(tokenizer=preprocess_text)\n",
    "    vectors = vectorizer.fit_transform(group['title'])\n",
    "    return vectors"
   ],
   "id": "f6a8ecced68d7525",
   "outputs": [],
   "execution_count": 23
  },
  {
   "metadata": {
    "ExecuteTime": {
     "end_time": "2024-06-02T08:45:51.718590Z",
     "start_time": "2024-06-02T08:45:51.716261Z"
    }
   },
   "cell_type": "code",
   "source": [
    "def cosine_matrix_group(group):\n",
    "    \"\"\"\n",
    "    Вычисление матрицы косинусных расстояний для группы\n",
    "    \"\"\"\n",
    "    tfidf_matrix = vectorize_group(group)\n",
    "    cosine_matrix = cosine_similarity(tfidf_matrix)\n",
    "    return cosine_matrix"
   ],
   "id": "4a21962e29071b19",
   "outputs": [],
   "execution_count": 24
  },
  {
   "metadata": {
    "ExecuteTime": {
     "end_time": "2024-06-02T08:45:51.723281Z",
     "start_time": "2024-06-02T08:45:51.719534Z"
    }
   },
   "cell_type": "code",
   "source": [
    "def calc_cosine_similarity(data_grouped, count=10):\n",
    "    \"\"\"\n",
    "    Возвращаем топ косинусных сходств для каждого документа группы\n",
    "    \"\"\"\n",
    "    similarity_features_list = []\n",
    "    for name, group in tqdm(data_grouped, desc=\"Processing groups\"):\n",
    "        cosine_matrix = cosine_matrix_group(group)\n",
    "        for k, (idx, row) in enumerate(group.iterrows()):\n",
    "            similarities = []\n",
    "            for j in range(len(group)):\n",
    "                if k == j:\n",
    "                    continue\n",
    "                similarities.append(cosine_matrix[k, j])\n",
    "            top_similarities = sorted(similarities, reverse=True)[:count]\n",
    "            similarity_record = [row['pair_id']] + top_similarities\n",
    "            similarity_features_list.append(similarity_record)\n",
    "    similarity_columns = ['pair_id'] + [f'top_{i + 1}_similarity' for i in range(count)]\n",
    "    similarity_features = pd.DataFrame(similarity_features_list, columns=similarity_columns)\n",
    "    return similarity_features"
   ],
   "id": "22bddb895b280cba",
   "outputs": [],
   "execution_count": 25
  },
  {
   "metadata": {
    "ExecuteTime": {
     "end_time": "2024-06-02T08:45:51.727807Z",
     "start_time": "2024-06-02T08:45:51.724436Z"
    }
   },
   "cell_type": "code",
   "source": [
    "# Кластеризация\n",
    "def clustering_features(data_grouped, eps=0.5, min_samples=5, metric='cosine'):\n",
    "    \"\"\"\n",
    "    Возвращаем кластер для каждого документа группы\n",
    "    \"\"\"\n",
    "    clustering_features_list = []\n",
    "    for name, group in tqdm(data_grouped, desc=\"Processing groups\"):\n",
    "        cosine_matrix = cosine_matrix_group(group)\n",
    "        dbscan = DBSCAN(eps=eps, min_samples=min_samples, metric=metric).fit(cosine_matrix)\n",
    "        cluster_labels = dbscan.labels_\n",
    "        for k, (idx, row) in enumerate(group.iterrows()):\n",
    "            clustering_record = [row['pair_id'], cluster_labels[k]]\n",
    "            clustering_features_list.append(clustering_record)\n",
    "    clustering_columns = ['pair_id', 'cluster']\n",
    "    clustering_features = pd.DataFrame(clustering_features_list, columns=clustering_columns)\n",
    "    return clustering_features"
   ],
   "id": "98aff02970d2327d",
   "outputs": [],
   "execution_count": 26
  },
  {
   "metadata": {},
   "cell_type": "markdown",
   "source": "# Объединение данных и фичей в датасет\n",
   "id": "11ae1d840d55348b"
  },
  {
   "metadata": {
    "ExecuteTime": {
     "end_time": "2024-06-02T08:45:51.731392Z",
     "start_time": "2024-06-02T08:45:51.729130Z"
    }
   },
   "cell_type": "code",
   "source": [
    "# Разбиваем train и test по группам на основе id\n",
    "train_data_grouped = train_data.groupby('group_id')\n",
    "test_data_grouped = test_data.groupby('group_id')"
   ],
   "id": "c25ab109c470cb76",
   "outputs": [],
   "execution_count": 27
  },
  {
   "metadata": {
    "ExecuteTime": {
     "end_time": "2024-06-02T08:46:31.965009Z",
     "start_time": "2024-06-02T08:45:51.732158Z"
    }
   },
   "cell_type": "code",
   "source": [
    "# Фичи для трейна и теста\n",
    "train_similarity_features = calc_cosine_similarity(train_data_grouped)\n",
    "train_clustering_features = clustering_features(train_data_grouped)\n",
    "\n",
    "test_similarity_features = calc_cosine_similarity(test_data_grouped)\n",
    "test_clustering_features = clustering_features(test_data_grouped)"
   ],
   "id": "2ed950a48eb5f1e6",
   "outputs": [
    {
     "name": "stderr",
     "output_type": "stream",
     "text": [
      "Processing groups: 100%|██████████| 129/129 [00:07<00:00, 16.33it/s]\n",
      "Processing groups: 100%|██████████| 129/129 [00:08<00:00, 15.36it/s]\n",
      "Processing groups: 100%|██████████| 180/180 [00:11<00:00, 16.08it/s]\n",
      "Processing groups: 100%|██████████| 180/180 [00:12<00:00, 14.56it/s]\n"
     ]
    }
   ],
   "execution_count": 28
  },
  {
   "metadata": {
    "ExecuteTime": {
     "end_time": "2024-06-02T08:46:31.973962Z",
     "start_time": "2024-06-02T08:46:31.967408Z"
    }
   },
   "cell_type": "code",
   "source": [
    "# Заполняем пропуски нулями\n",
    "train_similarity_features = train_similarity_features.fillna(0)\n",
    "test_similarity_features = test_similarity_features.fillna(0)"
   ],
   "id": "ebaf66a9fc17afe3",
   "outputs": [],
   "execution_count": 29
  },
  {
   "metadata": {
    "ExecuteTime": {
     "end_time": "2024-06-02T08:46:32.008171Z",
     "start_time": "2024-06-02T08:46:31.977117Z"
    }
   },
   "cell_type": "code",
   "source": [
    "# Объединяем новые признаки с исходным датасетом\n",
    "train_data = train_data.merge(train_similarity_features, on=['pair_id'])\n",
    "train_data = train_data.merge(train_clustering_features, on=['pair_id'])\n",
    "\n",
    "test_data = test_data.merge(test_similarity_features, on=['pair_id'])\n",
    "test_data = test_data.merge(test_clustering_features, on=['pair_id'])"
   ],
   "id": "9443cc930aa9f4f3",
   "outputs": [],
   "execution_count": 30
  },
  {
   "metadata": {
    "ExecuteTime": {
     "end_time": "2024-06-02T08:46:32.039661Z",
     "start_time": "2024-06-02T08:46:32.010965Z"
    }
   },
   "cell_type": "code",
   "source": [
    "# Объединяем с BERT признаками\n",
    "train_data = pd.concat([train_data, train_features], axis=1)\n",
    "test_data = pd.concat([test_data, test_features], axis=1)"
   ],
   "id": "f6c8c5cc5f5b9dd9",
   "outputs": [],
   "execution_count": 31
  },
  {
   "metadata": {
    "ExecuteTime": {
     "end_time": "2024-06-02T08:53:12.359593Z",
     "start_time": "2024-06-02T08:53:12.334524Z"
    }
   },
   "cell_type": "code",
   "source": [
    "# Удаление ненужных столбцов, если они существуют\n",
    "drop_columns = ['text_processed_add', 'title_embeddings']\n",
    "train_data.drop(columns=[col for col in drop_columns if col in train_data.columns], inplace=True)\n",
    "test_data.drop(columns=[col for col in drop_columns if col in test_data.columns], inplace=True)"
   ],
   "id": "7af84b124b2091d",
   "outputs": [],
   "execution_count": 36
  },
  {
   "metadata": {
    "ExecuteTime": {
     "end_time": "2024-06-02T08:53:28.607828Z",
     "start_time": "2024-06-02T08:53:28.568719Z"
    }
   },
   "cell_type": "code",
   "source": [
    "# Проверка на дубликаты\n",
    "train_data = train_data.drop_duplicates(subset=['doc_id', 'pair_id', 'group_id'], keep='first')\n",
    "\n",
    "X_train = train_data.drop(columns=['doc_id', 'pair_id', 'group_id', 'target', 'title', 'title_processed'], axis=1)\n",
    "y_train = train_data['target']\n",
    "\n",
    "X_test = test_data.drop(columns=['doc_id', 'pair_id', 'group_id', 'title', 'title_processed'], axis=1)"
   ],
   "id": "96e17bb055557b2a",
   "outputs": [],
   "execution_count": 37
  },
  {
   "metadata": {
    "ExecuteTime": {
     "end_time": "2024-06-02T08:54:03.039961Z",
     "start_time": "2024-06-02T08:54:03.037233Z"
    }
   },
   "cell_type": "code",
   "source": [
    "print(f\"Length of train_groups: {len(train_groups)}\")\n",
    "print(f\"Length of train_data after merging with docs_titles: {len(train_data)}\")\n",
    "print(f\"Length of train_data after merging with additional_data: {len(train_data)}\")\n",
    "print(f\"Length of X_train: {len(X_train)}\")\n",
    "print(f\"Length of y_train: {len(y_train)}\")"
   ],
   "id": "f5248722dac93d8c",
   "outputs": [
    {
     "name": "stdout",
     "output_type": "stream",
     "text": [
      "Length of train_groups: 11690\n",
      "Length of train_data after merging with docs_titles: 11690\n",
      "Length of train_data after merging with additional_data: 11690\n",
      "Length of X_train: 11690\n",
      "Length of y_train: 11690\n"
     ]
    }
   ],
   "execution_count": 38
  },
  {
   "metadata": {
    "ExecuteTime": {
     "end_time": "2024-06-02T08:54:04.192855Z",
     "start_time": "2024-06-02T08:54:04.190927Z"
    }
   },
   "cell_type": "code",
   "source": [
    "# Убедитесь, что все переменные имеют одинаковую длину\n",
    "assert len(X_train) == len(y_train) == len(train_data)"
   ],
   "id": "ad57276ce0278ee5",
   "outputs": [],
   "execution_count": 39
  },
  {
   "metadata": {
    "ExecuteTime": {
     "end_time": "2024-06-02T08:54:05.358516Z",
     "start_time": "2024-06-02T08:54:05.349358Z"
    }
   },
   "cell_type": "code",
   "source": [
    "# Разделение данных на обучающую и валидационную выборки\n",
    "splitter = GroupShuffleSplit(n_splits=1, test_size=0.3, random_state=42)\n",
    "train_indices, val_indices = next(splitter.split(X_train, y_train, groups=train_data['group_id']))\n",
    "\n",
    "X_train_split = X_train.iloc[train_indices]\n",
    "y_train_split = y_train.iloc[train_indices]\n",
    "\n",
    "X_val_split = X_train.iloc[val_indices]\n",
    "y_val_split = y_train.iloc[val_indices]"
   ],
   "id": "e48c47fe5a1f277f",
   "outputs": [],
   "execution_count": 40
  },
  {
   "metadata": {},
   "cell_type": "markdown",
   "source": "# Настройка параметров базовых моделей\n",
   "id": "46ef2af3908467f7"
  },
  {
   "metadata": {
    "ExecuteTime": {
     "end_time": "2024-06-02T09:12:48.243368Z",
     "start_time": "2024-06-02T09:11:53.154088Z"
    }
   },
   "cell_type": "code",
   "source": [
    "# Настройка параметров базовых моделей\n",
    "knn_params = {'n_neighbors': [3, 5, 7, 10]}\n",
    "knn_grid = GridSearchCV(KNeighborsClassifier(), knn_params, cv=5, scoring='f1', n_jobs=-1)\n",
    "knn_grid.fit(X_train_split, y_train_split)\n",
    "best_knn = knn_grid.best_estimator_"
   ],
   "id": "faafd7acb2952328",
   "outputs": [
    {
     "ename": "ValueError",
     "evalue": "\nAll the 20 fits failed.\nIt is very likely that your model is misconfigured.\nYou can try to debug the error by setting error_score='raise'.\n\nBelow are more details about the failures:\n--------------------------------------------------------------------------------\n4 fits failed with the following error:\nTraceback (most recent call last):\n  File \"/Users/taniyashuba/PycharmProjects/VK_ML_Project/venv/lib/python3.9/site-packages/sklearn/model_selection/_validation.py\", line 888, in _fit_and_score\n    estimator.fit(X_train, y_train, **fit_params)\n  File \"/Users/taniyashuba/PycharmProjects/VK_ML_Project/venv/lib/python3.9/site-packages/sklearn/base.py\", line 1473, in wrapper\n    return fit_method(estimator, *args, **kwargs)\n  File \"/Users/taniyashuba/PycharmProjects/VK_ML_Project/venv/lib/python3.9/site-packages/sklearn/neighbors/_classification.py\", line 238, in fit\n    return self._fit(X, y)\n  File \"/Users/taniyashuba/PycharmProjects/VK_ML_Project/venv/lib/python3.9/site-packages/sklearn/neighbors/_base.py\", line 475, in _fit\n    X, y = self._validate_data(\n  File \"/Users/taniyashuba/PycharmProjects/VK_ML_Project/venv/lib/python3.9/site-packages/sklearn/base.py\", line 650, in _validate_data\n    X, y = check_X_y(X, y, **check_params)\n  File \"/Users/taniyashuba/PycharmProjects/VK_ML_Project/venv/lib/python3.9/site-packages/sklearn/utils/validation.py\", line 1273, in check_X_y\n    X = check_array(\n  File \"/Users/taniyashuba/PycharmProjects/VK_ML_Project/venv/lib/python3.9/site-packages/sklearn/utils/validation.py\", line 1007, in check_array\n    array = _asarray_with_order(array, order=order, dtype=dtype, xp=xp)\n  File \"/Users/taniyashuba/PycharmProjects/VK_ML_Project/venv/lib/python3.9/site-packages/sklearn/utils/_array_api.py\", line 746, in _asarray_with_order\n    array = numpy.asarray(array, order=order, dtype=dtype)\n  File \"/Users/taniyashuba/PycharmProjects/VK_ML_Project/venv/lib/python3.9/site-packages/pandas/core/generic.py\", line 2153, in __array__\n    arr = np.asarray(values, dtype=dtype)\nValueError: could not convert string to float: \"['заходить', 'местный', 'пункт', 'прима', 'металл', 'попадаться', 'вещь', 'который', 'сдавать', 'утиль', 'это', 'ещ', 'материал', 'который', 'сварганить', 'зайти', 'очередной', 'пункт', 'обнаружить', 'приличный', 'количество', 'нержавеющий', 'стать', 'лист', '5мм', 'толщина', 'профильный', 'мангал', 'сообщество', 'сделать', 'drive2', 'войти', 'почта', 'день', 'назад', 'заходить', 'местный', 'пункт', 'прима', 'металл', 'попадаться', 'вещь', 'который', 'сдавать', 'утиль', 'это', 'ещ', 'материал', 'который', 'сварганить', 'зайти', 'очередной', 'пункт', 'обнаружить', 'приличный', 'количество', 'нержавеющий', 'стать', 'лист', '5мм', 'толщина', 'профильный', 'труба', 'несколько', 'метр', 'сделаться', 'такой', 'год', 'нравиться', 'поделиться', 'участвовать', 'обсуждение', 'мочь', 'зарегистрировать', 'пользователь', 'войти', 'почта', 'сколь', 'это', 'хозяйство', 'достаться', 'металолом', 'бартер', 'взять', 'блин', 'интересно', 'сколько', 'такой', 'обойтись', 'бартер', 'деньга', 'повезт', 'рубль', 'продать', 'сколько', 'ты', 'вс', 'равно', 'спрашивать', 'откуда', 'деньга', 'внедорожник', 'один', 'монстр', 'классно', 'получиться', 'колесо', 'маловатый', 'спасибо', 'плитка', 'бетон', 'катить', 'мягенький', 'морг', 'спизлить', 'жутковатый', 'выглядеть', 'классно', 'туда', 'пара', 'окрававленный', 'тампон', 'зап', 'зажим', 'скальпель', 'резиновый', 'перчатка', 'тайна', 'ростовский', 'маньяк', 'раскрыть', 'ребята', 'богатый', 'фантазия', 'это', 'здорово', 'больница', 'зачастую', 'вс', 'чернуха', 'сделать', 'морг', 'чтоб', 'каталка', 'нержиэта', 'прям', 'ващий', 'что', 'искать', 'другой', 'сравнение', 'выездной', 'рабочий', 'место', 'патологоанатом', 'вообще', 'шикарно', 'получиться', 'ухах', 'даж', 'кушать', 'хочеться', 'ответ', 'комментарий', 'ухах', 'даж', 'кушать', 'хочеться', 'кушать', 'ахахакрасаваутро', 'ответ', 'комментарий', 'кушать', 'эт', 'ващий', 'печаль', 'камин', 'дом', 'мангал', 'разборный', 'природа', 'любить', 'деревянный', 'рогулька', 'берег', 'река', 'кушать', 'дом', 'практически', 'жарить', 'процесс', 'жарка', 'мясо', 'огонь', 'напоминать', 'человек', 'природа', 'охотник', 'различный', 'мангал', 'сердечко', 'вид', 'паровоз', 'это', 'обычный', 'фалометрия', 'кто', 'простой', 'разборный', 'удобство', 'согласный', 'мясо', 'принцип', 'гуд', 'поэтому', 'мангал', 'мало', 'интересовать', 'это', 'исключение', 'респект', 'нержавейка', 'это', 'часто', 'последний', 'время', 'лента', 'мангал', 'недавно', 'мм', 'сделать', 'месяц', 'эстетика', 'другой', 'дело', 'нержавейка', 'делать', 'сильно', 'вести', 'нержавейка', 'разный', 'бывать', 'знать', 'ответ', 'комментарий', 'нержавейка', 'разный', 'бывать', 'сделать', 'мангал', 'нужно', 'хозяин', 'спросить', 'ты', 'будущее', 'любой', 'нержавейка', 'везти', 'сталь', 'ответ', 'комментарий', 'нужно', 'хозяин', 'спросить', 'очень', 'больший', 'желание', 'спросить', 'делать', 'мангал', 'нержа', 'ведт', 'чернь', 'ёж', 'понятно', 'время', 'вид', 'иметь', 'превратиться', 'кусок', 'говно', 'ржавчина', 'вообще', 'мы', 'ты', 'вс', 'равно', 'сделать', 'похер', 'внешний', 'вид', 'нержавейка', 'нарушить', 'сварочный', 'шов', 'ответ', 'комментарий', 'сделать', 'мангал', 'лист', 'маркировка', 'примка', 'ответ', 'уклониться', 'ответ', 'комментарий', 'нержавейка', 'делать', 'сильно', 'вести', 'ответ', 'комментарий', 'мясо', 'принцип', 'гуд', 'поэтому', 'мангал', 'мало', 'интересовать', 'это', 'исключение', 'респект', 'нержавейка', 'это', 'часто', 'последний', 'время', 'лента', 'мангал', 'недавно', 'мм', 'сделать', 'месяц', 'эстетика', 'другой', 'дело', 'спасибо', 'класс', 'неплохо', 'получиться', 'колёсико', 'сомнительный', 'необходимость', 'простой', 'колёсико', 'штырь', 'лыжный', 'палка', 'садовый', 'тележка', 'таскать', 'весить', 'колесо', 'это', 'проблема', 'замена', 'колёсико', 'просто', 'получиться', 'шаткий', 'конструкция', 'колёсико', 'вращаться', 'вокруг', 'свой', 'свой', 'заблокировать', 'состояние', 'вращаться', 'вокруг', 'вертикальный', 'ось', 'должный', 'разблокировать', 'горизонтальный', 'другой', 'слово', 'крутиться', 'вокруг', 'жстко', 'закреплнный', 'колс', 'говорить', 'крутиться', 'говорить', 'шататься', 'эффект', 'десертный', 'столик', 'раздражать', 'торт', 'резать', 'устойчивый', 'согласный', 'сварной', 'шов', 'маленькиен', 'лопнуть', 'сам', 'мангал', 'катет', 'шов', 'большой', 'держать', 'каталка', 'хирургиипочий', 'делать', 'мангал', 'коптилка', 'прочее', 'нжпотому', 'нагрев', 'вести', 'разный', 'сторона', 'место', 'отличить', 'черняга', 'возвращается', 'норма', 'говорить', 'похожий', 'черняга', 'память', 'форма', 'место', 'вернться', 'ответ', 'комментарий', 'каталка', 'хирургиипочий', 'делать', 'мангал', 'коптилка', 'прочее', 'нжпотому', 'нагрев', 'вести', 'разный', 'сторона', 'место', 'отличить', 'черняга', 'возвращается', 'норма', 'оказаться', 'делать', 'ценник', 'жестьнадо', 'свой', 'расценка', 'пересмотреть', 'название', 'накрутка', 'ещ', 'реально', '4мм', '15х350х800', '1517тр', 'чувство', 'вкус', 'шашлык', 'нужно', 'сказать', 'удачно', 'зашлпо', 'чм', 'нержа', 'ломеработа', 'цена', 'везде', 'нержа', 'высокиеспасибо', 'оценка', 'частенько', 'металлолом', 'заглядываючрный', 'продавать', 'нерж', 'знать', 'ответ', 'комментарий', 'нужно', 'сказать', 'удачно', 'зашлпо', 'чм', 'нержа', 'ломеработа', 'нержавейка', 'делать', 'очень', 'сильно', 'вести', 'отличие', 'металл', 'нержавейка', 'купилведт', 'чрный', 'нержа', 'нерж', 'покупать', 'значит', 'ты', 'просто', 'зависть', 'кипитчто', 'человек', 'качественный', 'дешёвый', 'мангал', 'который', 'сильно', 'вести', 'специалист', 'мангаламоткуда', 'ты', 'известно', 'поведт', 'сам', 'мангал', 'нерожь', 'никуда', 'видт', 'разный', 'разный', 'конструкция', 'разный', 'металл', 'сталь', 'вести', 'вид', 'презентабельный', 'улица', 'хранить', 'классно', 'получиться', 'сосед', 'улица', 'шашлык', 'продавать', 'прямо', 'огонёк', 'спасибо', 'санкнижка', 'просрочить', 'скинуться', 'посидеть', 'отличный', 'работа', 'спасибо', '5мм', 'ого', 'супер', 'красота', 'спасибо', 'странно', 'сделать', 'прорезь', 'шампур', 'два', 'сторона', 'тот', 'фиксация', 'шампур', 'два', 'положение', 'нравиться', 'мангал', 'практически', 'идеальный', 'образец', 'нравиться', 'прорезь', 'естьшампур', 'мочь', 'фиксировать', 'хотеть', 'зря', 'низ', 'делать', 'спираль', 'фиксировать', 'шампур', 'спираль', 'сторона', 'мангал', 'должный', 'прорезь', 'канавка', 'пох', 'сторона', 'вообще', 'другой', 'сторона', 'ровный', 'главное', 'спираль', 'основание', 'вставляться', 'прорезь', 'вс', 'замечательный', 'вс', 'держаться', 'речь', 'пох', 'получаться', 'говно', 'русский', 'продукт', 'ты', 'вс', 'прекрасно', 'работать', 'изготовить', 'десятка', 'мангал', 'ножка', 'ручка', 'складный', 'сталь', 'ммпрорезь', 'один', 'сторона', 'вс', 'прекрасно', 'держать', 'человек', 'покупать', 'магазин', 'заводский', 'гавнона', 'либо', 'рынок', 'такой', 'самоделка', 'ответ', 'комментарий', 'странно', 'сделать', 'прорезь', 'шампур', 'два', 'сторона', 'тот', 'фиксация', 'шампур', 'два', 'положение', 'нравиться', 'мангал', 'практически', 'идеальный', 'образец', 'вс', 'правильно', 'шампур', 'плашмя', 'положить', 'прорезь', 'никуда', 'провернться', 'это', 'понятно', 'смысл', 'спираль', 'теряться', 'тк', 'шампур', 'иметь', 'четыре', 'положение', 'шаг', '90град', 'спираль', 'любой', 'положение', 'верно', 'ответ', 'комментарий', 'странно', 'сделать', 'прорезь', 'шампур', 'два', 'сторона', 'тот', 'фиксация', 'шампур', 'два', 'положение', 'нравиться', 'мангал', 'практически', 'идеальный', 'образец', 'ты', 'реклама', 'приплачивать', 'ливый', '2й', 'тема', 'ссылка', 'видеть', 'просто', 'хороший', 'мангал', 'видеть', 'ставить', 'пример', 'купить', 'купить', 'молодец', 'человек', 'сам', 'продумывать', 'сам', 'делать', 'это', 'достойный', 'уважение', 'очень', 'рад', 'правда', 'показывать', 'недочёт', 'который', 'очевидный', 'который', 'легко', 'исправить', 'недочты', 'это', 'ваш', 'мой', 'это', 'преимущество', 'шампур', 'любой', 'сторона', 'ставить', 'поворачивать', 'мангалда', 'прорезь', 'будея', 'мешать', 'шампур', 'угол', 'изначально', 'шампур', 'спираль', 'придумать', 'два', 'цель', 'это', 'маленький', 'нагреваться', 'ручка', 'второе', 'мясо', 'вертеть', 'плавно', 'равномерный', 'жарка', 'остальной', 'колхоз', 'общий', 'человек', 'сделать', 'колхозный', 'продукт', 'свой', 'рука', 'обычно', 'мотоболка', 'покупать', 'сделать', 'мотоблок', 'мотороллер', 'колхоз', 'который', 'страшно', 'смотреть', 'зато', 'свой', 'рука', 'кстати', 'ваш', 'отверстие', 'мангал', 'достаточно', 'встать', 'рак', 'дуть', 'страна', 'жить', 'столичный', 'зарплатуя', 'позволить', 'купить', 'мангал', 'нерожь', 'фирменный', 'мотоблок', 'далеко', 'могутпро', 'вопрос', 'наджность', 'самодельный', 'заводский', 'умолчать', 'желание', 'отверстие', 'рассверлить', 'свой', 'гламурный', 'вид', 'сердечко', 'отверстие', 'будешьчтый', 'красота', 'попоротить', 'рак', 'загнться', 'завод', 'повезть', 'переделать', 'автор', 'начало', 'пусть', 'рассверлить', 'испытать', 'показывать', 'мой', 'гламурный', 'сердечко', 'делать', 'идеально', 'продуманно', 'везде', 'помойка', 'нержавейка', 'сказать', 'отверстие', 'мангал', 'автор', 'ладыть', 'нм', 'жарить', 'шашлык', 'спец', 'невибный', 'один', 'вид', 'мочь', 'судить', 'плохой', 'мангал', 'дело', 'автор', 'жарить', 'тихо', 'угол', 'просверливать', 'рассверливать', 'пусть', 'оказать', 'какой', 'мясо', 'получаться', 'спорить', 'любой', 'корыто', 'мангал', 'называть', 'мангал', 'делаться', 'заказ', 'клиент', 'довольный', 'звонить', 'сказать', 'спасибо', 'приглашать', 'мясо', 'такой', 'параметр', 'металл', 'такой', 'корыто', 'стоить', 'примерно', 'столько', 'сделать', 'чюток', '15х45х1200', 'металл', 'помойка', 'сделать', 'сделать', 'рад', 'клиент', 'рад', 'оба', 'ответ', 'комментарий', 'автор', 'начало', 'пусть', 'рассверлить', 'испытать', 'показывать', 'мой', 'гламурный', 'сердечко', 'делать', 'идеально', 'продуманно', 'везде', 'помойка', 'нержавейка', 'помойка', 'твой', 'рот', 'похожий', 'пох', 'мангал', 'рамка', 'выходить', 'обсуждение', 'колхоз', 'ты', 'нравиться', 'пий', 'най', 'отсюда', 'торговать', 'свой', 'штамповка', 'человек', 'рабочий', 'место', 'терять', 'автоматизация', 'производство', 'дырочка', 'рисунок', 'мясо', 'жрть', 'буханка', 'самодельный', 'автоматизированный', 'производство', 'сделать', 'одежда', 'трус', 'ты', 'наверное', 'твой', 'женщина', 'шить', 'смешить', 'народ', 'буханка', 'посмотреть', 'человек', 'сделать', 'делать', 'хотеть', 'быть', 'делать', 'большинство', 'случай', 'одиночка', 'очень', 'большой', 'компания', 'человек', 'пробовать', 'создавать', 'каждый', 'сво', 'нравиться', 'большинство', 'начинать', 'создавать', 'сообща', 'стараться', 'максимально', 'делать', 'свой', 'рука', 'мочь', 'использовать', 'современный', 'инструмент', 'дабы', 'оправдывать', 'сво', 'существование', 'земля', 'пропагандировать', 'паразитический', 'образ', 'жизнь', 'культ', 'потребление', 'бездумный', 'трата', 'деньга', 'заработать', 'способ', 'купипродать', 'быть', 'делать', 'мочь', 'мастер', 'казаться', 'голова', 'перемешаться', 'машина', 'который', 'ездить', 'делать', 'завод', 'человек', 'человек', 'ты', 'продать', 'купить', 'самый', 'инструмент', 'который', 'использовать', 'сделать', 'человек', 'станок', 'продать', 'сделать', 'продать', 'человек', 'разный', 'профессия', 'это', 'директор', 'уборщица', 'купить', 'электрочайник', 'сделать', 'купить', 'электрочайник', 'значит', 'паразит', 'твой', 'логика', 'дабы', 'оправдывать', 'сво', 'существование', 'земля', 'удача', 'ты', 'существование', 'забыть', 'спросить', 'сколько', 'ты', 'остаться', 'сделать', 'свой', 'рука', 'оправдать', 'существование', 'земля', 'ответ', 'комментарий', 'буханка', 'посмотреть', 'человек', 'сделать', 'делать', 'хотеть', 'быть', 'делать', 'большинство', 'случай', 'одиночка', 'очень', 'большой', 'компания', 'человек', 'пробовать', 'создавать', 'каждый', 'сво', 'нравиться', 'большинство', 'начинать', 'создавать', 'сообща', 'стараться', 'максимально', 'делать', 'свой', 'рука', 'мочь', 'использовать', 'современный', 'инструмент', 'дабы', 'оправдывать', 'сво', 'существование', 'земля', 'пропагандировать', 'паразитический', 'образ', 'жизнь', 'культ', 'потребление', 'бездумный', 'трата', 'деньга', 'заработать', 'способ', 'купипродать', 'быть', 'делать', 'мочь', 'мастер', 'продать', 'мангал', 'человек', 'купить', 'сделать', 'мангал', 'весь', 'понравиться', 'естественно', 'начать', 'массово', 'производить', 'весь', 'продавать', 'ты', 'понадобиться', 'помощник', 'вид', 'рабочий', 'бухгалтер', 'менеджер', 'вывод', 'делать', 'казаться', 'ты', 'сложно', 'казаться', 'уверенный', 'голова', 'каша', 'сложно', 'один', 'предприятие', 'город', 'произойти', 'масштабный', 'сокращение', 'штат', 'рабочий', 'четырх', 'тысяча', 'восьмистый', 'человек', 'изз', 'производство', 'автоматизировать', 'машина', 'тыкать', 'поставить', 'сварочный', 'робот', 'манипулятор', 'поувольнять', 'людейкуда', 'идти', 'подумать', 'продвигать', 'штамповка', 'ещ', 'открывать', 'рот', 'человек', 'жить', 'свой', 'труд', 'посодиля', 'робот', 'сидеть', 'троллита', 'свой', 'товар', 'хороший', 'земля', 'интернет', 'менеджер', 'продажа', 'получаться', 'компьютерный', 'ничто', 'вода', 'закипать', 'огонь', 'жрт', 'лишний', 'киловата', 'время', 'закипание', 'один', 'ты', 'понять', 'выражение', 'оправдать', 'существование', 'земля', 'тля', 'царь', 'природа', 'вершина', 'эволюция', 'снизойдть', 'размышление', 'темутеб', 'сосать', 'сок', 'земля', 'пока', 'лопнуть', 'сторонка', 'отойти', 'обрызгать', 'мечтать', 'неоправданно', 'хапнуть', 'большой', 'отдавать', 'замена', 'несоизмеримый', 'маленький', 'вопрос', 'уметь', 'ответить', 'монитор', 'весь', 'забрызгать', 'наверное', 'судить', 'ты', 'просто', 'трудно', 'переварить', 'столько', 'новый', 'инф', 'переварить', 'это', 'ток', 'глянуть', 'ук', 'полный', 'держаться', 'два', 'рука', 'ответ', 'комментарий', 'продать', 'мангал', 'человек', 'купить', 'сделать', 'мангал', 'весь', 'понравиться', 'естественно', 'начать', 'массово', 'производить', 'весь', 'продавать', 'ты', 'понадобиться', 'помощник', 'вид', 'рабочий', 'бухгалтер', 'менеджер', 'вывод', 'делать', 'казаться', 'ты', 'сложно', 'мангал', 'продать', 'обменный', 'материал', 'другой', 'целиэтый', 'естественно', 'интересный', 'творческий', 'подход', 'дело', 'свой', 'профессия', 'мочь', 'стоять', 'утро', 'вечер', 'теплообменник', 'аогть', 'обваривать', 'трубопровод', 'варить', 'пробовать', 'знать', 'пробовать', 'километраж', 'шов', 'нравиться', 'процесс', 'который', 'видеть', 'стекло', 'маска', 'ты', 'понять', 'ты', 'нужный', 'помощник', 'рабочий', 'бухгалтер', 'менеджер', 'простить', 'господь', 'ты', 'вс', 'равно', 'делать', 'лишь', 'попрло', 'лишь', 'хапнуть', 'цеплять', 'раскатать', 'любой', 'терпеть', 'мочь', 'такой', 'тея', 'вс', 'захотеть', 'продолжить', 'помнить', 'один', 'последний', 'слово', 'я', 'страница', 'испишиудача', 'ты', 'удача', 'ответ', 'комментарий', 'страна', 'жить', 'столичный', 'зарплатуя', 'позволить', 'купить', 'мангал', 'нерожь', 'фирменный', 'мотоблок', 'далеко', 'могутпро', 'вопрос', 'наджность', 'самодельный', 'заводский', 'умолчать', 'желание', 'отверстие', 'рассверлить', 'свой', 'гламурный', 'вид', 'сердечко', 'отверстие', 'будешьчтый', 'красота', 'попоротить', 'рак', 'загнться', 'завод', 'повезть', 'переделать', 'заводский', 'мангал', 'это', 'фуфло', 'сталь', '3ммять', 'жаркое', 'поведт', 'нафиг', 'весь', 'мангал', 'пропеллер', 'зато', 'отверстие', 'сердечкамигламурненький', 'мангал', 'фото', 'сделать', 'специально', 'поездка', 'природа', 'метать', 'мм', 'высота', 'дно', 'шампур', 'смотреть', 'проверить', 'ножка', 'складный', 'мангал', 'сердечко', 'нах', 'нужный', 'ответ', 'комментарий', 'заводский', 'мангал', 'это', 'фуфло', 'сталь', '3ммять', 'жаркое', 'поведт', 'нафиг', 'весь', 'мангал', 'пропеллер', 'жарка', 'стоить', 'ровно', 'повести', 'пиндун', 'стать', 'считать', 'сколько', 'жарить', 'хер', 'недомангал', 'рекламировать', 'али', 'продашьсделать', 'сначала', 'нить', 'умничать', 'календарь', 'отметка', 'делать', 'жарить', 'шашалыко', 'ответ', 'комментарий', 'пиндун', 'стать', 'считать', 'сколько', 'жарить', 'хер', 'недомангал', 'рекламировать', 'али', 'продашьсделать', 'сначала', 'нить', 'умничать', 'ответ', 'комментарий', 'изначально', 'шампур', 'спираль', 'придумать', 'два', 'цель', 'это', 'маленький', 'нагреваться', 'ручка', 'второе', 'мясо', 'вертеть', 'плавно', 'равномерный', 'жарка', 'остальной', 'колхоз', 'общий', 'человек', 'сделать', 'колхозный', 'продукт', 'свой', 'рука', 'обычно', 'мотоболка', 'покупать', 'сделать', 'мотоблок', 'мотороллер', 'колхоз', 'который', 'страшно', 'смотреть', 'зато', 'свой', 'рука', 'кстати', 'ваш', 'отверстие', 'мангал', 'достаточно', 'встать', 'рак', 'дуть', 'сдиться', 'просто', 'рука', 'жопа', 'расти', 'сделать', 'самомувот', 'брызгать', 'слюна', 'мангал', 'нихрен', 'смыслить', 'чтоть', 'изобретать', 'купить', 'хороший', 'духовка', 'домой', 'купить', 'сделать', 'чайник', 'наверное', 'смастерить', 'извинить', 'дом', 'самодельный', 'самовар', 'стирать', 'самодельный', 'стиральный', 'машина', 'делать', 'машина', 'продажа', 'это', 'машинахахаах', 'смахивать', 'коробка', 'колсамиа', 'сделалстола', 'домой', 'сделать', 'мангал', 'друг', 'сделать', 'рука', 'жопывот', 'обсирать', 'данный', 'человек', 'это', 'спортивный', 'автомобиль', 'участие', 'трофи', 'рейд', 'епт', 'стол', 'сделать', 'мангал', 'попасть', 'категория', 'человек', 'кто', 'рука', 'золоть', 'молодец', 'поздравлять', 'показать', 'свой', 'чудо', 'поделка', 'секрет', 'думать', 'очень', 'хороший', 'вкус', 'судить', 'красный', 'салон', 'машина', 'аххахаспортивный', 'пошутить', 'кроме', 'делать', 'упомнить', 'салон', 'машина', 'перетягивать', 'ятаков', 'пришлый', 'германия', 'тон', 'цвет', 'собственно', 'вероятно', 'человек', 'понимать', 'отличие', 'тебягы', 'забавлять', 'человек', 'который', 'любить', 'обсерать', 'знать', 'обсерать', 'пример', 'продаваться', 'спортивный', 'автомобиль', 'трофи', 'рейд', 'абсолютный', 'чемпион', 'россия', 'обратить', 'внимание', 'стоимость', 'прям', 'сказать', 'сейчас', 'обсирать', 'чм', 'разбираться', 'обсерая', 'указать', 'недостаток', 'мангал', 'автор', 'выше', 'говорить', 'говно', 'вникать', 'тема', 'ответ', 'комментарий', 'забавлять', 'человек', 'который', 'любить', 'обсерать', 'знать', 'обсерать', 'пример', 'продаваться', 'спортивный', 'автомобиль', 'трофи', 'рейд', 'абсолютный', 'чемпион', 'россия', 'обратить', 'внимание', 'стоимость', 'стоимостий', 'написать', 'поход', 'цена', 'ошибиться', 'ошибка', 'мочь', 'позвонить', 'телефон', 'стоимость', 'такой', 'пример', 'колесо', 'стоять', 'весь', 'твой', 'машина', 'сторона', 'каждый', 'просить', 'столько', 'сколько', 'ответ', 'комментарий', 'стоимостий', 'написать', 'поход', 'цена', 'ошибиться', 'пример', 'менее', 'крутой', 'машина', 'это', 'похоже', 'машина', 'это', 'категория', 'тр2', 'красный', 'тр3', 'прототип', 'ответ', 'комментарий', 'недочты', 'это', 'ваш', 'мой', 'это', 'преимущество', 'шампур', 'любой', 'сторона', 'ставить', 'поворачивать', 'мангалда', 'прорезь', 'будея', 'мешать', 'шампур', 'угол', 'верно', 'прекрасный', 'работа', 'насчёт', 'металлоприёмка', 'согласный', 'удача', 'праздник', 'спасибо', 'взаимно', 'великолепно', 'благодарить', 'смотреть', 'двойной', 'дно', 'подобный', 'отличие', 'трапецевидный', 'расширяться', 'кверху', 'также', 'двойной', 'дно', 'верхний', 'день', 'отверстие', 'боков', 'нету', 'казаться', 'нагрев', 'равномерный', 'полностью', 'согласный', 'зачётный', 'магалец', 'шедевр', 'сотворилправнук', 'вспоминать', 'быть', 'спасибо', 'дата', 'создание', 'нарисовать', 'электродомить', 'серьзный', 'спасибо', 'большой', 'это', 'делать', 'сапожник', 'сапог', 'металл', 'остаться', 'который', 'водомтный', 'движитель', 'ещ', 'делать', 'это', 'сын', 'первостепенный', 'катерок', 'пойдм', 'они', 'остров', 'сделать', 'перфекто', 'граци']\"\n\n--------------------------------------------------------------------------------\n16 fits failed with the following error:\nTraceback (most recent call last):\n  File \"/Users/taniyashuba/PycharmProjects/VK_ML_Project/venv/lib/python3.9/site-packages/sklearn/model_selection/_validation.py\", line 888, in _fit_and_score\n    estimator.fit(X_train, y_train, **fit_params)\n  File \"/Users/taniyashuba/PycharmProjects/VK_ML_Project/venv/lib/python3.9/site-packages/sklearn/base.py\", line 1473, in wrapper\n    return fit_method(estimator, *args, **kwargs)\n  File \"/Users/taniyashuba/PycharmProjects/VK_ML_Project/venv/lib/python3.9/site-packages/sklearn/neighbors/_classification.py\", line 238, in fit\n    return self._fit(X, y)\n  File \"/Users/taniyashuba/PycharmProjects/VK_ML_Project/venv/lib/python3.9/site-packages/sklearn/neighbors/_base.py\", line 475, in _fit\n    X, y = self._validate_data(\n  File \"/Users/taniyashuba/PycharmProjects/VK_ML_Project/venv/lib/python3.9/site-packages/sklearn/base.py\", line 650, in _validate_data\n    X, y = check_X_y(X, y, **check_params)\n  File \"/Users/taniyashuba/PycharmProjects/VK_ML_Project/venv/lib/python3.9/site-packages/sklearn/utils/validation.py\", line 1273, in check_X_y\n    X = check_array(\n  File \"/Users/taniyashuba/PycharmProjects/VK_ML_Project/venv/lib/python3.9/site-packages/sklearn/utils/validation.py\", line 1007, in check_array\n    array = _asarray_with_order(array, order=order, dtype=dtype, xp=xp)\n  File \"/Users/taniyashuba/PycharmProjects/VK_ML_Project/venv/lib/python3.9/site-packages/sklearn/utils/_array_api.py\", line 746, in _asarray_with_order\n    array = numpy.asarray(array, order=order, dtype=dtype)\n  File \"/Users/taniyashuba/PycharmProjects/VK_ML_Project/venv/lib/python3.9/site-packages/pandas/core/generic.py\", line 2153, in __array__\n    arr = np.asarray(values, dtype=dtype)\nValueError: could not convert string to float: \"['хороший', 'природный', 'антибиотик', 'template', 'main', 'include', 'jstmplauthregtab', 'ploginregistertab', 'ploginregistertab', 'регистрация', 'include', 'jstmplsocauthregdescr', 'include', 'jstmplauthregsoc', 'include', 'jstmplauthregagree', 'include', 'jstmplauthregdescr', 'include', 'jstmplauthregaction', 'include', 'jstmplauthregbutton', 'include', 'jstmplauthregdescr', 'include', 'jstmplsocauthregdescr', 'template', 'main', 'template', 'jstmplauthregtab', 'template', 'jstmplauthregtab', 'template', 'jstmplauthregaction', 'ploginregistertab', 'include', 'jstmplauthregsoc', 'ploginregistertab', 'email', 'код', 'подписчик', 'пароль', 'русский', 'раскладка', 'клавиатура', 'включить', 'caps', 'lock', 'включить', 'caps', 'lock', 'русский', 'раскладка', 'клавиатура', 'чужой', 'компьютер', 'ploginregistertab', 'email', 'ознакомиться', 'согласный', 'нажимать', 'кнопка', 'готовый', 'давать', 'хотеть', 'получать', 'новость', 'скидка', 'одежда', 'template', 'jstmplauthregaction', 'template', 'jstmplauthregagree', 'ознакомиться', 'согласный', 'template', 'jstmplauthregagree', 'template', 'jstmplauthregbutton', 'ploginregistertab', 'ploginregistertab', 'template', 'jstmplauthregbutton', 'template', 'jstmplauthregdescr', 'ploginregistertab', 'оформление', 'подписка', 'выбрать', 'рассылка', 'работа', 'интересовать', 'группа', 'доступ', 'нужный', 'раздел', 'просить', 'авторизоваться', 'subscriberu', 'ploginregistertab', 'регистрация', 'указать', 'ваш', 'email', 'адрес', 'адрес', 'должный', 'действовать', 'сразу', 'регистрация', 'отправить', 'письмо', 'инструкция', 'код', 'подтверждение', 'template', 'jstmplauthregdescr', 'template', 'jstmplsocauthregdescr', 'зарегистрироваться', 'социальный', 'сеть', 'template', 'jstmplsocauthregdescr', 'template', 'jstmplauthregsoc', 'ploginregistertab', 'ploginregistertab', 'template', 'jstmplauthregsoc', 'template', 'main', 'include', 'jstmplauthregtab', 'include', 'jstmplauthregdescr', 'include', 'jstmplauthregaction', 'template', 'main', 'template', 'jstmplauthregtab', 'template', 'jstmplauthregtab', 'template', 'jstmplauthregdescr', 'пожалуйста', 'подтвердить', 'ваш', 'адрес', 'отправить', 'письмо', 'подтверждение', 'ваш', 'адрес', 'pregisterconfirmmail', 'подтверждение', 'адрес', 'перейти', 'ссылка', 'письмо', 'template', 'jstmplauthregdescr', 'template', 'jstmplauthregaction', 'ввести', 'код', 'письмо', 'прийти', 'письмо', 'пожалуйста', 'проверить', 'папка', 'спам', 'папка', 'нежелательный', 'почта', 'template', 'jstmplauthregaction', 'открытый', 'группа', 'участник', 'активный', 'участник', 'последний', 'откомментировать', 'тема', 'позавчера', 'день', 'назад', 'писать', 'каждый', 'день', 'каждый', 'сталкиваться', 'огромный', 'количество', 'микроорганизм', 'простой', 'вирус', 'бактерия', 'грибок', 'простейшее', 'способный', 'вызвать', 'серьёзный', 'заболевание', 'особенность', 'иммунитет', 'человек', 'снизить', 'зимой', 'вс', 'редкий', 'бывать', 'улица', 'проветривать', 'помещение', 'подолгу', 'находиться', 'замкнутый', 'пространство', 'кашляющимичихать', 'человек', 'простой', 'подхватить', 'какуюнибудь', 'зараза', 'организм', 'требоваться', 'помощь', 'борьба', 'незваный', 'гость', 'спешить', 'бежать', 'аптека', 'наджный', 'безопасный', 'помощник', 'отыскаться', 'кухня', 'многие', 'растительный', 'животное', 'продукт', 'обладать', 'выраженный', 'антибиотический', 'активность', 'каждый', 'свой', 'спектр', 'действие', 'синтетический', 'антибиотик', 'сила', 'действие', 'природный', 'антибиотик', 'уступать', 'химический', 'однако', 'разница', 'они', 'принципиальный', 'продукт', 'питание', 'создать', 'сам', 'природа', 'сложно', 'нанести', 'вред', 'организм', 'отличие', 'лекарственный', 'препарат', 'синтезировать', 'химический', 'лаборатория', 'кроме', 'природный', 'средство', 'грандиозный', 'преимущество', 'антибиотический', 'вещество', 'иметь', 'побочный', 'эффект', 'стоять', 'дешёвый', 'медикаментозный', 'препарат', 'понятно', 'природа', 'вырабатывать', 'антибиотический', 'средство', 'специально', 'защищать', 'растение', 'болезнь', 'отличие', 'химик', 'который', 'смочь', 'придумать', 'лекарство', 'отдельно', 'бактерия', 'грибок', 'простой', 'природа', 'создать', 'совершенный', 'сложный', 'лекарство', 'защищать', 'животный', 'растительный', 'мир', 'бактерия', 'вирус', 'грибок', 'одновременно', 'один', 'статья', 'безусловно', 'сложно', 'рассказать', 'о', 'растительный', 'антибиотик', 'стать', 'упоминать', 'лекарственный', 'растение', 'остановиться', 'продукт', 'наш', 'рацион', 'расположить', 'алфавит', 'никто', 'обидно', 'это', 'рейтинг', 'просто', 'список', 'итак', 'спиока', 'хороший', 'природный', 'антибиотик', 'входить', 'базилик', 'нежный', 'травянистый', 'растение', 'род', 'азия', 'тонкий', 'шелковистый', 'лист', 'вкус', 'напоминать', 'анис', 'обладать', 'сильный', 'сладкий', 'пряный', 'запах', 'индия', 'базилик', 'считать', 'священный', 'растение', 'согласно', 'традиция', 'ежедневно', 'поливать', 'утром', 'вечером', 'зажигать', 'рядом', 'лампа', 'обряд', 'приносить', 'счастие', 'защищать', 'семья', 'беда', 'многий', 'народ', 'существовать', 'предание', 'легенда', 'который', 'базилик', 'упоминаться', 'символ', 'семейный', 'счастие', 'любовь', 'румыния', 'сей', 'день', 'романтичный', 'обычай', 'принимать', 'предложение', 'рука', 'сердце', 'девушка', 'дарить', 'парень', 'зелёный', 'веточка', 'базилика', 'многие', 'повар', 'считать', 'базилик', 'король', 'трава', 'кулинария', 'базилик', 'использовать', 'свежий', 'правило', 'добавлять', 'блюдо', 'последний', 'момент', 'длительный', 'воздействие', 'высокий', 'температура', 'разрушать', 'аромат', 'трава', 'холодильник', 'храниться', 'недолго', 'заморозить', 'терять', 'больший', 'часть', 'аромат', 'становиться', 'похожий', 'сено', 'практически', 'универсальный', 'природный', 'антибиотик', 'обладать', 'дезинфицировать', 'бактерицидный', 'свойство', 'защищать', 'организм', 'различный', 'инфекция', 'лекарственный', 'свойство', 'базилика', 'ещ', 'древний', 'лекарь', 'говорить', 'гнать', 'моча', 'выгонять', 'ветер', 'разбивать', 'мокрота', 'пользовать', 'грудной', 'болезнь', 'подкреплять', 'сердце', 'смесь', 'ароматный', 'трава', 'полоскать', 'горло', 'лечиться', 'насморк', 'заменять', 'мягчительный', 'припарка', 'базилик', 'обладать', 'противовоспалительный', 'спазмолитический', 'возбуждать', 'аппетит', 'тонизировать', 'действие', 'применяться', 'простуда', 'грипп', 'снижать', 'температура', 'уменьшать', 'выделение', 'слизь', 'носов', 'пазуха', 'устранять', 'бессонница', 'нервный', 'напряжение', 'эфирный', 'масло', 'обладать', 'бактерицидный', 'действие', 'полезный', 'снятие', 'спазмолитический', 'состояние', 'вздутие', 'живот', 'метеоризм', 'отвар', 'базилика', 'ложка', 'измельчнный', 'лист', 'мл', 'кипяток', 'помогать', 'ангина', 'головной', 'боль', 'конъюнктивит', 'этот', 'травка', 'прекрасно', 'помогать', 'воспалительный', 'заболевание', 'желудочнокишечный', 'тракт', 'гастрит', 'энтерит', 'колит', 'недуг', 'прекрасно', 'лечиться', 'настой', 'базилика', 'смазывать', 'участок', 'кожа', 'поразить', 'экзема', 'псориаз', 'приправа', 'рекомендоваться', 'беременная', 'женщина', 'нужно', 'избегать', 'принимать', 'гормональный', 'контрацептив', 'перенести', 'инфаркт', 'инсульт', 'сахарный', 'диабет', 'сердечно', 'сосудистый', 'заболевание', 'тромбофлебит', 'тромбоз', 'вено', 'нарушение', 'свёртываемость', 'кровь', 'такой', 'человек', 'иметься', 'тенденция', 'сгущение', 'кровь', 'базилик', 'способствовать', 'этот', 'брусника', 'зимнезелный', 'кустарничка', 'семейство', 'вересковый', 'этот', 'дикий', 'лесной', 'ягода', 'растта', 'сухой', 'сырой', 'хвойный', 'леса', 'лиственный', 'леса', 'кустарник', 'торфяной', 'болото', 'народный', 'название', 'брусника', 'боровик', 'боровок', 'боровой', 'ягода', 'целебный', 'являться', 'лист', 'ягода', 'растение', 'обусловить', 'химический', 'состав', 'плод', 'брусника', 'богатый', 'пектиновый', 'вещество', 'полифенол', 'эфирный', 'масло', 'который', 'содержаться', 'около', 'полезный', 'органический', 'соединение', 'витамин', 'особенно', 'витамин', 'пополнение', 'запас', 'витамин', 'свежий', 'ягода', 'прямо', 'куст', 'сушёный', 'плод', 'часть', 'полезный', 'вещество', 'разрушаться', 'такой', 'ягода', 'годиться', 'рекомендовать', 'заваривать', 'вместе', 'шиповник', 'рябина', 'употреблять', 'витаминный', 'чай', 'содержание', 'каротин', 'провитамин', 'брусника', 'превосходить', 'клюква', 'лимон', 'груша', 'яблоко', 'виноград', 'черника', 'богатый', 'витамин', 'в2', 'плод', 'содержаться', 'бензойный', 'кислота', 'натуральный', 'консервант', 'среда', 'создавать', 'кислота', 'болезнетворный', 'бактерия', 'терять', 'способность', 'развитие', 'размножение', 'именно', 'бензойный', 'кислота', 'превращать', 'брусника', 'антибиотик', 'обусловливать', 'противовоспалительный', 'действие', 'применение', 'брусника', 'оправдать', 'лечение', 'заболевание', 'мочевыделительный', 'система', 'особенно', 'цистит', 'кроме', 'брусника', 'усиливать', 'активность', 'антибиотик', 'сульфаниламидный', 'препарат', 'поэтому', 'рекомендовать', 'лихорадить', 'больной', 'также', 'повышение', 'аппетит', 'перенести', 'тяжёлый', 'болезнь', 'травма', 'случай', 'очень', 'полезный', 'морс', 'ягода', 'сочетать', 'противовоспалительный', 'мочегонное', 'действие', 'подавлять', 'развитие', 'микроб', 'выводить', 'токсин', 'кислый', 'напиток', 'утолять', 'жажда', 'содержаться', 'нм', 'витамин', 'укреплять', 'сила', 'полезный', 'морс', 'онкологический', 'заболевание', 'раковый', 'интоксикация', 'голубика', 'мелкий', 'кустарник', 'высота', '1метр', 'серый', 'гладкий', 'изогнутый', 'ветвь', 'голубика', 'называть', 'дурниха', 'пьяничка', 'дурница', 'синик', 'дурах', 'водопьянка', 'дурниха', 'гонобой', 'гонобобель', 'обидный', 'имя', 'получить', 'якобы', 'пьянить', 'гнать', 'боль', 'голова', 'сам', 'дело', 'виновник', 'этот', 'явление', 'багульник', 'часто', 'расти', 'соседство', 'голубика', 'голубика', 'служить', 'источник', 'витамин', 'ценный', 'лекарственный', 'растение', 'сложно', 'собрать', 'повредить', 'сложный', 'сохранить', 'север', 'голубика', 'традиционно', 'хранить', 'берестяной', 'короб', 'залив', 'рыбий', 'жир', 'закопать', 'мох', 'основное', 'голубика', 'есть', 'свежий', 'вид', 'именно', 'свежий', 'ягода', 'концентрация', 'полезный', 'вещество', 'самый', 'высокий', 'плод', 'растение', 'содержать', 'вещество', 'подобный', 'аспирин', 'который', 'обладать', 'болеутоляющий', 'жаропонижающий', 'действие', 'голубика', 'действовать', 'лекарственный', 'антибиотик', 'уничтожать', 'бактерия', 'мочевой', 'путь', 'давать', 'инфекция', 'распространиться', 'весь', 'организм', 'отвар', 'морс', 'ягода', 'голубика', 'обладать', 'высокий', 'противовоспалительный', 'действие', 'часто', 'назначать', 'воспаление', 'лёгкий', 'почка', 'мочевой', 'пузырь', 'горчица', 'известный', 'человечество', 'один', 'тысяча', 'год', 'многий', 'народ', 'горчичный', 'зерно', 'просто', 'сырьё', 'получение', 'ароматный', 'жгучий', 'соус', 'также', 'вкусный', 'полезный', 'масло', 'яркий', 'метафоричный', 'символ', 'выражать', 'огромный', 'сила', 'несмотря', 'мизерный', 'величина', 'кроме', 'горчица', 'общеизвестный', 'лекарственный', 'средство', 'применять', 'народный', 'официальный', 'медицина', 'обладать', 'масса', 'полезный', 'свойство', 'помнить', 'ранний', 'жлтый', 'порошок', 'горчица', 'намазать', 'горчичник', 'бабушка', 'сыпать', 'мы', 'таз', 'пропарка', 'нога', 'простуда', 'именно', 'порошок', 'горчица', 'приписывать', 'уникальный', 'свойство', 'уменьшение', 'общий', 'воспаление', 'также', 'снижение', 'риск', 'возникновение', 'некоторый', 'вид', 'рак', 'почему', 'порошок', 'горчица', 'содержать', 'свый', 'состав', 'куркумина', 'это', 'активный', 'ингредиент', 'куркума', 'который', 'давать', 'жёлтый', 'горчица', 'свой', 'жёлтый', 'цвет', 'потенциальный', 'преимущество', 'здоровье', 'кроме', 'горчица', 'найти', 'аллил', 'изотиоцианат', 'aitc', 'который', 'изучить', 'способность', 'предотвращать', 'уменьшать', 'раковый', 'клетка', 'исследование', 'показывать', 'положительный', 'эффект', 'главный', 'полезный', 'свойство', 'горчица', 'это', 'антимикробный', 'антигрибковый', 'противовоспалительный', 'действие', 'гранат', 'фрукт', 'южный', 'род', 'средний', 'азия', 'хотя', 'растта', 'средний', 'полоса', 'давно', 'перестать', 'экзот', 'менее', 'ещ', 'живой', 'масса', 'легенда', 'полезный', 'плод', 'например', 'гранат', 'хороший', 'средство', 'лечение', 'анемия', 'возможно', 'это', 'произойти', 'изз', 'цвет', 'гранатовый', 'сок', 'практически', 'повторять', 'цвет', 'кровь', 'менее', 'съедать', 'гранат', 'выпивать', 'стакан', 'гранатовый', 'сок', 'день', 'отличный', 'способ', 'почистить', 'кровь', 'инфекционный', 'болезнь', 'гранатовый', 'сок', 'помогать', 'простудный', 'заболевание', 'респираторный', 'инфекция', 'ангина', 'кашель', 'бороться', 'высокий', 'температура', 'являться', 'противовоспалительный', 'средство', 'развести', 'сок', 'советовать', 'полоскать', 'горло', 'ангина', 'рекомендовать', 'заболевание', 'бронхиальный', 'астма', 'анемия', 'малярия', 'вяжущий', 'вещество', 'гранат', 'помогать', 'выводить', 'мокрота', 'бронхит', 'пневмония', 'также', 'стимулировать', 'работа', 'поджелудочный', 'железа', 'повышенный', 'кислотность', 'желудок', 'гранатовый', 'сок', 'чистый', 'вид', 'противопоказанный', 'разбавлять', 'морковный', 'грейпфрут', 'считаться', 'один', 'самый', 'полезный', 'фрукт', 'дословно', 'перевести', 'название', 'фрукт', 'английский', 'иметь', 'виноградный', 'фрукт', 'сравнивать', 'вкусовой', 'качество', 'грейпфрут', 'капелька', 'схожий', 'виноград', 'откуда', 'такой', 'странный', 'название', 'поинтересоваться', 'ответ', 'очень', 'логичный', 'поскольку', 'плод', 'иметь', 'свойство', 'расти', 'грозд', 'который', 'мочь', 'достигать', 'фрукт', 'цитрусовый', 'созревать', 'декабрь', 'сохранять', 'польза', 'середина', 'лето', 'иммунолог', 'рекомендовать', 'зимой', 'съедать', 'день', 'половинка', 'цитрус', 'профилактика', 'простудный', 'инфекция', 'замечательный', 'хотя', 'горьковатый', 'плод', 'полезный', 'однако', 'самый', 'целебный', 'свойство', 'обладать', 'экстракт', 'зерно', 'причём', 'лечебный', 'эффект', 'настолько', 'мощный', 'учёный', 'сила', 'воздействие', 'однозначно', 'поставить', 'экстракт', 'один', 'ступенька', 'химический', 'антибиотик', 'например', 'установить', 'учёный', 'экстракт', 'зерно', 'грейпфрут', 'активный', 'против', 'штамм', 'бактерия', 'против', 'вид', 'грибок', 'отличие', 'синтетический', 'антибиотик', 'активный', 'против', 'вирус', 'иметь', 'побочный', 'эффект', 'индивидуальный', 'непереносимость', 'учитывать', 'любой', 'случай', 'нужно', 'домашний', 'условие', 'сделать', 'экстракт', 'зерно', 'грейпфрут', 'практически', 'невозможно', 'поэтому', 'прийтись', 'покупать', 'готовый', 'препарат', 'очень', 'гель', 'душа', 'дезодорант', 'капля', 'нос', 'выбрать', 'экстракт', 'поскольку', 'немой', 'находиться', 'больший', 'количество', 'природный', 'вещество', 'очень', 'важный', 'момент', 'который', 'обязательно', 'необходимо', 'иметь', 'вид', 'экстракт', 'зерно', 'грейпфрут', 'очень', 'ядовитый', 'запросто', 'сжечь', 'кожа', 'поэтому', 'необходимо', 'строго', 'соблюдать', 'инструкция', 'приложить', 'препарат', 'второе', 'синтетический', 'антибиотик', 'длительный', 'частый', 'применение', 'терять', 'сила', 'изз', 'называть', 'эффект', 'привыкание', 'учёный', 'предполагать', 'патогенный', 'микроорганизм', 'научиться', 'приспосабливаться', 'этот', 'природный', 'лекарство', 'имбирь', 'это', 'растение', 'травянистый', 'многолетний', 'иметь', 'ароматный', 'пахнуть', 'корень', 'вид', 'различный', 'причудливый', 'фигурка', 'впервые', 'корень', 'имбирь', 'завезти', 'европа', 'азия', 'средний', 'век', 'узнать', 'давно', 'приход', 'наш', 'рынок', 'сушить', 'пряный', 'корень', 'который', 'мариновать', 'вид', 'добавлять', 'блюдо', 'известно', 'противоглистный', 'действие', 'корень', 'имбирь', 'азиат', 'употреблять', 'пища', 'сырой', 'рыба', 'кушать', 'вместе', 'имбирь', 'тк', 'давно', 'считать', 'очень', 'сильный', 'противопаразитарный', 'средство', 'корень', 'имбирь', 'обладать', 'антимикробный', 'противовоспалительный', 'отхаркивающий', 'действие', 'жаропонижающий', 'потогонное', 'поэтому', 'широко', 'применять', 'лечениия', 'орз', 'простуда', 'тонзиллит', 'ангина', 'ларингит', 'фарингит', 'бронхит', 'комплексный', 'лечение', 'пневмония', 'калин', 'красный', 'красный', 'ягода', 'достаточно', 'большой', 'косточка', 'созревать', 'калин', 'конец', 'сентябрь', 'первый', 'заморозок', 'ягода', 'достаточно', 'кислый', 'горчинка', 'воздействие', 'небольшой', 'морозов', 'приобретать', 'сладость', 'широко', 'использоваться', 'народный', 'медицина', 'калин', 'являться', 'мощный', 'природный', 'антибиотик', 'обладать', 'антисептический', 'свойство', 'благодаря', 'содержание', 'биологически', 'активный', 'вещество', 'чай', 'ягода', 'калин', 'помогать', 'простуда', 'кашель', 'грипп', 'ангина', 'пневмония', 'бронхит', 'авитаминоз', 'также', 'снижать', 'температура', 'тело', 'бронхит', 'лихорадка', 'упорный', 'кашель', 'помогать', 'отвар', 'калин', 'мёд', 'препарат', 'основа', 'калин', 'применять', 'лечение', 'инфицировать', 'ран', 'биологически', 'активный', 'вещество', 'содержаться', 'плод', 'данный', 'растение', 'мочь', 'ухудшить', 'состояние', 'больной', 'повышенный', 'свртываемость', 'кровь', 'беременность', 'тромбофлебит', 'склонность', 'расстройство', 'пищеварение', 'капуста', 'овощ', 'поддерживать', 'бодрость', 'дух', 'весёлый', 'настроение', 'высказываться', 'повод', 'капуста', 'пифагор', 'свой', 'характеристика', 'такой', 'бодрый', 'дух', 'оставить', 'гиппократ', 'диоскорид', 'аристотель', 'катонстарший', 'гален', 'другой', 'великий', 'древний', 'слово', 'никакой', 'пиар', 'соцзаказ', 'разумеется', 'документально', 'подтвердить', 'сведение', 'польза', 'капуста', 'опыт', 'ощущение', 'великий', 'интуиция', 'столетие', 'спустя', 'потомок', 'объяснить', 'секрет', 'бодрость', 'дух', 'весёлый', 'настроение', 'польза', 'капуста', 'буквально', 'весь', 'лист', 'стебло', 'кочерыжка', 'жир', 'сахар', 'клетчатка', 'также', 'каротин', 'фолиевый', 'кислота', 'соль', 'калий', 'кальций', 'фосфор', 'весь', 'набор', 'витамин', 'необходимый', 'человек', 'содержание', 'витамин', 'кстати', 'говорить', 'рекорд', 'бить', 'брюссельский', 'капуста', 'лечение', 'капуста', 'позволять', 'избавиться', 'бессонница', 'различный', 'заболевание', 'желудочнокишечный', 'тракт', 'глухота', 'мигрень', 'известный', 'обезболивать', 'общеукрепляющий', 'противовоспалительный', 'свойство', 'капуста', 'обладать', 'противомикробный', 'свойство', 'который', 'мочь', 'убить', 'вид', 'болезненный', 'бактерия', 'народный', 'медицина', 'использоваться', 'свежий', 'лист', 'свежеприготовленный', 'капустный', 'сок', 'витамин', 'содержаться', 'квашеный', 'капуста', 'рассол', 'кроме', 'антибиотический', 'свойство', 'капуста', 'увеличиваться', 'именно', 'время', 'ферментация', 'квашение', 'клюква', 'царица', 'ягода', 'ягода', 'жизнь', 'чудодейственный', 'кудесница', 'называть', 'клюква', 'признаться', 'это', 'действительно', 'похоже', 'правда', 'именно', 'царствовать', 'наш', 'стол', 'круглый', 'год', 'спасать', 'недуг', 'кариес', 'прочий', 'болезнь', 'обладать', 'противовирусный', 'антибиотический', 'свойство', 'являться', 'прекрасный', 'антиоксидант', 'человек', 'страдать', 'заболевание', 'мочеполовой', 'система', 'клюквенный', 'сок', 'просто', 'обойтись', 'оказываться', 'целебный', 'напиток', 'давать', 'бактерия', 'удержаться', 'стенка', 'мочевой', 'пузырь', 'самый', 'предотвращать', 'инфекция', 'целебный', 'сила', 'клюквенный', 'сок', 'способный', 'убивать', 'инфекция', 'мочевой', 'пузырь', 'полость', 'рот', 'известно', 'зубной', 'налёт', 'самый', 'хороший', 'почва', 'размножение', 'бактерия', 'другой', 'микроорганизм', 'результат', 'действие', 'который', 'получать', 'кариес', 'пародонтоз', 'оказываться', 'клюква', 'способный', 'обезвредить', 'бактерия', 'полость', 'рот', 'почему', 'американец', 'сегодня', 'начать', 'разработка', 'состав', 'полоскание', 'рот', 'клюквенный', 'основа', 'взять', 'заметка', 'иметь', 'возможность', 'употреблять', 'клюква', 'натуральный', 'вид', 'народный', 'медицина', 'существовать', 'множество', 'рецепт', 'согласно', 'который', 'сок', 'плод', 'рекомендовать', 'лихорадка', 'простудный', 'заболевание', 'ангина', 'цинга', 'повышенный', 'кровяной', 'давление', 'малярия', 'заболевание', 'желудок', 'почка', 'водянка', 'примочка', 'сок', 'лишай', 'сухой', 'экзема', 'экссудативный', 'кожный', 'процесс', 'золотуха', 'ягода', 'незаменимый', 'лечение', 'простудный', 'недуг', 'бактерицидный', 'свойство', 'уникальный', 'вспомнить', 'детство', 'наверняка', 'время', 'простуда', 'бабушка', 'поить', 'тёплый', 'клюквенный', 'морс', 'кормить', 'особый', 'лекарство', 'кашель', 'сок', 'клюква', 'мёд', 'издавна', 'препарат', 'клюква', 'использовать', 'жаропонижающий', 'средство', 'различный', 'простудный', 'заболевание', 'также', 'гиповитаминоз', 'клюквенный', 'сок', 'стимулировать', 'секреция', 'железа', 'желудочнокишечный', 'тракт', 'посему', 'показать', 'хронический', 'гастрит', 'секреторный', 'недостаточность', 'учёный', 'обнаружить', 'клюква', 'кислота', 'идентичный', 'действие', 'антибиотик', 'против', 'микроб', 'класс', 'coli', 'этот', 'больший', 'группа', 'бактерия', 'который', 'вызывать', 'воспаление', 'почка', 'мочевой', 'пузырь', 'инфекционный', 'гастроэнтерит', 'причём', 'показать', 'опыт', 'финский', 'специалист', 'университет', 'город', 'турок', 'экстракт', 'клюква', 'эффективно', 'действовать', 'против', 'тот', 'штамм', 'бактерия', 'который', 'стать', 'устойчивый', 'традиционный', 'антибиотик', 'похоже', 'антибактериальный', 'свойство', 'клюква', 'делать', 'ягода', 'номер', 'китайский', 'медик', 'основа', 'провести', 'исследование', 'сделать', 'вывод', 'пациент', 'потреблять', 'клюквенный', 'блюдо', 'напиток', 'основа', 'чудодейственный', 'ягода', 'значительно', 'редкий', 'болеть', 'язва', 'желудок', 'целительный', 'свойство', 'ягода', 'препятствовать', 'распространение', 'такой', 'бактерия', 'hуlicobacter', 'pylori', 'который', 'вызывать', 'язва', 'желудок', 'действие', 'ягода', 'сводиться', 'активизация', 'особый', 'клюквенный', 'молекула', 'который', 'позволять', 'бактерия', 'оставаться', 'слизистый', 'оболочка', 'желудок', 'препятствовать', 'появление', 'болезнь', 'корица', 'называть', 'смертельный', 'природный', 'антибиотик', 'корица', 'использоваться', 'медицина', 'протяжение', 'век', 'чистый', 'реально', 'цейлон', 'корица', 'остановить', 'атака', 'ecoli', 'сам', 'начало', 'это', 'упрямый', 'бактерия', 'который', 'вызывать', 'многие', 'заболевание', 'эксперт', 'обнаружить', 'корица', 'выступать', 'качество', 'природный', 'антибиотик', 'полно', 'антиоксидант', 'который', 'помогать', 'стимулировать', 'иммунный', 'система', 'многий', 'отношение', 'этот', 'приправа', 'обладать', 'выраженный', 'потогонное', 'действие', 'поэтому', 'очень', 'полезный', 'орви', 'любой', 'простуда', 'вместо', 'малиновый', 'варение', 'чай', 'добавлять', 'корица', 'делать', 'полоскание', 'ангина', 'кора', 'коричный', 'дерево', 'обладать', 'антисептический', 'эффект', 'спиртовой', 'экстракт', 'кора', 'корица', 'китайский', 'активный', 'отношение', 'различный', 'грамположительный', 'грамотрицательный', 'бактерия', 'оказывать', 'губительный', 'действие', 'туберкулёзный', 'палочка', 'вирус', 'красный', 'белый', 'сухой', 'вино', 'обладать', 'тонизировать', 'диуретический', 'антистрессовый', 'бактерицидный', 'антиаллергический', 'воздействие', 'организм', 'человек', 'известно', 'древний', 'грек', 'добавлять', 'питьевой', 'вода', 'дезинфекция', 'немного', 'белый', 'вино', 'показать', 'исследование', 'медицинский', 'центр', 'вооружённый', 'сила', 'сша', 'гонолулу', 'совершенно', 'правый', 'красный', 'белый', 'вино', 'также', 'чистый', 'спирт', 'одинаково', 'токсичный', 'сальмонелла', 'колибактерия', 'однако', 'разбавить', 'белый', 'вино', 'смешиваться', 'желудочный', 'сок', 'оказывать', 'наиболее', 'сильный', 'антибактериальный', 'действие', 'считать', 'научно', 'доказать', 'природный', 'вода', 'который', 'добавить', 'один', 'треть', 'красный', 'натуральный', 'вино', 'прошествие', 'менее', 'час', 'считать', 'обеззаразить', 'учёный', 'отмечать', 'возбудитель', 'любой', 'разновидность', 'тиф', 'погибать', 'сухой', 'виноградный', 'вина', 'течение', 'несколько', 'минута', 'максимум', 'час', 'очень', 'сильно', 'разбавить', 'несколько', 'вина', 'гибнуть', 'вибрион', 'холера', '20х', 'год', 'наш', 'столетие', 'крым', 'вспыхнуть', 'эпидемия', 'дизентерия', 'распространение', 'условие', 'нехватка', 'медикамент', 'сдерживать', 'регулярный', 'профилактический', 'приём', 'разбавить', 'два', 'треть', 'вода', 'натуральный', 'вино', 'добавление', 'вино', 'вода', 'целесообразно', 'другой', 'желудочнокишечный', 'заболевание', 'механизм', 'антимикробный', 'действие', 'вино', 'конец', 'изучить', 'вина', 'наличествовать', 'алкоголь', 'удовлетворительный', 'объяснение', 'дать', 'ввиду', 'слишком', 'слабый', 'концентрация', 'натуральный', 'вина', 'который', 'разбавление', 'несколько', 'вода', 'становиться', 'вовсе', 'ничтожный', 'учёный', 'склонный', 'приписывать', 'это', 'чудесный', 'свойство', 'некоторый', 'продукт', 'распад', 'красящий', 'дубильный', 'вещество', 'вино', 'потребление', 'виноградный', 'вино', 'умеренный', 'количество', 'увеличивать', 'сопротивляемость', 'инфекционный', 'заболевание', 'наблюдение', 'врач', 'проникновение', 'белый', 'кровяной', 'шарик', 'желудок', 'устанавливать', 'первый', 'противотоксинный', 'барьер', 'проходить', 'интенсивный', 'присутствие', 'вино', 'современный', 'исследование', 'подтверждать', 'антибактериологический', 'действие', 'вино', 'вирус', 'гепатит', 'пять', 'известный', 'вирус', 'грипп', 'хороший', 'результат', 'давать', 'красный', 'столовый', 'вино', 'применять', 'профилактический', 'средство', 'эпидемический', 'желудочный', 'заболевание', 'гипертония', 'расстройство', 'питание', 'ожирение', 'тонический', 'средство', 'кахетие', 'древний', 'район', 'виноделие', 'этот', 'заболевание', 'доктор', 'морить', 'работать', 'один', 'крупный', 'парижский', 'клиника', 'убеждённый', 'вино', 'медок', 'оказывать', 'благоприятный', 'воздействие', 'организм', 'ангина', 'сухой', 'шампанский', 'ревматизм', 'профессор', 'маскалье', 'медикофармакологический', 'институт', 'бордо', 'категоричный', 'заразить', 'микроб', 'вода', 'переставать', 'опасный', 'добавить', 'равный', 'количество', 'красный', 'вино', 'ибо', 'оно', 'содержать', 'танин', 'который', 'убивать', 'бактерия', 'профессор', 'часто', 'упоминать', 'слово', 'луи', 'пастер', 'вино', 'самый', 'здоровый', 'самый', 'гигиеничный', 'напиток', 'условие', 'употреблять', 'умеренно', 'лимон', 'хороший', 'природный', 'антисептик', 'пить', 'чай', 'лимон', 'начинаться', 'простуда', 'лимон', 'входить', 'состав', 'множество', 'лечебный', 'препарат', 'который', 'снимать', 'воспаление', 'заживлять', 'рана', 'убивать', 'микроб', 'глист', 'укреплять', 'организм', 'обладать', 'противосклеротический', 'эффект', 'самый', 'известный', 'свойство', 'лимон', 'это', 'способность', 'помогать', 'справляться', 'вирус', 'инфекция', 'период', 'простудный', 'заболевание', 'также', 'употреблять', 'цель', 'профилактика', 'лимон', 'способствовать', 'укрепление', 'иммунитет', 'сок', 'лимон', 'развести', 'вода', 'лимон', 'стакан', 'вода', 'полезный', 'полоскание', 'ангина', 'воспалительный', 'заболевание', 'слизистый', 'оболочка', 'рот', 'глотка', 'сок', 'употреблять', 'наружное', 'лекарство', 'грибковый', 'заболевание', 'кожа', 'начинаться', 'ангина', 'помогать', 'медленный', 'жевание', 'сырой', 'лимон', 'особенно', 'цедра', 'час', 'давать', 'возможность', 'эфирный', 'масло', 'лимонный', 'кислота', 'воздействовать', 'воспалить', 'слизистый', 'оболочка', 'горло', 'процедура', 'повторять', 'час', 'лук', 'весь', 'известный', 'природный', 'антисептик', 'антибиотик', 'лук', 'человек', 'относиться', 'серьёзный', 'уважаемый', 'продукт', 'использовать', 'приправа', 'еда', 'качество', 'народный', 'средство', 'многий', 'болезнь', 'рекомендоваться', 'круглый', 'год', 'особенно', 'осень', 'зимой', 'возрастать', 'вероятность', 'орз', 'биологически', 'активный', 'вещество', 'присутствовать', 'сок', 'мякоть', 'лука', 'помогать', 'повысить', 'иммунитет', 'убивать', 'патогенный', 'микроорганизм', 'нормализовать', 'кишечный', 'флор', 'восстанавливать', 'микробный', 'баланс', 'полость', 'рот', 'кроме', 'лук', 'предотвращать', 'развитие', 'гнилостный', 'процесс', 'кишечник', 'помогать', 'справиться', 'фурункулз', 'некоторый', 'другой', 'кожный', 'заболевание', 'сок', 'репчатый', 'лука', 'это', 'природный', 'антибиотик', 'который', 'оберегать', 'простуда', 'простудиться', 'употр', 'еблять', 'лук', 'фитонцид', 'побороть', 'вирус', 'ангина', 'укрепить', 'верхний', 'дыхательный', 'путь', 'лук', 'активировать', 'обмен', 'вещество', 'способствовать', 'кроветворение', 'очищение', 'кровь', 'стимулировать', 'процесс', 'пищеварение', 'выводить', 'организм', 'лишний', 'жидкость', 'кверцитин', 'содержаться', 'лука', 'противостоять', 'раковый', 'заболевание', 'применяться', 'онкология', 'лук', 'издавать', 'свой', 'неповторимый', 'горьковатый', 'аромат', 'благодаря', 'наличие', 'немой', 'эфирный', 'масло', 'богатый', 'лук', 'фитонцид', 'целебный', 'летучий', 'вещество', 'который', 'убивать', 'большой', 'количество', 'микроб', 'число', 'стрептококк', 'дизентерийный', 'дифтерийный', 'туберкулёзный', 'палочка', 'пожевать', 'лучок', 'уничтожить', 'неблагоприятный', 'микрофлора', 'полость', 'рот', 'фитонцид', 'лука', 'несколько', 'минута', 'погубить', 'вредный', 'бактерия', 'дальнейший', 'позволить', 'размножаться', 'быть', 'забывать', 'рекомендация', 'наш', 'бабушка', 'который', 'советовать', 'употреблять', 'лучок', 'каждый', 'день', 'аппетит', 'здоровье', 'есть', 'лук', 'бог', 'избавить', 'мука', 'лук', 'семь', 'недуг', 'лук', 'баня', 'править', 'говорить', 'наш', 'предок', 'малина', 'прекрасный', 'противовоспалительный', 'антисептический', 'антибактериальный', 'потогонное', 'средство', 'успешно', 'бороться', 'инфекция', 'верхний', 'дыхательный', 'путь', 'простуда', 'содержаться', 'малин', 'салициловый', 'кислота', 'понижать', 'температура', 'вызывать', 'осложнение', 'благотворно', 'влиять', 'нервный', 'система', 'повышать', 'аппетит', 'являться', 'отличный', 'антидепрессант', 'ягода', 'малина', 'снимать', 'боль', 'сустав', 'это', 'вкусный', 'полезный', 'ягода', 'который', 'тот', 'обладать', 'рядом', 'полезный', 'свойство', 'применять', 'лечение', 'простудный', 'заболевание', 'инфекционный', 'заболевание', 'верхний', 'дыхательный', 'путь', 'малина', 'содержать', 'салициловый', 'кислота', 'который', 'снижать', 'температура', 'побочный', 'эффект', 'малина', 'обладать', 'противовоспалительный', 'потогонное', 'антисептический', 'свойство', 'кроме', 'малина', 'повышать', 'аппетит', 'снимать', 'боль', 'сустав', 'благодаря', 'наличие', 'ягода', 'медь', 'являться', 'антидепрессант', 'применять', 'некоторый', 'заболевание', 'почка', 'поджелудочный', 'подагра', 'мд', 'прополис', 'чистый', 'мёд', 'прополис', 'являться', 'сильный', 'природный', 'антибиотик', 'который', 'способный', 'убить', 'золотистый', 'стафилококк', 'результат', 'различный', 'исследование', 'показывать', 'постоянный', 'употребление', 'мёд', 'повышать', 'иммунологический', 'реактивность', 'организм', 'делать', 'устойчивый', 'инфекция', 'заболевание', 'организм', 'переносить', 'лёгкий', 'практика', 'известно', 'мёд', 'сохранять', 'подходящий', 'условие', 'открытый', 'сосуд', 'плесневеть', 'загнивать', 'особенность', 'мёд', 'дать', 'основание', 'использовать', 'древность', 'настоящий', 'время', 'лечение', 'гнойный', 'инфицировать', 'ран', 'ещ', 'вначале', 'прошлое', 'век', 'учный', 'обнаружить', 'пчелиный', 'улья', 'бактериальный', 'флора', 'незначительный', 'несмотря', 'благоприятный', 'температурный', 'условие', 'развитие', 'бактерия', '20е', 'год', 'хх', 'век', 'установить', 'мёд', 'убивать', 'бактерия', 'возбудитель', 'брюшной', 'тиф', 'паратиф', 'дизентерия', 'также', 'яйцо', 'кишечный', 'паразит', 'глист', 'сенной', 'бацилла', 'картофельный', 'сибиреязвенный', 'палочка', 'антибактериальный', 'свойство', 'мёд', 'основываться', 'абсолютный', 'стерильность', 'этот', 'явление', 'искать', 'объяснение', 'говорить', 'причина', 'мочь', 'органический', 'кислота', 'фермент', 'сахар', 'впоследствии', 'установить', 'это', 'антибиотический', 'вещество', 'ингибин', 'который', 'обладать', 'натуральный', 'пчелиный', 'продукт', 'один', 'версия', 'оно', 'иметь', 'растительный', 'происхождение', 'являться', 'эфирный', 'масло', 'это', 'фермент', 'который', 'вырабатывать', 'пчела', 'добавить', 'нектар', 'процесс', 'изготовление', 'мёд', 'однако', 'антибактериальный', 'свойство', 'мёд', 'влиять', 'ингибин', 'также', 'обеспечиваться', 'фитонцид', 'растение', 'который', 'обладать', 'нектар', 'пыльца', 'ароматический', 'другой', 'вещество', 'простой', 'говорить', 'пчела', 'консервировать', 'продукт', 'сей', 'пора', 'являться', 'загадка', 'ингибин', 'влиять', 'антибактериальный', 'свойство', 'мёд', 'вредный', 'повышенный', 'температура', 'солнечный', 'свет', 'прополис', 'пчелиный', 'клей', 'это', 'клейкий', 'смолистый', 'вещество', 'собирать', 'пчела', 'растение', 'разный', 'вид', 'перерабатывать', 'они', 'ульекак', 'мд', 'прополис', 'применять', 'очень', 'широко', 'самый', 'различный', 'заболевание', 'ангина', 'заболевание', 'полость', 'рот', 'разжёвывать', 'прополис', 'настойка', 'прополис', 'успешно', 'применяться', 'отит', 'фарингит', 'тонзиллит', 'гайморит', 'гнойный', 'рана', 'спектр', 'полезный', 'действие', 'прополис', 'необычайно', 'широкий', 'скорый', 'заживление', 'ран', 'способствовать', 'иммунитет', 'поддерживать', 'должный', 'уровень', 'едва', 'весь', 'вид', 'грибок', 'позволять', 'расправиться', 'стенка', 'сосуд', 'укреплять', 'обезболивать', 'действие', 'оказывать', 'старина', 'прополис', 'обмазывать', 'разделать', 'дичь', 'любой', 'другой', 'вид', 'мясо', 'позволять', 'сохранять', 'свежесть', 'протяжение', 'несколько', 'час', 'условие', 'жара', 'палящий', 'солнечный', 'луч', 'прополис', 'вызывать', 'устойчивость', 'микроорганизм', 'поэтому', 'смело', 'считать', 'природный', 'антибиотик', 'широкий', 'действие', 'постоянный', 'лекарство', 'эффективность', 'доказать', 'очень', 'высокий', 'заболеть', 'простуда', 'нужно', 'принимать', 'настойка', 'прополис', 'капля', 'стакан', 'вода', 'раз', 'день', 'течение', 'неделя', 'курс', 'повторять', 'несколько', 'год', 'простудный', 'период', 'какимтый', 'событие', 'например', 'заболеть', 'праздник', 'командировка', 'отпуск', 'облепиха', 'целебный', 'свойство', 'облепиха', 'определяться', 'высокий', 'содержание', 'плод', 'целое', 'букет', 'витамин', 'микроэлемент', 'органический', 'кислота', 'чрезвычайно', 'важный', 'профилактика', 'лечение', 'многий', 'заболевание', 'плод', 'употреблять', 'свежий', 'вид', 'готовить', 'богатый', 'витамин', 'сок', 'сироп', 'компот', 'кисель', 'пастила', 'мармелад', 'желе', 'джема', 'наливка', 'вино', 'настойка', 'ликёр', 'ягода', 'облепиха', 'сохраняться', 'заморозить', 'вид', 'красноплодный', 'сорт', 'облепиха', 'получать', 'уникальный', 'поливитаминный', 'препарат', 'который', 'найти', 'широкий', 'применение', 'медицина', 'облепиховый', 'масло', 'оно', 'обладать', 'бактерицидный', 'свойство', 'способствовать', 'эпителизация', 'ткань', 'заживлять', 'рана', 'повреждение', 'слизистый', 'оболочка', 'кожа', 'успокаивать', 'боль', 'острый', 'хронический', 'ларингит', 'фарингит', 'нужно', 'смазывать', 'слизистая', 'оболочка', 'ватный', 'тампон', 'смочить', 'облепиховый', 'масло', 'делать', 'масляный', 'ингаляция', 'ежедневно', 'минута', 'курс', 'лечение', 'состоять', 'процедура', 'удаление', 'миндалина', 'операционный', 'ана', 'смазывать', 'облепиховый', 'масло', 'это', 'снижать', 'температурный', 'реакция', 'способствовать', 'очищение', 'эпителизация', 'поверхность', 'рана', 'острый', 'хронический', 'гайморит', 'верхнечелюстной', 'пазуха', 'вводить', 'мл', 'стерильный', 'облепиховый', 'масло', 'профилактика', 'заболевание', 'верхний', 'дыхательный', 'путь', 'рекомендоваться', 'ингаляция', 'облепиховый', 'масло', 'хронический', 'воспалительный', 'процесс', 'тонкий', 'толстой', 'кишка', 'успех', 'использовать', 'облепиховый', 'масло', 'лечение', 'язва', 'двенадцатиперстный', 'кишка', 'желудок', 'многий', 'случай', 'эффективно', 'действовать', 'курс', 'лечение', 'облепиховый', 'масло', 'следовать', 'принимать', 'чайный', 'ложка', 'раз', 'день', 'минута', 'еда', 'повышенный', 'кислотность', 'желудок', 'облепиховый', 'масло', 'нужно', 'нейтрализовать', 'жжёный', 'магнезия', 'раствор', 'сода', 'эрозивноязвенный', 'проктит', 'сфинктерит', 'трещина', 'анус', 'внутренний', 'геморрой', 'назначать', 'свеча', 'облепиховый', 'масло', 'редька', 'содержать', 'витамин', 'соль', 'калий', 'кальций', 'сера', 'магний', 'полезный', 'сахарный', 'диабет', 'сок', 'оказывать', 'мочегонное', 'желчегонный', 'ранозаживляющий', 'бактерицидный', 'действие', 'улучшать', 'пищеварение', 'обмен', 'вещество', 'сок', 'чрной', 'редька', 'являться', 'мощный', 'антисептик', 'заживлять', 'рана', 'язва', 'отхаркивающий', 'противопростудный', 'средство', 'редька', 'мдом', 'отлично', 'помогать', 'справиться', 'кашель', 'редька', 'нормализовать', 'работа', 'орган', 'пищеварение', 'улучшать', 'аппетит', 'человек', 'гастрит', 'язва', 'желудок', '12типерстный', 'кишка', 'сок', 'редька', 'противопоказанный', 'относиться', 'редька', 'сильнодействующий', 'природный', 'антибиотик', 'редька', 'обладать', 'антибактериальный', 'действие', 'выводить', 'токсин', 'организм', 'нормализовать', 'работа', 'орган', 'пищеварение', 'принимать', 'внутрь', 'кашель', 'грипп', 'ангина', 'простудный', 'заболевание', 'бронхит', 'отличный', 'рецепт', 'являться', 'редька', 'мёд', 'применять', 'кожный', 'заболевание', 'качество', 'наружное', 'средство', 'популярно', 'употребление', 'сок', 'редька', 'смешанный', 'пропорция', 'мёд', 'сахар', 'катар', 'верхний', 'дыхательный', 'путь', 'бронхит', 'коклюш', 'это', 'лекарство', 'принимать', 'столовая', 'ложка', 'раз', 'день', 'действовать', 'отхаркивающий', 'успокаивать', 'кашель', 'средство', 'стоить', 'принимать', 'редька', 'сердечнососудистый', 'патология', 'тяжёлый', 'заболевание', 'почка', 'язва', 'желудок', 'двенадцатиперстный', 'кишка', 'хрен', 'известный', 'свой', 'лекарственный', 'свойство', 'крещение', 'русь', 'корень', 'хрен', 'содержать', 'эфирный', 'масло', 'лизоцим', 'известный', 'антимикробный', 'свойство', 'множество', 'витамин', 'минерал', 'измельчение', 'хрен', 'выделяться', 'аллиловый', 'горчичный', 'масло', 'обладать', 'фитонцидный', 'действие', 'сочетание', 'эфирный', 'масло', 'лизоцим', 'делать', 'корень', 'хрен', 'сильный', 'природный', 'антибиотик', 'применяться', 'инфекционный', 'заболевание', 'верхний', 'дыхательный', 'путь', 'рецепт', 'хреновый', 'закуска', 'известный', 'каждый', 'семья', 'протёртый', 'хрен', 'чеснок', 'помидор', 'соль', 'уксус', 'масло', 'раскладывать', 'баночка', 'держать', 'холодильник', 'это', 'острый', 'добавка', 'холодец', 'другой', 'блюдо', 'лекарственный', 'средство', 'профилактика', 'лечение', 'инфекционный', 'заболевание', 'корн', 'растение', 'который', 'встретить', 'любой', 'огород', 'дачный', 'участок', 'содержаться', 'гликозид', 'синигрин', 'горчичный', 'масло', 'корень', 'хрен', 'растереть', 'оба', 'вещество', 'соединиться', 'воздействие', 'кислород', 'результат', 'образоваться', 'аллилгорчичный', 'масло', 'аллилизотиоцианат', 'естественный', 'антибиотик', 'это', 'соединение', 'успешно', 'бороться', 'бактерия', 'носоглотка', 'полость', 'рот', 'растение', 'содержать', 'большой', 'количество', 'аскорбиновый', 'кислота', 'каротин', 'витамин', 'группа', 'минеральный', 'соль', 'калий', 'кальций', 'фосфор', 'смолистый', 'азотистый', 'вещество', 'благодаря', 'высокий', 'содержание', 'витамин', 'особенно', 'витамин', 'хрен', 'являться', 'хороший', 'противоцинготный', 'средство', 'другой', 'ценный', 'свойство', 'хрен', 'наличие', 'нм', 'фитонцид', 'способствовать', 'уничтожение', 'бактерия', 'микроорганизм', 'поэтому', 'издавна', 'хрен', 'использовать', 'хранение', 'продукт', 'пересыпать', 'нарезать', 'кусочек', 'корень', 'хрен', 'помощь', 'настойка', 'ст', 'ложка', 'тртого', 'хрен', 'ст', 'мда', 'вылечить', 'трахеит', 'бронхит', 'хронический', 'кашель', 'цистит', 'устранить', 'залить', 'ложка', 'тртого', 'хрен', 'стакан', 'кипяток', 'выпивать', 'мл', 'такой', 'чай', 'трижды', 'день', 'чрный', 'смородина', 'целебный', 'свойство', 'чрный', 'смородина', 'нередко', 'называть', 'домашний', 'доктор', 'это', 'ценить', 'наш', 'предок', 'русский', 'травник', 'лечебник', 'xvxvi', 'век', 'чёрный', 'смородина', 'упоминаться', 'лечебный', 'растение', 'исцелять', 'множество', 'недуг', 'этот', 'полезный', 'ягода', 'обладать', 'противовоспалительный', 'дезинфицировать', 'свойство', 'сок', 'применяться', 'лечение', 'ангина', 'народный', 'медицина', 'этот', 'ягода', 'использоваться', 'приготовление', 'травяной', 'чай', 'лекарство', 'диарея', 'жара', 'ягода', 'лист', 'чрной', 'смородина', 'помогать', 'простуда', 'вирусный', 'инфекционный', 'заболевание', 'заболевание', 'верхний', 'дыхательный', 'путь', 'ягода', 'чрной', 'смородина', 'содержать', 'фитонцид', 'препятствовать', 'рост', 'микроб', 'очень', 'полезный', 'витамин', 'антисептический', 'свойство', 'чрной', 'смородина', 'настолько', 'большой', 'полоскание', 'горло', 'сок', 'разбавить', 'вода', 'короткий', 'время', 'помогать', 'избавиться', 'ангина', 'сок', 'смородина', 'также', 'эффективный', 'сильный', 'кашель', 'состав', 'чёрный', 'смородина', 'особый', 'биологически', 'активный', 'вещество', 'фитонцид', 'способный', 'подавлять', 'убивать', 'вирус', 'бактерия', 'микроскопический', 'гриб', 'фитонцид', 'сок', 'чёрный', 'смородина', 'способный', 'обезвредить', 'трихомонада', 'золотистый', 'стафилококк', 'биологический', 'вещество', 'активно', 'действовать', 'низкий', 'высокий', 'температура', 'чеснок', 'общеизвестный', 'природный', 'антибиотик', 'обладать', 'биостимулирующий', 'действие', 'включать', 'собственный', 'иммунный', 'клетка', 'организм', 'тлимфоцит', 'эфирный', 'масло', 'чеснок', 'действовать', 'антисептический', 'средство', 'внутрь', 'вид', 'настойка', 'биостимулирующий', 'особенность', 'эфирный', 'масло', 'чеснок', 'являться', 'действовать', 'подобно', 'омега3', 'кислота', 'объяснять', 'антираковый', 'свойство', 'чеснок', 'также', 'применение', 'кардиологический', 'заболевание', 'повышенный', 'холестерин', 'чеснок', 'выводить', 'кишечный', 'прочий', 'паразит', 'уничтожать', 'бактерия', 'вирус', 'снижать', 'давление', 'предотвращать', 'тромбоз', 'это', 'растение', 'обладать', 'антиоксидантный', 'свойство', 'предупреждать', 'онкологический', 'заболевание', 'зубчик', 'чеснок', 'содержать', 'болье', 'полезный', 'соединение', 'чеснок', 'лечить', 'дифтерия', 'язвенный', 'болезнь', 'туберкулзти', 'различный', 'глистный', 'заболевание', 'универсальный', 'чесночный', 'ликра', 'приготавливаться', 'прозрачный', 'стеклянный', 'мкостя', 'поместить', 'зубчик', 'чеснок', 'залить', 'красный', 'вино', 'настаивать', 'окно', 'неделя', 'abcslimru', 'это', 'интересно', 'вс', 'выглядеть', 'блог', 'каждый', 'день', 'каждый', 'сталкиваться', 'огромный', 'количество', 'микроорганизм', 'простой', 'скопировать', 'код', 'блог', 'обновить', 'просмотр', 'писать', 'комментарий', 'необходимо', 'спасибо']\"\n",
     "output_type": "error",
     "traceback": [
      "\u001B[0;31m---------------------------------------------------------------------------\u001B[0m",
      "\u001B[0;31mValueError\u001B[0m                                Traceback (most recent call last)",
      "Cell \u001B[0;32mIn[43], line 4\u001B[0m\n\u001B[1;32m      2\u001B[0m knn_params \u001B[38;5;241m=\u001B[39m {\u001B[38;5;124m'\u001B[39m\u001B[38;5;124mn_neighbors\u001B[39m\u001B[38;5;124m'\u001B[39m: [\u001B[38;5;241m3\u001B[39m, \u001B[38;5;241m5\u001B[39m, \u001B[38;5;241m7\u001B[39m, \u001B[38;5;241m10\u001B[39m]}\n\u001B[1;32m      3\u001B[0m knn_grid \u001B[38;5;241m=\u001B[39m GridSearchCV(KNeighborsClassifier(), knn_params, cv\u001B[38;5;241m=\u001B[39m\u001B[38;5;241m5\u001B[39m, scoring\u001B[38;5;241m=\u001B[39m\u001B[38;5;124m'\u001B[39m\u001B[38;5;124mf1\u001B[39m\u001B[38;5;124m'\u001B[39m, n_jobs\u001B[38;5;241m=\u001B[39m\u001B[38;5;241m-\u001B[39m\u001B[38;5;241m1\u001B[39m)\n\u001B[0;32m----> 4\u001B[0m \u001B[43mknn_grid\u001B[49m\u001B[38;5;241;43m.\u001B[39;49m\u001B[43mfit\u001B[49m\u001B[43m(\u001B[49m\u001B[43mX_train_split\u001B[49m\u001B[43m,\u001B[49m\u001B[43m \u001B[49m\u001B[43my_train_split\u001B[49m\u001B[43m)\u001B[49m\n\u001B[1;32m      5\u001B[0m best_knn \u001B[38;5;241m=\u001B[39m knn_grid\u001B[38;5;241m.\u001B[39mbest_estimator_\n",
      "File \u001B[0;32m~/PycharmProjects/VK_ML_Project/venv/lib/python3.9/site-packages/sklearn/base.py:1473\u001B[0m, in \u001B[0;36m_fit_context.<locals>.decorator.<locals>.wrapper\u001B[0;34m(estimator, *args, **kwargs)\u001B[0m\n\u001B[1;32m   1466\u001B[0m     estimator\u001B[38;5;241m.\u001B[39m_validate_params()\n\u001B[1;32m   1468\u001B[0m \u001B[38;5;28;01mwith\u001B[39;00m config_context(\n\u001B[1;32m   1469\u001B[0m     skip_parameter_validation\u001B[38;5;241m=\u001B[39m(\n\u001B[1;32m   1470\u001B[0m         prefer_skip_nested_validation \u001B[38;5;129;01mor\u001B[39;00m global_skip_validation\n\u001B[1;32m   1471\u001B[0m     )\n\u001B[1;32m   1472\u001B[0m ):\n\u001B[0;32m-> 1473\u001B[0m     \u001B[38;5;28;01mreturn\u001B[39;00m \u001B[43mfit_method\u001B[49m\u001B[43m(\u001B[49m\u001B[43mestimator\u001B[49m\u001B[43m,\u001B[49m\u001B[43m \u001B[49m\u001B[38;5;241;43m*\u001B[39;49m\u001B[43margs\u001B[49m\u001B[43m,\u001B[49m\u001B[43m \u001B[49m\u001B[38;5;241;43m*\u001B[39;49m\u001B[38;5;241;43m*\u001B[39;49m\u001B[43mkwargs\u001B[49m\u001B[43m)\u001B[49m\n",
      "File \u001B[0;32m~/PycharmProjects/VK_ML_Project/venv/lib/python3.9/site-packages/sklearn/model_selection/_search.py:968\u001B[0m, in \u001B[0;36mBaseSearchCV.fit\u001B[0;34m(self, X, y, **params)\u001B[0m\n\u001B[1;32m    962\u001B[0m     results \u001B[38;5;241m=\u001B[39m \u001B[38;5;28mself\u001B[39m\u001B[38;5;241m.\u001B[39m_format_results(\n\u001B[1;32m    963\u001B[0m         all_candidate_params, n_splits, all_out, all_more_results\n\u001B[1;32m    964\u001B[0m     )\n\u001B[1;32m    966\u001B[0m     \u001B[38;5;28;01mreturn\u001B[39;00m results\n\u001B[0;32m--> 968\u001B[0m \u001B[38;5;28;43mself\u001B[39;49m\u001B[38;5;241;43m.\u001B[39;49m\u001B[43m_run_search\u001B[49m\u001B[43m(\u001B[49m\u001B[43mevaluate_candidates\u001B[49m\u001B[43m)\u001B[49m\n\u001B[1;32m    970\u001B[0m \u001B[38;5;66;03m# multimetric is determined here because in the case of a callable\u001B[39;00m\n\u001B[1;32m    971\u001B[0m \u001B[38;5;66;03m# self.scoring the return type is only known after calling\u001B[39;00m\n\u001B[1;32m    972\u001B[0m first_test_score \u001B[38;5;241m=\u001B[39m all_out[\u001B[38;5;241m0\u001B[39m][\u001B[38;5;124m\"\u001B[39m\u001B[38;5;124mtest_scores\u001B[39m\u001B[38;5;124m\"\u001B[39m]\n",
      "File \u001B[0;32m~/PycharmProjects/VK_ML_Project/venv/lib/python3.9/site-packages/sklearn/model_selection/_search.py:1543\u001B[0m, in \u001B[0;36mGridSearchCV._run_search\u001B[0;34m(self, evaluate_candidates)\u001B[0m\n\u001B[1;32m   1541\u001B[0m \u001B[38;5;28;01mdef\u001B[39;00m \u001B[38;5;21m_run_search\u001B[39m(\u001B[38;5;28mself\u001B[39m, evaluate_candidates):\n\u001B[1;32m   1542\u001B[0m \u001B[38;5;250m    \u001B[39m\u001B[38;5;124;03m\"\"\"Search all candidates in param_grid\"\"\"\u001B[39;00m\n\u001B[0;32m-> 1543\u001B[0m     \u001B[43mevaluate_candidates\u001B[49m\u001B[43m(\u001B[49m\u001B[43mParameterGrid\u001B[49m\u001B[43m(\u001B[49m\u001B[38;5;28;43mself\u001B[39;49m\u001B[38;5;241;43m.\u001B[39;49m\u001B[43mparam_grid\u001B[49m\u001B[43m)\u001B[49m\u001B[43m)\u001B[49m\n",
      "File \u001B[0;32m~/PycharmProjects/VK_ML_Project/venv/lib/python3.9/site-packages/sklearn/model_selection/_search.py:945\u001B[0m, in \u001B[0;36mBaseSearchCV.fit.<locals>.evaluate_candidates\u001B[0;34m(candidate_params, cv, more_results)\u001B[0m\n\u001B[1;32m    938\u001B[0m \u001B[38;5;28;01melif\u001B[39;00m \u001B[38;5;28mlen\u001B[39m(out) \u001B[38;5;241m!=\u001B[39m n_candidates \u001B[38;5;241m*\u001B[39m n_splits:\n\u001B[1;32m    939\u001B[0m     \u001B[38;5;28;01mraise\u001B[39;00m \u001B[38;5;167;01mValueError\u001B[39;00m(\n\u001B[1;32m    940\u001B[0m         \u001B[38;5;124m\"\u001B[39m\u001B[38;5;124mcv.split and cv.get_n_splits returned \u001B[39m\u001B[38;5;124m\"\u001B[39m\n\u001B[1;32m    941\u001B[0m         \u001B[38;5;124m\"\u001B[39m\u001B[38;5;124minconsistent results. Expected \u001B[39m\u001B[38;5;132;01m{}\u001B[39;00m\u001B[38;5;124m \u001B[39m\u001B[38;5;124m\"\u001B[39m\n\u001B[1;32m    942\u001B[0m         \u001B[38;5;124m\"\u001B[39m\u001B[38;5;124msplits, got \u001B[39m\u001B[38;5;132;01m{}\u001B[39;00m\u001B[38;5;124m\"\u001B[39m\u001B[38;5;241m.\u001B[39mformat(n_splits, \u001B[38;5;28mlen\u001B[39m(out) \u001B[38;5;241m/\u001B[39m\u001B[38;5;241m/\u001B[39m n_candidates)\n\u001B[1;32m    943\u001B[0m     )\n\u001B[0;32m--> 945\u001B[0m \u001B[43m_warn_or_raise_about_fit_failures\u001B[49m\u001B[43m(\u001B[49m\u001B[43mout\u001B[49m\u001B[43m,\u001B[49m\u001B[43m \u001B[49m\u001B[38;5;28;43mself\u001B[39;49m\u001B[38;5;241;43m.\u001B[39;49m\u001B[43merror_score\u001B[49m\u001B[43m)\u001B[49m\n\u001B[1;32m    947\u001B[0m \u001B[38;5;66;03m# For callable self.scoring, the return type is only know after\u001B[39;00m\n\u001B[1;32m    948\u001B[0m \u001B[38;5;66;03m# calling. If the return type is a dictionary, the error scores\u001B[39;00m\n\u001B[1;32m    949\u001B[0m \u001B[38;5;66;03m# can now be inserted with the correct key. The type checking\u001B[39;00m\n\u001B[1;32m    950\u001B[0m \u001B[38;5;66;03m# of out will be done in `_insert_error_scores`.\u001B[39;00m\n\u001B[1;32m    951\u001B[0m \u001B[38;5;28;01mif\u001B[39;00m \u001B[38;5;28mcallable\u001B[39m(\u001B[38;5;28mself\u001B[39m\u001B[38;5;241m.\u001B[39mscoring):\n",
      "File \u001B[0;32m~/PycharmProjects/VK_ML_Project/venv/lib/python3.9/site-packages/sklearn/model_selection/_validation.py:529\u001B[0m, in \u001B[0;36m_warn_or_raise_about_fit_failures\u001B[0;34m(results, error_score)\u001B[0m\n\u001B[1;32m    522\u001B[0m \u001B[38;5;28;01mif\u001B[39;00m num_failed_fits \u001B[38;5;241m==\u001B[39m num_fits:\n\u001B[1;32m    523\u001B[0m     all_fits_failed_message \u001B[38;5;241m=\u001B[39m (\n\u001B[1;32m    524\u001B[0m         \u001B[38;5;124mf\u001B[39m\u001B[38;5;124m\"\u001B[39m\u001B[38;5;130;01m\\n\u001B[39;00m\u001B[38;5;124mAll the \u001B[39m\u001B[38;5;132;01m{\u001B[39;00mnum_fits\u001B[38;5;132;01m}\u001B[39;00m\u001B[38;5;124m fits failed.\u001B[39m\u001B[38;5;130;01m\\n\u001B[39;00m\u001B[38;5;124m\"\u001B[39m\n\u001B[1;32m    525\u001B[0m         \u001B[38;5;124m\"\u001B[39m\u001B[38;5;124mIt is very likely that your model is misconfigured.\u001B[39m\u001B[38;5;130;01m\\n\u001B[39;00m\u001B[38;5;124m\"\u001B[39m\n\u001B[1;32m    526\u001B[0m         \u001B[38;5;124m\"\u001B[39m\u001B[38;5;124mYou can try to debug the error by setting error_score=\u001B[39m\u001B[38;5;124m'\u001B[39m\u001B[38;5;124mraise\u001B[39m\u001B[38;5;124m'\u001B[39m\u001B[38;5;124m.\u001B[39m\u001B[38;5;130;01m\\n\u001B[39;00m\u001B[38;5;130;01m\\n\u001B[39;00m\u001B[38;5;124m\"\u001B[39m\n\u001B[1;32m    527\u001B[0m         \u001B[38;5;124mf\u001B[39m\u001B[38;5;124m\"\u001B[39m\u001B[38;5;124mBelow are more details about the failures:\u001B[39m\u001B[38;5;130;01m\\n\u001B[39;00m\u001B[38;5;132;01m{\u001B[39;00mfit_errors_summary\u001B[38;5;132;01m}\u001B[39;00m\u001B[38;5;124m\"\u001B[39m\n\u001B[1;32m    528\u001B[0m     )\n\u001B[0;32m--> 529\u001B[0m     \u001B[38;5;28;01mraise\u001B[39;00m \u001B[38;5;167;01mValueError\u001B[39;00m(all_fits_failed_message)\n\u001B[1;32m    531\u001B[0m \u001B[38;5;28;01melse\u001B[39;00m:\n\u001B[1;32m    532\u001B[0m     some_fits_failed_message \u001B[38;5;241m=\u001B[39m (\n\u001B[1;32m    533\u001B[0m         \u001B[38;5;124mf\u001B[39m\u001B[38;5;124m\"\u001B[39m\u001B[38;5;130;01m\\n\u001B[39;00m\u001B[38;5;132;01m{\u001B[39;00mnum_failed_fits\u001B[38;5;132;01m}\u001B[39;00m\u001B[38;5;124m fits failed out of a total of \u001B[39m\u001B[38;5;132;01m{\u001B[39;00mnum_fits\u001B[38;5;132;01m}\u001B[39;00m\u001B[38;5;124m.\u001B[39m\u001B[38;5;130;01m\\n\u001B[39;00m\u001B[38;5;124m\"\u001B[39m\n\u001B[1;32m    534\u001B[0m         \u001B[38;5;124m\"\u001B[39m\u001B[38;5;124mThe score on these train-test partitions for these parameters\u001B[39m\u001B[38;5;124m\"\u001B[39m\n\u001B[0;32m   (...)\u001B[0m\n\u001B[1;32m    538\u001B[0m         \u001B[38;5;124mf\u001B[39m\u001B[38;5;124m\"\u001B[39m\u001B[38;5;124mBelow are more details about the failures:\u001B[39m\u001B[38;5;130;01m\\n\u001B[39;00m\u001B[38;5;132;01m{\u001B[39;00mfit_errors_summary\u001B[38;5;132;01m}\u001B[39;00m\u001B[38;5;124m\"\u001B[39m\n\u001B[1;32m    539\u001B[0m     )\n",
      "\u001B[0;31mValueError\u001B[0m: \nAll the 20 fits failed.\nIt is very likely that your model is misconfigured.\nYou can try to debug the error by setting error_score='raise'.\n\nBelow are more details about the failures:\n--------------------------------------------------------------------------------\n4 fits failed with the following error:\nTraceback (most recent call last):\n  File \"/Users/taniyashuba/PycharmProjects/VK_ML_Project/venv/lib/python3.9/site-packages/sklearn/model_selection/_validation.py\", line 888, in _fit_and_score\n    estimator.fit(X_train, y_train, **fit_params)\n  File \"/Users/taniyashuba/PycharmProjects/VK_ML_Project/venv/lib/python3.9/site-packages/sklearn/base.py\", line 1473, in wrapper\n    return fit_method(estimator, *args, **kwargs)\n  File \"/Users/taniyashuba/PycharmProjects/VK_ML_Project/venv/lib/python3.9/site-packages/sklearn/neighbors/_classification.py\", line 238, in fit\n    return self._fit(X, y)\n  File \"/Users/taniyashuba/PycharmProjects/VK_ML_Project/venv/lib/python3.9/site-packages/sklearn/neighbors/_base.py\", line 475, in _fit\n    X, y = self._validate_data(\n  File \"/Users/taniyashuba/PycharmProjects/VK_ML_Project/venv/lib/python3.9/site-packages/sklearn/base.py\", line 650, in _validate_data\n    X, y = check_X_y(X, y, **check_params)\n  File \"/Users/taniyashuba/PycharmProjects/VK_ML_Project/venv/lib/python3.9/site-packages/sklearn/utils/validation.py\", line 1273, in check_X_y\n    X = check_array(\n  File \"/Users/taniyashuba/PycharmProjects/VK_ML_Project/venv/lib/python3.9/site-packages/sklearn/utils/validation.py\", line 1007, in check_array\n    array = _asarray_with_order(array, order=order, dtype=dtype, xp=xp)\n  File \"/Users/taniyashuba/PycharmProjects/VK_ML_Project/venv/lib/python3.9/site-packages/sklearn/utils/_array_api.py\", line 746, in _asarray_with_order\n    array = numpy.asarray(array, order=order, dtype=dtype)\n  File \"/Users/taniyashuba/PycharmProjects/VK_ML_Project/venv/lib/python3.9/site-packages/pandas/core/generic.py\", line 2153, in __array__\n    arr = np.asarray(values, dtype=dtype)\nValueError: could not convert string to float: \"['заходить', 'местный', 'пункт', 'прима', 'металл', 'попадаться', 'вещь', 'который', 'сдавать', 'утиль', 'это', 'ещ', 'материал', 'который', 'сварганить', 'зайти', 'очередной', 'пункт', 'обнаружить', 'приличный', 'количество', 'нержавеющий', 'стать', 'лист', '5мм', 'толщина', 'профильный', 'мангал', 'сообщество', 'сделать', 'drive2', 'войти', 'почта', 'день', 'назад', 'заходить', 'местный', 'пункт', 'прима', 'металл', 'попадаться', 'вещь', 'который', 'сдавать', 'утиль', 'это', 'ещ', 'материал', 'который', 'сварганить', 'зайти', 'очередной', 'пункт', 'обнаружить', 'приличный', 'количество', 'нержавеющий', 'стать', 'лист', '5мм', 'толщина', 'профильный', 'труба', 'несколько', 'метр', 'сделаться', 'такой', 'год', 'нравиться', 'поделиться', 'участвовать', 'обсуждение', 'мочь', 'зарегистрировать', 'пользователь', 'войти', 'почта', 'сколь', 'это', 'хозяйство', 'достаться', 'металолом', 'бартер', 'взять', 'блин', 'интересно', 'сколько', 'такой', 'обойтись', 'бартер', 'деньга', 'повезт', 'рубль', 'продать', 'сколько', 'ты', 'вс', 'равно', 'спрашивать', 'откуда', 'деньга', 'внедорожник', 'один', 'монстр', 'классно', 'получиться', 'колесо', 'маловатый', 'спасибо', 'плитка', 'бетон', 'катить', 'мягенький', 'морг', 'спизлить', 'жутковатый', 'выглядеть', 'классно', 'туда', 'пара', 'окрававленный', 'тампон', 'зап', 'зажим', 'скальпель', 'резиновый', 'перчатка', 'тайна', 'ростовский', 'маньяк', 'раскрыть', 'ребята', 'богатый', 'фантазия', 'это', 'здорово', 'больница', 'зачастую', 'вс', 'чернуха', 'сделать', 'морг', 'чтоб', 'каталка', 'нержиэта', 'прям', 'ващий', 'что', 'искать', 'другой', 'сравнение', 'выездной', 'рабочий', 'место', 'патологоанатом', 'вообще', 'шикарно', 'получиться', 'ухах', 'даж', 'кушать', 'хочеться', 'ответ', 'комментарий', 'ухах', 'даж', 'кушать', 'хочеться', 'кушать', 'ахахакрасаваутро', 'ответ', 'комментарий', 'кушать', 'эт', 'ващий', 'печаль', 'камин', 'дом', 'мангал', 'разборный', 'природа', 'любить', 'деревянный', 'рогулька', 'берег', 'река', 'кушать', 'дом', 'практически', 'жарить', 'процесс', 'жарка', 'мясо', 'огонь', 'напоминать', 'человек', 'природа', 'охотник', 'различный', 'мангал', 'сердечко', 'вид', 'паровоз', 'это', 'обычный', 'фалометрия', 'кто', 'простой', 'разборный', 'удобство', 'согласный', 'мясо', 'принцип', 'гуд', 'поэтому', 'мангал', 'мало', 'интересовать', 'это', 'исключение', 'респект', 'нержавейка', 'это', 'часто', 'последний', 'время', 'лента', 'мангал', 'недавно', 'мм', 'сделать', 'месяц', 'эстетика', 'другой', 'дело', 'нержавейка', 'делать', 'сильно', 'вести', 'нержавейка', 'разный', 'бывать', 'знать', 'ответ', 'комментарий', 'нержавейка', 'разный', 'бывать', 'сделать', 'мангал', 'нужно', 'хозяин', 'спросить', 'ты', 'будущее', 'любой', 'нержавейка', 'везти', 'сталь', 'ответ', 'комментарий', 'нужно', 'хозяин', 'спросить', 'очень', 'больший', 'желание', 'спросить', 'делать', 'мангал', 'нержа', 'ведт', 'чернь', 'ёж', 'понятно', 'время', 'вид', 'иметь', 'превратиться', 'кусок', 'говно', 'ржавчина', 'вообще', 'мы', 'ты', 'вс', 'равно', 'сделать', 'похер', 'внешний', 'вид', 'нержавейка', 'нарушить', 'сварочный', 'шов', 'ответ', 'комментарий', 'сделать', 'мангал', 'лист', 'маркировка', 'примка', 'ответ', 'уклониться', 'ответ', 'комментарий', 'нержавейка', 'делать', 'сильно', 'вести', 'ответ', 'комментарий', 'мясо', 'принцип', 'гуд', 'поэтому', 'мангал', 'мало', 'интересовать', 'это', 'исключение', 'респект', 'нержавейка', 'это', 'часто', 'последний', 'время', 'лента', 'мангал', 'недавно', 'мм', 'сделать', 'месяц', 'эстетика', 'другой', 'дело', 'спасибо', 'класс', 'неплохо', 'получиться', 'колёсико', 'сомнительный', 'необходимость', 'простой', 'колёсико', 'штырь', 'лыжный', 'палка', 'садовый', 'тележка', 'таскать', 'весить', 'колесо', 'это', 'проблема', 'замена', 'колёсико', 'просто', 'получиться', 'шаткий', 'конструкция', 'колёсико', 'вращаться', 'вокруг', 'свой', 'свой', 'заблокировать', 'состояние', 'вращаться', 'вокруг', 'вертикальный', 'ось', 'должный', 'разблокировать', 'горизонтальный', 'другой', 'слово', 'крутиться', 'вокруг', 'жстко', 'закреплнный', 'колс', 'говорить', 'крутиться', 'говорить', 'шататься', 'эффект', 'десертный', 'столик', 'раздражать', 'торт', 'резать', 'устойчивый', 'согласный', 'сварной', 'шов', 'маленькиен', 'лопнуть', 'сам', 'мангал', 'катет', 'шов', 'большой', 'держать', 'каталка', 'хирургиипочий', 'делать', 'мангал', 'коптилка', 'прочее', 'нжпотому', 'нагрев', 'вести', 'разный', 'сторона', 'место', 'отличить', 'черняга', 'возвращается', 'норма', 'говорить', 'похожий', 'черняга', 'память', 'форма', 'место', 'вернться', 'ответ', 'комментарий', 'каталка', 'хирургиипочий', 'делать', 'мангал', 'коптилка', 'прочее', 'нжпотому', 'нагрев', 'вести', 'разный', 'сторона', 'место', 'отличить', 'черняга', 'возвращается', 'норма', 'оказаться', 'делать', 'ценник', 'жестьнадо', 'свой', 'расценка', 'пересмотреть', 'название', 'накрутка', 'ещ', 'реально', '4мм', '15х350х800', '1517тр', 'чувство', 'вкус', 'шашлык', 'нужно', 'сказать', 'удачно', 'зашлпо', 'чм', 'нержа', 'ломеработа', 'цена', 'везде', 'нержа', 'высокиеспасибо', 'оценка', 'частенько', 'металлолом', 'заглядываючрный', 'продавать', 'нерж', 'знать', 'ответ', 'комментарий', 'нужно', 'сказать', 'удачно', 'зашлпо', 'чм', 'нержа', 'ломеработа', 'нержавейка', 'делать', 'очень', 'сильно', 'вести', 'отличие', 'металл', 'нержавейка', 'купилведт', 'чрный', 'нержа', 'нерж', 'покупать', 'значит', 'ты', 'просто', 'зависть', 'кипитчто', 'человек', 'качественный', 'дешёвый', 'мангал', 'который', 'сильно', 'вести', 'специалист', 'мангаламоткуда', 'ты', 'известно', 'поведт', 'сам', 'мангал', 'нерожь', 'никуда', 'видт', 'разный', 'разный', 'конструкция', 'разный', 'металл', 'сталь', 'вести', 'вид', 'презентабельный', 'улица', 'хранить', 'классно', 'получиться', 'сосед', 'улица', 'шашлык', 'продавать', 'прямо', 'огонёк', 'спасибо', 'санкнижка', 'просрочить', 'скинуться', 'посидеть', 'отличный', 'работа', 'спасибо', '5мм', 'ого', 'супер', 'красота', 'спасибо', 'странно', 'сделать', 'прорезь', 'шампур', 'два', 'сторона', 'тот', 'фиксация', 'шампур', 'два', 'положение', 'нравиться', 'мангал', 'практически', 'идеальный', 'образец', 'нравиться', 'прорезь', 'естьшампур', 'мочь', 'фиксировать', 'хотеть', 'зря', 'низ', 'делать', 'спираль', 'фиксировать', 'шампур', 'спираль', 'сторона', 'мангал', 'должный', 'прорезь', 'канавка', 'пох', 'сторона', 'вообще', 'другой', 'сторона', 'ровный', 'главное', 'спираль', 'основание', 'вставляться', 'прорезь', 'вс', 'замечательный', 'вс', 'держаться', 'речь', 'пох', 'получаться', 'говно', 'русский', 'продукт', 'ты', 'вс', 'прекрасно', 'работать', 'изготовить', 'десятка', 'мангал', 'ножка', 'ручка', 'складный', 'сталь', 'ммпрорезь', 'один', 'сторона', 'вс', 'прекрасно', 'держать', 'человек', 'покупать', 'магазин', 'заводский', 'гавнона', 'либо', 'рынок', 'такой', 'самоделка', 'ответ', 'комментарий', 'странно', 'сделать', 'прорезь', 'шампур', 'два', 'сторона', 'тот', 'фиксация', 'шампур', 'два', 'положение', 'нравиться', 'мангал', 'практически', 'идеальный', 'образец', 'вс', 'правильно', 'шампур', 'плашмя', 'положить', 'прорезь', 'никуда', 'провернться', 'это', 'понятно', 'смысл', 'спираль', 'теряться', 'тк', 'шампур', 'иметь', 'четыре', 'положение', 'шаг', '90град', 'спираль', 'любой', 'положение', 'верно', 'ответ', 'комментарий', 'странно', 'сделать', 'прорезь', 'шампур', 'два', 'сторона', 'тот', 'фиксация', 'шампур', 'два', 'положение', 'нравиться', 'мангал', 'практически', 'идеальный', 'образец', 'ты', 'реклама', 'приплачивать', 'ливый', '2й', 'тема', 'ссылка', 'видеть', 'просто', 'хороший', 'мангал', 'видеть', 'ставить', 'пример', 'купить', 'купить', 'молодец', 'человек', 'сам', 'продумывать', 'сам', 'делать', 'это', 'достойный', 'уважение', 'очень', 'рад', 'правда', 'показывать', 'недочёт', 'который', 'очевидный', 'который', 'легко', 'исправить', 'недочты', 'это', 'ваш', 'мой', 'это', 'преимущество', 'шампур', 'любой', 'сторона', 'ставить', 'поворачивать', 'мангалда', 'прорезь', 'будея', 'мешать', 'шампур', 'угол', 'изначально', 'шампур', 'спираль', 'придумать', 'два', 'цель', 'это', 'маленький', 'нагреваться', 'ручка', 'второе', 'мясо', 'вертеть', 'плавно', 'равномерный', 'жарка', 'остальной', 'колхоз', 'общий', 'человек', 'сделать', 'колхозный', 'продукт', 'свой', 'рука', 'обычно', 'мотоболка', 'покупать', 'сделать', 'мотоблок', 'мотороллер', 'колхоз', 'который', 'страшно', 'смотреть', 'зато', 'свой', 'рука', 'кстати', 'ваш', 'отверстие', 'мангал', 'достаточно', 'встать', 'рак', 'дуть', 'страна', 'жить', 'столичный', 'зарплатуя', 'позволить', 'купить', 'мангал', 'нерожь', 'фирменный', 'мотоблок', 'далеко', 'могутпро', 'вопрос', 'наджность', 'самодельный', 'заводский', 'умолчать', 'желание', 'отверстие', 'рассверлить', 'свой', 'гламурный', 'вид', 'сердечко', 'отверстие', 'будешьчтый', 'красота', 'попоротить', 'рак', 'загнться', 'завод', 'повезть', 'переделать', 'автор', 'начало', 'пусть', 'рассверлить', 'испытать', 'показывать', 'мой', 'гламурный', 'сердечко', 'делать', 'идеально', 'продуманно', 'везде', 'помойка', 'нержавейка', 'сказать', 'отверстие', 'мангал', 'автор', 'ладыть', 'нм', 'жарить', 'шашлык', 'спец', 'невибный', 'один', 'вид', 'мочь', 'судить', 'плохой', 'мангал', 'дело', 'автор', 'жарить', 'тихо', 'угол', 'просверливать', 'рассверливать', 'пусть', 'оказать', 'какой', 'мясо', 'получаться', 'спорить', 'любой', 'корыто', 'мангал', 'называть', 'мангал', 'делаться', 'заказ', 'клиент', 'довольный', 'звонить', 'сказать', 'спасибо', 'приглашать', 'мясо', 'такой', 'параметр', 'металл', 'такой', 'корыто', 'стоить', 'примерно', 'столько', 'сделать', 'чюток', '15х45х1200', 'металл', 'помойка', 'сделать', 'сделать', 'рад', 'клиент', 'рад', 'оба', 'ответ', 'комментарий', 'автор', 'начало', 'пусть', 'рассверлить', 'испытать', 'показывать', 'мой', 'гламурный', 'сердечко', 'делать', 'идеально', 'продуманно', 'везде', 'помойка', 'нержавейка', 'помойка', 'твой', 'рот', 'похожий', 'пох', 'мангал', 'рамка', 'выходить', 'обсуждение', 'колхоз', 'ты', 'нравиться', 'пий', 'най', 'отсюда', 'торговать', 'свой', 'штамповка', 'человек', 'рабочий', 'место', 'терять', 'автоматизация', 'производство', 'дырочка', 'рисунок', 'мясо', 'жрть', 'буханка', 'самодельный', 'автоматизированный', 'производство', 'сделать', 'одежда', 'трус', 'ты', 'наверное', 'твой', 'женщина', 'шить', 'смешить', 'народ', 'буханка', 'посмотреть', 'человек', 'сделать', 'делать', 'хотеть', 'быть', 'делать', 'большинство', 'случай', 'одиночка', 'очень', 'большой', 'компания', 'человек', 'пробовать', 'создавать', 'каждый', 'сво', 'нравиться', 'большинство', 'начинать', 'создавать', 'сообща', 'стараться', 'максимально', 'делать', 'свой', 'рука', 'мочь', 'использовать', 'современный', 'инструмент', 'дабы', 'оправдывать', 'сво', 'существование', 'земля', 'пропагандировать', 'паразитический', 'образ', 'жизнь', 'культ', 'потребление', 'бездумный', 'трата', 'деньга', 'заработать', 'способ', 'купипродать', 'быть', 'делать', 'мочь', 'мастер', 'казаться', 'голова', 'перемешаться', 'машина', 'который', 'ездить', 'делать', 'завод', 'человек', 'человек', 'ты', 'продать', 'купить', 'самый', 'инструмент', 'который', 'использовать', 'сделать', 'человек', 'станок', 'продать', 'сделать', 'продать', 'человек', 'разный', 'профессия', 'это', 'директор', 'уборщица', 'купить', 'электрочайник', 'сделать', 'купить', 'электрочайник', 'значит', 'паразит', 'твой', 'логика', 'дабы', 'оправдывать', 'сво', 'существование', 'земля', 'удача', 'ты', 'существование', 'забыть', 'спросить', 'сколько', 'ты', 'остаться', 'сделать', 'свой', 'рука', 'оправдать', 'существование', 'земля', 'ответ', 'комментарий', 'буханка', 'посмотреть', 'человек', 'сделать', 'делать', 'хотеть', 'быть', 'делать', 'большинство', 'случай', 'одиночка', 'очень', 'большой', 'компания', 'человек', 'пробовать', 'создавать', 'каждый', 'сво', 'нравиться', 'большинство', 'начинать', 'создавать', 'сообща', 'стараться', 'максимально', 'делать', 'свой', 'рука', 'мочь', 'использовать', 'современный', 'инструмент', 'дабы', 'оправдывать', 'сво', 'существование', 'земля', 'пропагандировать', 'паразитический', 'образ', 'жизнь', 'культ', 'потребление', 'бездумный', 'трата', 'деньга', 'заработать', 'способ', 'купипродать', 'быть', 'делать', 'мочь', 'мастер', 'продать', 'мангал', 'человек', 'купить', 'сделать', 'мангал', 'весь', 'понравиться', 'естественно', 'начать', 'массово', 'производить', 'весь', 'продавать', 'ты', 'понадобиться', 'помощник', 'вид', 'рабочий', 'бухгалтер', 'менеджер', 'вывод', 'делать', 'казаться', 'ты', 'сложно', 'казаться', 'уверенный', 'голова', 'каша', 'сложно', 'один', 'предприятие', 'город', 'произойти', 'масштабный', 'сокращение', 'штат', 'рабочий', 'четырх', 'тысяча', 'восьмистый', 'человек', 'изз', 'производство', 'автоматизировать', 'машина', 'тыкать', 'поставить', 'сварочный', 'робот', 'манипулятор', 'поувольнять', 'людейкуда', 'идти', 'подумать', 'продвигать', 'штамповка', 'ещ', 'открывать', 'рот', 'человек', 'жить', 'свой', 'труд', 'посодиля', 'робот', 'сидеть', 'троллита', 'свой', 'товар', 'хороший', 'земля', 'интернет', 'менеджер', 'продажа', 'получаться', 'компьютерный', 'ничто', 'вода', 'закипать', 'огонь', 'жрт', 'лишний', 'киловата', 'время', 'закипание', 'один', 'ты', 'понять', 'выражение', 'оправдать', 'существование', 'земля', 'тля', 'царь', 'природа', 'вершина', 'эволюция', 'снизойдть', 'размышление', 'темутеб', 'сосать', 'сок', 'земля', 'пока', 'лопнуть', 'сторонка', 'отойти', 'обрызгать', 'мечтать', 'неоправданно', 'хапнуть', 'большой', 'отдавать', 'замена', 'несоизмеримый', 'маленький', 'вопрос', 'уметь', 'ответить', 'монитор', 'весь', 'забрызгать', 'наверное', 'судить', 'ты', 'просто', 'трудно', 'переварить', 'столько', 'новый', 'инф', 'переварить', 'это', 'ток', 'глянуть', 'ук', 'полный', 'держаться', 'два', 'рука', 'ответ', 'комментарий', 'продать', 'мангал', 'человек', 'купить', 'сделать', 'мангал', 'весь', 'понравиться', 'естественно', 'начать', 'массово', 'производить', 'весь', 'продавать', 'ты', 'понадобиться', 'помощник', 'вид', 'рабочий', 'бухгалтер', 'менеджер', 'вывод', 'делать', 'казаться', 'ты', 'сложно', 'мангал', 'продать', 'обменный', 'материал', 'другой', 'целиэтый', 'естественно', 'интересный', 'творческий', 'подход', 'дело', 'свой', 'профессия', 'мочь', 'стоять', 'утро', 'вечер', 'теплообменник', 'аогть', 'обваривать', 'трубопровод', 'варить', 'пробовать', 'знать', 'пробовать', 'километраж', 'шов', 'нравиться', 'процесс', 'который', 'видеть', 'стекло', 'маска', 'ты', 'понять', 'ты', 'нужный', 'помощник', 'рабочий', 'бухгалтер', 'менеджер', 'простить', 'господь', 'ты', 'вс', 'равно', 'делать', 'лишь', 'попрло', 'лишь', 'хапнуть', 'цеплять', 'раскатать', 'любой', 'терпеть', 'мочь', 'такой', 'тея', 'вс', 'захотеть', 'продолжить', 'помнить', 'один', 'последний', 'слово', 'я', 'страница', 'испишиудача', 'ты', 'удача', 'ответ', 'комментарий', 'страна', 'жить', 'столичный', 'зарплатуя', 'позволить', 'купить', 'мангал', 'нерожь', 'фирменный', 'мотоблок', 'далеко', 'могутпро', 'вопрос', 'наджность', 'самодельный', 'заводский', 'умолчать', 'желание', 'отверстие', 'рассверлить', 'свой', 'гламурный', 'вид', 'сердечко', 'отверстие', 'будешьчтый', 'красота', 'попоротить', 'рак', 'загнться', 'завод', 'повезть', 'переделать', 'заводский', 'мангал', 'это', 'фуфло', 'сталь', '3ммять', 'жаркое', 'поведт', 'нафиг', 'весь', 'мангал', 'пропеллер', 'зато', 'отверстие', 'сердечкамигламурненький', 'мангал', 'фото', 'сделать', 'специально', 'поездка', 'природа', 'метать', 'мм', 'высота', 'дно', 'шампур', 'смотреть', 'проверить', 'ножка', 'складный', 'мангал', 'сердечко', 'нах', 'нужный', 'ответ', 'комментарий', 'заводский', 'мангал', 'это', 'фуфло', 'сталь', '3ммять', 'жаркое', 'поведт', 'нафиг', 'весь', 'мангал', 'пропеллер', 'жарка', 'стоить', 'ровно', 'повести', 'пиндун', 'стать', 'считать', 'сколько', 'жарить', 'хер', 'недомангал', 'рекламировать', 'али', 'продашьсделать', 'сначала', 'нить', 'умничать', 'календарь', 'отметка', 'делать', 'жарить', 'шашалыко', 'ответ', 'комментарий', 'пиндун', 'стать', 'считать', 'сколько', 'жарить', 'хер', 'недомангал', 'рекламировать', 'али', 'продашьсделать', 'сначала', 'нить', 'умничать', 'ответ', 'комментарий', 'изначально', 'шампур', 'спираль', 'придумать', 'два', 'цель', 'это', 'маленький', 'нагреваться', 'ручка', 'второе', 'мясо', 'вертеть', 'плавно', 'равномерный', 'жарка', 'остальной', 'колхоз', 'общий', 'человек', 'сделать', 'колхозный', 'продукт', 'свой', 'рука', 'обычно', 'мотоболка', 'покупать', 'сделать', 'мотоблок', 'мотороллер', 'колхоз', 'который', 'страшно', 'смотреть', 'зато', 'свой', 'рука', 'кстати', 'ваш', 'отверстие', 'мангал', 'достаточно', 'встать', 'рак', 'дуть', 'сдиться', 'просто', 'рука', 'жопа', 'расти', 'сделать', 'самомувот', 'брызгать', 'слюна', 'мангал', 'нихрен', 'смыслить', 'чтоть', 'изобретать', 'купить', 'хороший', 'духовка', 'домой', 'купить', 'сделать', 'чайник', 'наверное', 'смастерить', 'извинить', 'дом', 'самодельный', 'самовар', 'стирать', 'самодельный', 'стиральный', 'машина', 'делать', 'машина', 'продажа', 'это', 'машинахахаах', 'смахивать', 'коробка', 'колсамиа', 'сделалстола', 'домой', 'сделать', 'мангал', 'друг', 'сделать', 'рука', 'жопывот', 'обсирать', 'данный', 'человек', 'это', 'спортивный', 'автомобиль', 'участие', 'трофи', 'рейд', 'епт', 'стол', 'сделать', 'мангал', 'попасть', 'категория', 'человек', 'кто', 'рука', 'золоть', 'молодец', 'поздравлять', 'показать', 'свой', 'чудо', 'поделка', 'секрет', 'думать', 'очень', 'хороший', 'вкус', 'судить', 'красный', 'салон', 'машина', 'аххахаспортивный', 'пошутить', 'кроме', 'делать', 'упомнить', 'салон', 'машина', 'перетягивать', 'ятаков', 'пришлый', 'германия', 'тон', 'цвет', 'собственно', 'вероятно', 'человек', 'понимать', 'отличие', 'тебягы', 'забавлять', 'человек', 'который', 'любить', 'обсерать', 'знать', 'обсерать', 'пример', 'продаваться', 'спортивный', 'автомобиль', 'трофи', 'рейд', 'абсолютный', 'чемпион', 'россия', 'обратить', 'внимание', 'стоимость', 'прям', 'сказать', 'сейчас', 'обсирать', 'чм', 'разбираться', 'обсерая', 'указать', 'недостаток', 'мангал', 'автор', 'выше', 'говорить', 'говно', 'вникать', 'тема', 'ответ', 'комментарий', 'забавлять', 'человек', 'который', 'любить', 'обсерать', 'знать', 'обсерать', 'пример', 'продаваться', 'спортивный', 'автомобиль', 'трофи', 'рейд', 'абсолютный', 'чемпион', 'россия', 'обратить', 'внимание', 'стоимость', 'стоимостий', 'написать', 'поход', 'цена', 'ошибиться', 'ошибка', 'мочь', 'позвонить', 'телефон', 'стоимость', 'такой', 'пример', 'колесо', 'стоять', 'весь', 'твой', 'машина', 'сторона', 'каждый', 'просить', 'столько', 'сколько', 'ответ', 'комментарий', 'стоимостий', 'написать', 'поход', 'цена', 'ошибиться', 'пример', 'менее', 'крутой', 'машина', 'это', 'похоже', 'машина', 'это', 'категория', 'тр2', 'красный', 'тр3', 'прототип', 'ответ', 'комментарий', 'недочты', 'это', 'ваш', 'мой', 'это', 'преимущество', 'шампур', 'любой', 'сторона', 'ставить', 'поворачивать', 'мангалда', 'прорезь', 'будея', 'мешать', 'шампур', 'угол', 'верно', 'прекрасный', 'работа', 'насчёт', 'металлоприёмка', 'согласный', 'удача', 'праздник', 'спасибо', 'взаимно', 'великолепно', 'благодарить', 'смотреть', 'двойной', 'дно', 'подобный', 'отличие', 'трапецевидный', 'расширяться', 'кверху', 'также', 'двойной', 'дно', 'верхний', 'день', 'отверстие', 'боков', 'нету', 'казаться', 'нагрев', 'равномерный', 'полностью', 'согласный', 'зачётный', 'магалец', 'шедевр', 'сотворилправнук', 'вспоминать', 'быть', 'спасибо', 'дата', 'создание', 'нарисовать', 'электродомить', 'серьзный', 'спасибо', 'большой', 'это', 'делать', 'сапожник', 'сапог', 'металл', 'остаться', 'который', 'водомтный', 'движитель', 'ещ', 'делать', 'это', 'сын', 'первостепенный', 'катерок', 'пойдм', 'они', 'остров', 'сделать', 'перфекто', 'граци']\"\n\n--------------------------------------------------------------------------------\n16 fits failed with the following error:\nTraceback (most recent call last):\n  File \"/Users/taniyashuba/PycharmProjects/VK_ML_Project/venv/lib/python3.9/site-packages/sklearn/model_selection/_validation.py\", line 888, in _fit_and_score\n    estimator.fit(X_train, y_train, **fit_params)\n  File \"/Users/taniyashuba/PycharmProjects/VK_ML_Project/venv/lib/python3.9/site-packages/sklearn/base.py\", line 1473, in wrapper\n    return fit_method(estimator, *args, **kwargs)\n  File \"/Users/taniyashuba/PycharmProjects/VK_ML_Project/venv/lib/python3.9/site-packages/sklearn/neighbors/_classification.py\", line 238, in fit\n    return self._fit(X, y)\n  File \"/Users/taniyashuba/PycharmProjects/VK_ML_Project/venv/lib/python3.9/site-packages/sklearn/neighbors/_base.py\", line 475, in _fit\n    X, y = self._validate_data(\n  File \"/Users/taniyashuba/PycharmProjects/VK_ML_Project/venv/lib/python3.9/site-packages/sklearn/base.py\", line 650, in _validate_data\n    X, y = check_X_y(X, y, **check_params)\n  File \"/Users/taniyashuba/PycharmProjects/VK_ML_Project/venv/lib/python3.9/site-packages/sklearn/utils/validation.py\", line 1273, in check_X_y\n    X = check_array(\n  File \"/Users/taniyashuba/PycharmProjects/VK_ML_Project/venv/lib/python3.9/site-packages/sklearn/utils/validation.py\", line 1007, in check_array\n    array = _asarray_with_order(array, order=order, dtype=dtype, xp=xp)\n  File \"/Users/taniyashuba/PycharmProjects/VK_ML_Project/venv/lib/python3.9/site-packages/sklearn/utils/_array_api.py\", line 746, in _asarray_with_order\n    array = numpy.asarray(array, order=order, dtype=dtype)\n  File \"/Users/taniyashuba/PycharmProjects/VK_ML_Project/venv/lib/python3.9/site-packages/pandas/core/generic.py\", line 2153, in __array__\n    arr = np.asarray(values, dtype=dtype)\nValueError: could not convert string to float: \"['хороший', 'природный', 'антибиотик', 'template', 'main', 'include', 'jstmplauthregtab', 'ploginregistertab', 'ploginregistertab', 'регистрация', 'include', 'jstmplsocauthregdescr', 'include', 'jstmplauthregsoc', 'include', 'jstmplauthregagree', 'include', 'jstmplauthregdescr', 'include', 'jstmplauthregaction', 'include', 'jstmplauthregbutton', 'include', 'jstmplauthregdescr', 'include', 'jstmplsocauthregdescr', 'template', 'main', 'template', 'jstmplauthregtab', 'template', 'jstmplauthregtab', 'template', 'jstmplauthregaction', 'ploginregistertab', 'include', 'jstmplauthregsoc', 'ploginregistertab', 'email', 'код', 'подписчик', 'пароль', 'русский', 'раскладка', 'клавиатура', 'включить', 'caps', 'lock', 'включить', 'caps', 'lock', 'русский', 'раскладка', 'клавиатура', 'чужой', 'компьютер', 'ploginregistertab', 'email', 'ознакомиться', 'согласный', 'нажимать', 'кнопка', 'готовый', 'давать', 'хотеть', 'получать', 'новость', 'скидка', 'одежда', 'template', 'jstmplauthregaction', 'template', 'jstmplauthregagree', 'ознакомиться', 'согласный', 'template', 'jstmplauthregagree', 'template', 'jstmplauthregbutton', 'ploginregistertab', 'ploginregistertab', 'template', 'jstmplauthregbutton', 'template', 'jstmplauthregdescr', 'ploginregistertab', 'оформление', 'подписка', 'выбрать', 'рассылка', 'работа', 'интересовать', 'группа', 'доступ', 'нужный', 'раздел', 'просить', 'авторизоваться', 'subscriberu', 'ploginregistertab', 'регистрация', 'указать', 'ваш', 'email', 'адрес', 'адрес', 'должный', 'действовать', 'сразу', 'регистрация', 'отправить', 'письмо', 'инструкция', 'код', 'подтверждение', 'template', 'jstmplauthregdescr', 'template', 'jstmplsocauthregdescr', 'зарегистрироваться', 'социальный', 'сеть', 'template', 'jstmplsocauthregdescr', 'template', 'jstmplauthregsoc', 'ploginregistertab', 'ploginregistertab', 'template', 'jstmplauthregsoc', 'template', 'main', 'include', 'jstmplauthregtab', 'include', 'jstmplauthregdescr', 'include', 'jstmplauthregaction', 'template', 'main', 'template', 'jstmplauthregtab', 'template', 'jstmplauthregtab', 'template', 'jstmplauthregdescr', 'пожалуйста', 'подтвердить', 'ваш', 'адрес', 'отправить', 'письмо', 'подтверждение', 'ваш', 'адрес', 'pregisterconfirmmail', 'подтверждение', 'адрес', 'перейти', 'ссылка', 'письмо', 'template', 'jstmplauthregdescr', 'template', 'jstmplauthregaction', 'ввести', 'код', 'письмо', 'прийти', 'письмо', 'пожалуйста', 'проверить', 'папка', 'спам', 'папка', 'нежелательный', 'почта', 'template', 'jstmplauthregaction', 'открытый', 'группа', 'участник', 'активный', 'участник', 'последний', 'откомментировать', 'тема', 'позавчера', 'день', 'назад', 'писать', 'каждый', 'день', 'каждый', 'сталкиваться', 'огромный', 'количество', 'микроорганизм', 'простой', 'вирус', 'бактерия', 'грибок', 'простейшее', 'способный', 'вызвать', 'серьёзный', 'заболевание', 'особенность', 'иммунитет', 'человек', 'снизить', 'зимой', 'вс', 'редкий', 'бывать', 'улица', 'проветривать', 'помещение', 'подолгу', 'находиться', 'замкнутый', 'пространство', 'кашляющимичихать', 'человек', 'простой', 'подхватить', 'какуюнибудь', 'зараза', 'организм', 'требоваться', 'помощь', 'борьба', 'незваный', 'гость', 'спешить', 'бежать', 'аптека', 'наджный', 'безопасный', 'помощник', 'отыскаться', 'кухня', 'многие', 'растительный', 'животное', 'продукт', 'обладать', 'выраженный', 'антибиотический', 'активность', 'каждый', 'свой', 'спектр', 'действие', 'синтетический', 'антибиотик', 'сила', 'действие', 'природный', 'антибиотик', 'уступать', 'химический', 'однако', 'разница', 'они', 'принципиальный', 'продукт', 'питание', 'создать', 'сам', 'природа', 'сложно', 'нанести', 'вред', 'организм', 'отличие', 'лекарственный', 'препарат', 'синтезировать', 'химический', 'лаборатория', 'кроме', 'природный', 'средство', 'грандиозный', 'преимущество', 'антибиотический', 'вещество', 'иметь', 'побочный', 'эффект', 'стоять', 'дешёвый', 'медикаментозный', 'препарат', 'понятно', 'природа', 'вырабатывать', 'антибиотический', 'средство', 'специально', 'защищать', 'растение', 'болезнь', 'отличие', 'химик', 'который', 'смочь', 'придумать', 'лекарство', 'отдельно', 'бактерия', 'грибок', 'простой', 'природа', 'создать', 'совершенный', 'сложный', 'лекарство', 'защищать', 'животный', 'растительный', 'мир', 'бактерия', 'вирус', 'грибок', 'одновременно', 'один', 'статья', 'безусловно', 'сложно', 'рассказать', 'о', 'растительный', 'антибиотик', 'стать', 'упоминать', 'лекарственный', 'растение', 'остановиться', 'продукт', 'наш', 'рацион', 'расположить', 'алфавит', 'никто', 'обидно', 'это', 'рейтинг', 'просто', 'список', 'итак', 'спиока', 'хороший', 'природный', 'антибиотик', 'входить', 'базилик', 'нежный', 'травянистый', 'растение', 'род', 'азия', 'тонкий', 'шелковистый', 'лист', 'вкус', 'напоминать', 'анис', 'обладать', 'сильный', 'сладкий', 'пряный', 'запах', 'индия', 'базилик', 'считать', 'священный', 'растение', 'согласно', 'традиция', 'ежедневно', 'поливать', 'утром', 'вечером', 'зажигать', 'рядом', 'лампа', 'обряд', 'приносить', 'счастие', 'защищать', 'семья', 'беда', 'многий', 'народ', 'существовать', 'предание', 'легенда', 'который', 'базилик', 'упоминаться', 'символ', 'семейный', 'счастие', 'любовь', 'румыния', 'сей', 'день', 'романтичный', 'обычай', 'принимать', 'предложение', 'рука', 'сердце', 'девушка', 'дарить', 'парень', 'зелёный', 'веточка', 'базилика', 'многие', 'повар', 'считать', 'базилик', 'король', 'трава', 'кулинария', 'базилик', 'использовать', 'свежий', 'правило', 'добавлять', 'блюдо', 'последний', 'момент', 'длительный', 'воздействие', 'высокий', 'температура', 'разрушать', 'аромат', 'трава', 'холодильник', 'храниться', 'недолго', 'заморозить', 'терять', 'больший', 'часть', 'аромат', 'становиться', 'похожий', 'сено', 'практически', 'универсальный', 'природный', 'антибиотик', 'обладать', 'дезинфицировать', 'бактерицидный', 'свойство', 'защищать', 'организм', 'различный', 'инфекция', 'лекарственный', 'свойство', 'базилика', 'ещ', 'древний', 'лекарь', 'говорить', 'гнать', 'моча', 'выгонять', 'ветер', 'разбивать', 'мокрота', 'пользовать', 'грудной', 'болезнь', 'подкреплять', 'сердце', 'смесь', 'ароматный', 'трава', 'полоскать', 'горло', 'лечиться', 'насморк', 'заменять', 'мягчительный', 'припарка', 'базилик', 'обладать', 'противовоспалительный', 'спазмолитический', 'возбуждать', 'аппетит', 'тонизировать', 'действие', 'применяться', 'простуда', 'грипп', 'снижать', 'температура', 'уменьшать', 'выделение', 'слизь', 'носов', 'пазуха', 'устранять', 'бессонница', 'нервный', 'напряжение', 'эфирный', 'масло', 'обладать', 'бактерицидный', 'действие', 'полезный', 'снятие', 'спазмолитический', 'состояние', 'вздутие', 'живот', 'метеоризм', 'отвар', 'базилика', 'ложка', 'измельчнный', 'лист', 'мл', 'кипяток', 'помогать', 'ангина', 'головной', 'боль', 'конъюнктивит', 'этот', 'травка', 'прекрасно', 'помогать', 'воспалительный', 'заболевание', 'желудочнокишечный', 'тракт', 'гастрит', 'энтерит', 'колит', 'недуг', 'прекрасно', 'лечиться', 'настой', 'базилика', 'смазывать', 'участок', 'кожа', 'поразить', 'экзема', 'псориаз', 'приправа', 'рекомендоваться', 'беременная', 'женщина', 'нужно', 'избегать', 'принимать', 'гормональный', 'контрацептив', 'перенести', 'инфаркт', 'инсульт', 'сахарный', 'диабет', 'сердечно', 'сосудистый', 'заболевание', 'тромбофлебит', 'тромбоз', 'вено', 'нарушение', 'свёртываемость', 'кровь', 'такой', 'человек', 'иметься', 'тенденция', 'сгущение', 'кровь', 'базилик', 'способствовать', 'этот', 'брусника', 'зимнезелный', 'кустарничка', 'семейство', 'вересковый', 'этот', 'дикий', 'лесной', 'ягода', 'растта', 'сухой', 'сырой', 'хвойный', 'леса', 'лиственный', 'леса', 'кустарник', 'торфяной', 'болото', 'народный', 'название', 'брусника', 'боровик', 'боровок', 'боровой', 'ягода', 'целебный', 'являться', 'лист', 'ягода', 'растение', 'обусловить', 'химический', 'состав', 'плод', 'брусника', 'богатый', 'пектиновый', 'вещество', 'полифенол', 'эфирный', 'масло', 'который', 'содержаться', 'около', 'полезный', 'органический', 'соединение', 'витамин', 'особенно', 'витамин', 'пополнение', 'запас', 'витамин', 'свежий', 'ягода', 'прямо', 'куст', 'сушёный', 'плод', 'часть', 'полезный', 'вещество', 'разрушаться', 'такой', 'ягода', 'годиться', 'рекомендовать', 'заваривать', 'вместе', 'шиповник', 'рябина', 'употреблять', 'витаминный', 'чай', 'содержание', 'каротин', 'провитамин', 'брусника', 'превосходить', 'клюква', 'лимон', 'груша', 'яблоко', 'виноград', 'черника', 'богатый', 'витамин', 'в2', 'плод', 'содержаться', 'бензойный', 'кислота', 'натуральный', 'консервант', 'среда', 'создавать', 'кислота', 'болезнетворный', 'бактерия', 'терять', 'способность', 'развитие', 'размножение', 'именно', 'бензойный', 'кислота', 'превращать', 'брусника', 'антибиотик', 'обусловливать', 'противовоспалительный', 'действие', 'применение', 'брусника', 'оправдать', 'лечение', 'заболевание', 'мочевыделительный', 'система', 'особенно', 'цистит', 'кроме', 'брусника', 'усиливать', 'активность', 'антибиотик', 'сульфаниламидный', 'препарат', 'поэтому', 'рекомендовать', 'лихорадить', 'больной', 'также', 'повышение', 'аппетит', 'перенести', 'тяжёлый', 'болезнь', 'травма', 'случай', 'очень', 'полезный', 'морс', 'ягода', 'сочетать', 'противовоспалительный', 'мочегонное', 'действие', 'подавлять', 'развитие', 'микроб', 'выводить', 'токсин', 'кислый', 'напиток', 'утолять', 'жажда', 'содержаться', 'нм', 'витамин', 'укреплять', 'сила', 'полезный', 'морс', 'онкологический', 'заболевание', 'раковый', 'интоксикация', 'голубика', 'мелкий', 'кустарник', 'высота', '1метр', 'серый', 'гладкий', 'изогнутый', 'ветвь', 'голубика', 'называть', 'дурниха', 'пьяничка', 'дурница', 'синик', 'дурах', 'водопьянка', 'дурниха', 'гонобой', 'гонобобель', 'обидный', 'имя', 'получить', 'якобы', 'пьянить', 'гнать', 'боль', 'голова', 'сам', 'дело', 'виновник', 'этот', 'явление', 'багульник', 'часто', 'расти', 'соседство', 'голубика', 'голубика', 'служить', 'источник', 'витамин', 'ценный', 'лекарственный', 'растение', 'сложно', 'собрать', 'повредить', 'сложный', 'сохранить', 'север', 'голубика', 'традиционно', 'хранить', 'берестяной', 'короб', 'залив', 'рыбий', 'жир', 'закопать', 'мох', 'основное', 'голубика', 'есть', 'свежий', 'вид', 'именно', 'свежий', 'ягода', 'концентрация', 'полезный', 'вещество', 'самый', 'высокий', 'плод', 'растение', 'содержать', 'вещество', 'подобный', 'аспирин', 'который', 'обладать', 'болеутоляющий', 'жаропонижающий', 'действие', 'голубика', 'действовать', 'лекарственный', 'антибиотик', 'уничтожать', 'бактерия', 'мочевой', 'путь', 'давать', 'инфекция', 'распространиться', 'весь', 'организм', 'отвар', 'морс', 'ягода', 'голубика', 'обладать', 'высокий', 'противовоспалительный', 'действие', 'часто', 'назначать', 'воспаление', 'лёгкий', 'почка', 'мочевой', 'пузырь', 'горчица', 'известный', 'человечество', 'один', 'тысяча', 'год', 'многий', 'народ', 'горчичный', 'зерно', 'просто', 'сырьё', 'получение', 'ароматный', 'жгучий', 'соус', 'также', 'вкусный', 'полезный', 'масло', 'яркий', 'метафоричный', 'символ', 'выражать', 'огромный', 'сила', 'несмотря', 'мизерный', 'величина', 'кроме', 'горчица', 'общеизвестный', 'лекарственный', 'средство', 'применять', 'народный', 'официальный', 'медицина', 'обладать', 'масса', 'полезный', 'свойство', 'помнить', 'ранний', 'жлтый', 'порошок', 'горчица', 'намазать', 'горчичник', 'бабушка', 'сыпать', 'мы', 'таз', 'пропарка', 'нога', 'простуда', 'именно', 'порошок', 'горчица', 'приписывать', 'уникальный', 'свойство', 'уменьшение', 'общий', 'воспаление', 'также', 'снижение', 'риск', 'возникновение', 'некоторый', 'вид', 'рак', 'почему', 'порошок', 'горчица', 'содержать', 'свый', 'состав', 'куркумина', 'это', 'активный', 'ингредиент', 'куркума', 'который', 'давать', 'жёлтый', 'горчица', 'свой', 'жёлтый', 'цвет', 'потенциальный', 'преимущество', 'здоровье', 'кроме', 'горчица', 'найти', 'аллил', 'изотиоцианат', 'aitc', 'который', 'изучить', 'способность', 'предотвращать', 'уменьшать', 'раковый', 'клетка', 'исследование', 'показывать', 'положительный', 'эффект', 'главный', 'полезный', 'свойство', 'горчица', 'это', 'антимикробный', 'антигрибковый', 'противовоспалительный', 'действие', 'гранат', 'фрукт', 'южный', 'род', 'средний', 'азия', 'хотя', 'растта', 'средний', 'полоса', 'давно', 'перестать', 'экзот', 'менее', 'ещ', 'живой', 'масса', 'легенда', 'полезный', 'плод', 'например', 'гранат', 'хороший', 'средство', 'лечение', 'анемия', 'возможно', 'это', 'произойти', 'изз', 'цвет', 'гранатовый', 'сок', 'практически', 'повторять', 'цвет', 'кровь', 'менее', 'съедать', 'гранат', 'выпивать', 'стакан', 'гранатовый', 'сок', 'день', 'отличный', 'способ', 'почистить', 'кровь', 'инфекционный', 'болезнь', 'гранатовый', 'сок', 'помогать', 'простудный', 'заболевание', 'респираторный', 'инфекция', 'ангина', 'кашель', 'бороться', 'высокий', 'температура', 'являться', 'противовоспалительный', 'средство', 'развести', 'сок', 'советовать', 'полоскать', 'горло', 'ангина', 'рекомендовать', 'заболевание', 'бронхиальный', 'астма', 'анемия', 'малярия', 'вяжущий', 'вещество', 'гранат', 'помогать', 'выводить', 'мокрота', 'бронхит', 'пневмония', 'также', 'стимулировать', 'работа', 'поджелудочный', 'железа', 'повышенный', 'кислотность', 'желудок', 'гранатовый', 'сок', 'чистый', 'вид', 'противопоказанный', 'разбавлять', 'морковный', 'грейпфрут', 'считаться', 'один', 'самый', 'полезный', 'фрукт', 'дословно', 'перевести', 'название', 'фрукт', 'английский', 'иметь', 'виноградный', 'фрукт', 'сравнивать', 'вкусовой', 'качество', 'грейпфрут', 'капелька', 'схожий', 'виноград', 'откуда', 'такой', 'странный', 'название', 'поинтересоваться', 'ответ', 'очень', 'логичный', 'поскольку', 'плод', 'иметь', 'свойство', 'расти', 'грозд', 'который', 'мочь', 'достигать', 'фрукт', 'цитрусовый', 'созревать', 'декабрь', 'сохранять', 'польза', 'середина', 'лето', 'иммунолог', 'рекомендовать', 'зимой', 'съедать', 'день', 'половинка', 'цитрус', 'профилактика', 'простудный', 'инфекция', 'замечательный', 'хотя', 'горьковатый', 'плод', 'полезный', 'однако', 'самый', 'целебный', 'свойство', 'обладать', 'экстракт', 'зерно', 'причём', 'лечебный', 'эффект', 'настолько', 'мощный', 'учёный', 'сила', 'воздействие', 'однозначно', 'поставить', 'экстракт', 'один', 'ступенька', 'химический', 'антибиотик', 'например', 'установить', 'учёный', 'экстракт', 'зерно', 'грейпфрут', 'активный', 'против', 'штамм', 'бактерия', 'против', 'вид', 'грибок', 'отличие', 'синтетический', 'антибиотик', 'активный', 'против', 'вирус', 'иметь', 'побочный', 'эффект', 'индивидуальный', 'непереносимость', 'учитывать', 'любой', 'случай', 'нужно', 'домашний', 'условие', 'сделать', 'экстракт', 'зерно', 'грейпфрут', 'практически', 'невозможно', 'поэтому', 'прийтись', 'покупать', 'готовый', 'препарат', 'очень', 'гель', 'душа', 'дезодорант', 'капля', 'нос', 'выбрать', 'экстракт', 'поскольку', 'немой', 'находиться', 'больший', 'количество', 'природный', 'вещество', 'очень', 'важный', 'момент', 'который', 'обязательно', 'необходимо', 'иметь', 'вид', 'экстракт', 'зерно', 'грейпфрут', 'очень', 'ядовитый', 'запросто', 'сжечь', 'кожа', 'поэтому', 'необходимо', 'строго', 'соблюдать', 'инструкция', 'приложить', 'препарат', 'второе', 'синтетический', 'антибиотик', 'длительный', 'частый', 'применение', 'терять', 'сила', 'изз', 'называть', 'эффект', 'привыкание', 'учёный', 'предполагать', 'патогенный', 'микроорганизм', 'научиться', 'приспосабливаться', 'этот', 'природный', 'лекарство', 'имбирь', 'это', 'растение', 'травянистый', 'многолетний', 'иметь', 'ароматный', 'пахнуть', 'корень', 'вид', 'различный', 'причудливый', 'фигурка', 'впервые', 'корень', 'имбирь', 'завезти', 'европа', 'азия', 'средний', 'век', 'узнать', 'давно', 'приход', 'наш', 'рынок', 'сушить', 'пряный', 'корень', 'который', 'мариновать', 'вид', 'добавлять', 'блюдо', 'известно', 'противоглистный', 'действие', 'корень', 'имбирь', 'азиат', 'употреблять', 'пища', 'сырой', 'рыба', 'кушать', 'вместе', 'имбирь', 'тк', 'давно', 'считать', 'очень', 'сильный', 'противопаразитарный', 'средство', 'корень', 'имбирь', 'обладать', 'антимикробный', 'противовоспалительный', 'отхаркивающий', 'действие', 'жаропонижающий', 'потогонное', 'поэтому', 'широко', 'применять', 'лечениия', 'орз', 'простуда', 'тонзиллит', 'ангина', 'ларингит', 'фарингит', 'бронхит', 'комплексный', 'лечение', 'пневмония', 'калин', 'красный', 'красный', 'ягода', 'достаточно', 'большой', 'косточка', 'созревать', 'калин', 'конец', 'сентябрь', 'первый', 'заморозок', 'ягода', 'достаточно', 'кислый', 'горчинка', 'воздействие', 'небольшой', 'морозов', 'приобретать', 'сладость', 'широко', 'использоваться', 'народный', 'медицина', 'калин', 'являться', 'мощный', 'природный', 'антибиотик', 'обладать', 'антисептический', 'свойство', 'благодаря', 'содержание', 'биологически', 'активный', 'вещество', 'чай', 'ягода', 'калин', 'помогать', 'простуда', 'кашель', 'грипп', 'ангина', 'пневмония', 'бронхит', 'авитаминоз', 'также', 'снижать', 'температура', 'тело', 'бронхит', 'лихорадка', 'упорный', 'кашель', 'помогать', 'отвар', 'калин', 'мёд', 'препарат', 'основа', 'калин', 'применять', 'лечение', 'инфицировать', 'ран', 'биологически', 'активный', 'вещество', 'содержаться', 'плод', 'данный', 'растение', 'мочь', 'ухудшить', 'состояние', 'больной', 'повышенный', 'свртываемость', 'кровь', 'беременность', 'тромбофлебит', 'склонность', 'расстройство', 'пищеварение', 'капуста', 'овощ', 'поддерживать', 'бодрость', 'дух', 'весёлый', 'настроение', 'высказываться', 'повод', 'капуста', 'пифагор', 'свой', 'характеристика', 'такой', 'бодрый', 'дух', 'оставить', 'гиппократ', 'диоскорид', 'аристотель', 'катонстарший', 'гален', 'другой', 'великий', 'древний', 'слово', 'никакой', 'пиар', 'соцзаказ', 'разумеется', 'документально', 'подтвердить', 'сведение', 'польза', 'капуста', 'опыт', 'ощущение', 'великий', 'интуиция', 'столетие', 'спустя', 'потомок', 'объяснить', 'секрет', 'бодрость', 'дух', 'весёлый', 'настроение', 'польза', 'капуста', 'буквально', 'весь', 'лист', 'стебло', 'кочерыжка', 'жир', 'сахар', 'клетчатка', 'также', 'каротин', 'фолиевый', 'кислота', 'соль', 'калий', 'кальций', 'фосфор', 'весь', 'набор', 'витамин', 'необходимый', 'человек', 'содержание', 'витамин', 'кстати', 'говорить', 'рекорд', 'бить', 'брюссельский', 'капуста', 'лечение', 'капуста', 'позволять', 'избавиться', 'бессонница', 'различный', 'заболевание', 'желудочнокишечный', 'тракт', 'глухота', 'мигрень', 'известный', 'обезболивать', 'общеукрепляющий', 'противовоспалительный', 'свойство', 'капуста', 'обладать', 'противомикробный', 'свойство', 'который', 'мочь', 'убить', 'вид', 'болезненный', 'бактерия', 'народный', 'медицина', 'использоваться', 'свежий', 'лист', 'свежеприготовленный', 'капустный', 'сок', 'витамин', 'содержаться', 'квашеный', 'капуста', 'рассол', 'кроме', 'антибиотический', 'свойство', 'капуста', 'увеличиваться', 'именно', 'время', 'ферментация', 'квашение', 'клюква', 'царица', 'ягода', 'ягода', 'жизнь', 'чудодейственный', 'кудесница', 'называть', 'клюква', 'признаться', 'это', 'действительно', 'похоже', 'правда', 'именно', 'царствовать', 'наш', 'стол', 'круглый', 'год', 'спасать', 'недуг', 'кариес', 'прочий', 'болезнь', 'обладать', 'противовирусный', 'антибиотический', 'свойство', 'являться', 'прекрасный', 'антиоксидант', 'человек', 'страдать', 'заболевание', 'мочеполовой', 'система', 'клюквенный', 'сок', 'просто', 'обойтись', 'оказываться', 'целебный', 'напиток', 'давать', 'бактерия', 'удержаться', 'стенка', 'мочевой', 'пузырь', 'самый', 'предотвращать', 'инфекция', 'целебный', 'сила', 'клюквенный', 'сок', 'способный', 'убивать', 'инфекция', 'мочевой', 'пузырь', 'полость', 'рот', 'известно', 'зубной', 'налёт', 'самый', 'хороший', 'почва', 'размножение', 'бактерия', 'другой', 'микроорганизм', 'результат', 'действие', 'который', 'получать', 'кариес', 'пародонтоз', 'оказываться', 'клюква', 'способный', 'обезвредить', 'бактерия', 'полость', 'рот', 'почему', 'американец', 'сегодня', 'начать', 'разработка', 'состав', 'полоскание', 'рот', 'клюквенный', 'основа', 'взять', 'заметка', 'иметь', 'возможность', 'употреблять', 'клюква', 'натуральный', 'вид', 'народный', 'медицина', 'существовать', 'множество', 'рецепт', 'согласно', 'который', 'сок', 'плод', 'рекомендовать', 'лихорадка', 'простудный', 'заболевание', 'ангина', 'цинга', 'повышенный', 'кровяной', 'давление', 'малярия', 'заболевание', 'желудок', 'почка', 'водянка', 'примочка', 'сок', 'лишай', 'сухой', 'экзема', 'экссудативный', 'кожный', 'процесс', 'золотуха', 'ягода', 'незаменимый', 'лечение', 'простудный', 'недуг', 'бактерицидный', 'свойство', 'уникальный', 'вспомнить', 'детство', 'наверняка', 'время', 'простуда', 'бабушка', 'поить', 'тёплый', 'клюквенный', 'морс', 'кормить', 'особый', 'лекарство', 'кашель', 'сок', 'клюква', 'мёд', 'издавна', 'препарат', 'клюква', 'использовать', 'жаропонижающий', 'средство', 'различный', 'простудный', 'заболевание', 'также', 'гиповитаминоз', 'клюквенный', 'сок', 'стимулировать', 'секреция', 'железа', 'желудочнокишечный', 'тракт', 'посему', 'показать', 'хронический', 'гастрит', 'секреторный', 'недостаточность', 'учёный', 'обнаружить', 'клюква', 'кислота', 'идентичный', 'действие', 'антибиотик', 'против', 'микроб', 'класс', 'coli', 'этот', 'больший', 'группа', 'бактерия', 'который', 'вызывать', 'воспаление', 'почка', 'мочевой', 'пузырь', 'инфекционный', 'гастроэнтерит', 'причём', 'показать', 'опыт', 'финский', 'специалист', 'университет', 'город', 'турок', 'экстракт', 'клюква', 'эффективно', 'действовать', 'против', 'тот', 'штамм', 'бактерия', 'который', 'стать', 'устойчивый', 'традиционный', 'антибиотик', 'похоже', 'антибактериальный', 'свойство', 'клюква', 'делать', 'ягода', 'номер', 'китайский', 'медик', 'основа', 'провести', 'исследование', 'сделать', 'вывод', 'пациент', 'потреблять', 'клюквенный', 'блюдо', 'напиток', 'основа', 'чудодейственный', 'ягода', 'значительно', 'редкий', 'болеть', 'язва', 'желудок', 'целительный', 'свойство', 'ягода', 'препятствовать', 'распространение', 'такой', 'бактерия', 'hуlicobacter', 'pylori', 'который', 'вызывать', 'язва', 'желудок', 'действие', 'ягода', 'сводиться', 'активизация', 'особый', 'клюквенный', 'молекула', 'который', 'позволять', 'бактерия', 'оставаться', 'слизистый', 'оболочка', 'желудок', 'препятствовать', 'появление', 'болезнь', 'корица', 'называть', 'смертельный', 'природный', 'антибиотик', 'корица', 'использоваться', 'медицина', 'протяжение', 'век', 'чистый', 'реально', 'цейлон', 'корица', 'остановить', 'атака', 'ecoli', 'сам', 'начало', 'это', 'упрямый', 'бактерия', 'который', 'вызывать', 'многие', 'заболевание', 'эксперт', 'обнаружить', 'корица', 'выступать', 'качество', 'природный', 'антибиотик', 'полно', 'антиоксидант', 'который', 'помогать', 'стимулировать', 'иммунный', 'система', 'многий', 'отношение', 'этот', 'приправа', 'обладать', 'выраженный', 'потогонное', 'действие', 'поэтому', 'очень', 'полезный', 'орви', 'любой', 'простуда', 'вместо', 'малиновый', 'варение', 'чай', 'добавлять', 'корица', 'делать', 'полоскание', 'ангина', 'кора', 'коричный', 'дерево', 'обладать', 'антисептический', 'эффект', 'спиртовой', 'экстракт', 'кора', 'корица', 'китайский', 'активный', 'отношение', 'различный', 'грамположительный', 'грамотрицательный', 'бактерия', 'оказывать', 'губительный', 'действие', 'туберкулёзный', 'палочка', 'вирус', 'красный', 'белый', 'сухой', 'вино', 'обладать', 'тонизировать', 'диуретический', 'антистрессовый', 'бактерицидный', 'антиаллергический', 'воздействие', 'организм', 'человек', 'известно', 'древний', 'грек', 'добавлять', 'питьевой', 'вода', 'дезинфекция', 'немного', 'белый', 'вино', 'показать', 'исследование', 'медицинский', 'центр', 'вооружённый', 'сила', 'сша', 'гонолулу', 'совершенно', 'правый', 'красный', 'белый', 'вино', 'также', 'чистый', 'спирт', 'одинаково', 'токсичный', 'сальмонелла', 'колибактерия', 'однако', 'разбавить', 'белый', 'вино', 'смешиваться', 'желудочный', 'сок', 'оказывать', 'наиболее', 'сильный', 'антибактериальный', 'действие', 'считать', 'научно', 'доказать', 'природный', 'вода', 'который', 'добавить', 'один', 'треть', 'красный', 'натуральный', 'вино', 'прошествие', 'менее', 'час', 'считать', 'обеззаразить', 'учёный', 'отмечать', 'возбудитель', 'любой', 'разновидность', 'тиф', 'погибать', 'сухой', 'виноградный', 'вина', 'течение', 'несколько', 'минута', 'максимум', 'час', 'очень', 'сильно', 'разбавить', 'несколько', 'вина', 'гибнуть', 'вибрион', 'холера', '20х', 'год', 'наш', 'столетие', 'крым', 'вспыхнуть', 'эпидемия', 'дизентерия', 'распространение', 'условие', 'нехватка', 'медикамент', 'сдерживать', 'регулярный', 'профилактический', 'приём', 'разбавить', 'два', 'треть', 'вода', 'натуральный', 'вино', 'добавление', 'вино', 'вода', 'целесообразно', 'другой', 'желудочнокишечный', 'заболевание', 'механизм', 'антимикробный', 'действие', 'вино', 'конец', 'изучить', 'вина', 'наличествовать', 'алкоголь', 'удовлетворительный', 'объяснение', 'дать', 'ввиду', 'слишком', 'слабый', 'концентрация', 'натуральный', 'вина', 'который', 'разбавление', 'несколько', 'вода', 'становиться', 'вовсе', 'ничтожный', 'учёный', 'склонный', 'приписывать', 'это', 'чудесный', 'свойство', 'некоторый', 'продукт', 'распад', 'красящий', 'дубильный', 'вещество', 'вино', 'потребление', 'виноградный', 'вино', 'умеренный', 'количество', 'увеличивать', 'сопротивляемость', 'инфекционный', 'заболевание', 'наблюдение', 'врач', 'проникновение', 'белый', 'кровяной', 'шарик', 'желудок', 'устанавливать', 'первый', 'противотоксинный', 'барьер', 'проходить', 'интенсивный', 'присутствие', 'вино', 'современный', 'исследование', 'подтверждать', 'антибактериологический', 'действие', 'вино', 'вирус', 'гепатит', 'пять', 'известный', 'вирус', 'грипп', 'хороший', 'результат', 'давать', 'красный', 'столовый', 'вино', 'применять', 'профилактический', 'средство', 'эпидемический', 'желудочный', 'заболевание', 'гипертония', 'расстройство', 'питание', 'ожирение', 'тонический', 'средство', 'кахетие', 'древний', 'район', 'виноделие', 'этот', 'заболевание', 'доктор', 'морить', 'работать', 'один', 'крупный', 'парижский', 'клиника', 'убеждённый', 'вино', 'медок', 'оказывать', 'благоприятный', 'воздействие', 'организм', 'ангина', 'сухой', 'шампанский', 'ревматизм', 'профессор', 'маскалье', 'медикофармакологический', 'институт', 'бордо', 'категоричный', 'заразить', 'микроб', 'вода', 'переставать', 'опасный', 'добавить', 'равный', 'количество', 'красный', 'вино', 'ибо', 'оно', 'содержать', 'танин', 'который', 'убивать', 'бактерия', 'профессор', 'часто', 'упоминать', 'слово', 'луи', 'пастер', 'вино', 'самый', 'здоровый', 'самый', 'гигиеничный', 'напиток', 'условие', 'употреблять', 'умеренно', 'лимон', 'хороший', 'природный', 'антисептик', 'пить', 'чай', 'лимон', 'начинаться', 'простуда', 'лимон', 'входить', 'состав', 'множество', 'лечебный', 'препарат', 'который', 'снимать', 'воспаление', 'заживлять', 'рана', 'убивать', 'микроб', 'глист', 'укреплять', 'организм', 'обладать', 'противосклеротический', 'эффект', 'самый', 'известный', 'свойство', 'лимон', 'это', 'способность', 'помогать', 'справляться', 'вирус', 'инфекция', 'период', 'простудный', 'заболевание', 'также', 'употреблять', 'цель', 'профилактика', 'лимон', 'способствовать', 'укрепление', 'иммунитет', 'сок', 'лимон', 'развести', 'вода', 'лимон', 'стакан', 'вода', 'полезный', 'полоскание', 'ангина', 'воспалительный', 'заболевание', 'слизистый', 'оболочка', 'рот', 'глотка', 'сок', 'употреблять', 'наружное', 'лекарство', 'грибковый', 'заболевание', 'кожа', 'начинаться', 'ангина', 'помогать', 'медленный', 'жевание', 'сырой', 'лимон', 'особенно', 'цедра', 'час', 'давать', 'возможность', 'эфирный', 'масло', 'лимонный', 'кислота', 'воздействовать', 'воспалить', 'слизистый', 'оболочка', 'горло', 'процедура', 'повторять', 'час', 'лук', 'весь', 'известный', 'природный', 'антисептик', 'антибиотик', 'лук', 'человек', 'относиться', 'серьёзный', 'уважаемый', 'продукт', 'использовать', 'приправа', 'еда', 'качество', 'народный', 'средство', 'многий', 'болезнь', 'рекомендоваться', 'круглый', 'год', 'особенно', 'осень', 'зимой', 'возрастать', 'вероятность', 'орз', 'биологически', 'активный', 'вещество', 'присутствовать', 'сок', 'мякоть', 'лука', 'помогать', 'повысить', 'иммунитет', 'убивать', 'патогенный', 'микроорганизм', 'нормализовать', 'кишечный', 'флор', 'восстанавливать', 'микробный', 'баланс', 'полость', 'рот', 'кроме', 'лук', 'предотвращать', 'развитие', 'гнилостный', 'процесс', 'кишечник', 'помогать', 'справиться', 'фурункулз', 'некоторый', 'другой', 'кожный', 'заболевание', 'сок', 'репчатый', 'лука', 'это', 'природный', 'антибиотик', 'который', 'оберегать', 'простуда', 'простудиться', 'употр', 'еблять', 'лук', 'фитонцид', 'побороть', 'вирус', 'ангина', 'укрепить', 'верхний', 'дыхательный', 'путь', 'лук', 'активировать', 'обмен', 'вещество', 'способствовать', 'кроветворение', 'очищение', 'кровь', 'стимулировать', 'процесс', 'пищеварение', 'выводить', 'организм', 'лишний', 'жидкость', 'кверцитин', 'содержаться', 'лука', 'противостоять', 'раковый', 'заболевание', 'применяться', 'онкология', 'лук', 'издавать', 'свой', 'неповторимый', 'горьковатый', 'аромат', 'благодаря', 'наличие', 'немой', 'эфирный', 'масло', 'богатый', 'лук', 'фитонцид', 'целебный', 'летучий', 'вещество', 'который', 'убивать', 'большой', 'количество', 'микроб', 'число', 'стрептококк', 'дизентерийный', 'дифтерийный', 'туберкулёзный', 'палочка', 'пожевать', 'лучок', 'уничтожить', 'неблагоприятный', 'микрофлора', 'полость', 'рот', 'фитонцид', 'лука', 'несколько', 'минута', 'погубить', 'вредный', 'бактерия', 'дальнейший', 'позволить', 'размножаться', 'быть', 'забывать', 'рекомендация', 'наш', 'бабушка', 'который', 'советовать', 'употреблять', 'лучок', 'каждый', 'день', 'аппетит', 'здоровье', 'есть', 'лук', 'бог', 'избавить', 'мука', 'лук', 'семь', 'недуг', 'лук', 'баня', 'править', 'говорить', 'наш', 'предок', 'малина', 'прекрасный', 'противовоспалительный', 'антисептический', 'антибактериальный', 'потогонное', 'средство', 'успешно', 'бороться', 'инфекция', 'верхний', 'дыхательный', 'путь', 'простуда', 'содержаться', 'малин', 'салициловый', 'кислота', 'понижать', 'температура', 'вызывать', 'осложнение', 'благотворно', 'влиять', 'нервный', 'система', 'повышать', 'аппетит', 'являться', 'отличный', 'антидепрессант', 'ягода', 'малина', 'снимать', 'боль', 'сустав', 'это', 'вкусный', 'полезный', 'ягода', 'который', 'тот', 'обладать', 'рядом', 'полезный', 'свойство', 'применять', 'лечение', 'простудный', 'заболевание', 'инфекционный', 'заболевание', 'верхний', 'дыхательный', 'путь', 'малина', 'содержать', 'салициловый', 'кислота', 'который', 'снижать', 'температура', 'побочный', 'эффект', 'малина', 'обладать', 'противовоспалительный', 'потогонное', 'антисептический', 'свойство', 'кроме', 'малина', 'повышать', 'аппетит', 'снимать', 'боль', 'сустав', 'благодаря', 'наличие', 'ягода', 'медь', 'являться', 'антидепрессант', 'применять', 'некоторый', 'заболевание', 'почка', 'поджелудочный', 'подагра', 'мд', 'прополис', 'чистый', 'мёд', 'прополис', 'являться', 'сильный', 'природный', 'антибиотик', 'который', 'способный', 'убить', 'золотистый', 'стафилококк', 'результат', 'различный', 'исследование', 'показывать', 'постоянный', 'употребление', 'мёд', 'повышать', 'иммунологический', 'реактивность', 'организм', 'делать', 'устойчивый', 'инфекция', 'заболевание', 'организм', 'переносить', 'лёгкий', 'практика', 'известно', 'мёд', 'сохранять', 'подходящий', 'условие', 'открытый', 'сосуд', 'плесневеть', 'загнивать', 'особенность', 'мёд', 'дать', 'основание', 'использовать', 'древность', 'настоящий', 'время', 'лечение', 'гнойный', 'инфицировать', 'ран', 'ещ', 'вначале', 'прошлое', 'век', 'учный', 'обнаружить', 'пчелиный', 'улья', 'бактериальный', 'флора', 'незначительный', 'несмотря', 'благоприятный', 'температурный', 'условие', 'развитие', 'бактерия', '20е', 'год', 'хх', 'век', 'установить', 'мёд', 'убивать', 'бактерия', 'возбудитель', 'брюшной', 'тиф', 'паратиф', 'дизентерия', 'также', 'яйцо', 'кишечный', 'паразит', 'глист', 'сенной', 'бацилла', 'картофельный', 'сибиреязвенный', 'палочка', 'антибактериальный', 'свойство', 'мёд', 'основываться', 'абсолютный', 'стерильность', 'этот', 'явление', 'искать', 'объяснение', 'говорить', 'причина', 'мочь', 'органический', 'кислота', 'фермент', 'сахар', 'впоследствии', 'установить', 'это', 'антибиотический', 'вещество', 'ингибин', 'который', 'обладать', 'натуральный', 'пчелиный', 'продукт', 'один', 'версия', 'оно', 'иметь', 'растительный', 'происхождение', 'являться', 'эфирный', 'масло', 'это', 'фермент', 'который', 'вырабатывать', 'пчела', 'добавить', 'нектар', 'процесс', 'изготовление', 'мёд', 'однако', 'антибактериальный', 'свойство', 'мёд', 'влиять', 'ингибин', 'также', 'обеспечиваться', 'фитонцид', 'растение', 'который', 'обладать', 'нектар', 'пыльца', 'ароматический', 'другой', 'вещество', 'простой', 'говорить', 'пчела', 'консервировать', 'продукт', 'сей', 'пора', 'являться', 'загадка', 'ингибин', 'влиять', 'антибактериальный', 'свойство', 'мёд', 'вредный', 'повышенный', 'температура', 'солнечный', 'свет', 'прополис', 'пчелиный', 'клей', 'это', 'клейкий', 'смолистый', 'вещество', 'собирать', 'пчела', 'растение', 'разный', 'вид', 'перерабатывать', 'они', 'ульекак', 'мд', 'прополис', 'применять', 'очень', 'широко', 'самый', 'различный', 'заболевание', 'ангина', 'заболевание', 'полость', 'рот', 'разжёвывать', 'прополис', 'настойка', 'прополис', 'успешно', 'применяться', 'отит', 'фарингит', 'тонзиллит', 'гайморит', 'гнойный', 'рана', 'спектр', 'полезный', 'действие', 'прополис', 'необычайно', 'широкий', 'скорый', 'заживление', 'ран', 'способствовать', 'иммунитет', 'поддерживать', 'должный', 'уровень', 'едва', 'весь', 'вид', 'грибок', 'позволять', 'расправиться', 'стенка', 'сосуд', 'укреплять', 'обезболивать', 'действие', 'оказывать', 'старина', 'прополис', 'обмазывать', 'разделать', 'дичь', 'любой', 'другой', 'вид', 'мясо', 'позволять', 'сохранять', 'свежесть', 'протяжение', 'несколько', 'час', 'условие', 'жара', 'палящий', 'солнечный', 'луч', 'прополис', 'вызывать', 'устойчивость', 'микроорганизм', 'поэтому', 'смело', 'считать', 'природный', 'антибиотик', 'широкий', 'действие', 'постоянный', 'лекарство', 'эффективность', 'доказать', 'очень', 'высокий', 'заболеть', 'простуда', 'нужно', 'принимать', 'настойка', 'прополис', 'капля', 'стакан', 'вода', 'раз', 'день', 'течение', 'неделя', 'курс', 'повторять', 'несколько', 'год', 'простудный', 'период', 'какимтый', 'событие', 'например', 'заболеть', 'праздник', 'командировка', 'отпуск', 'облепиха', 'целебный', 'свойство', 'облепиха', 'определяться', 'высокий', 'содержание', 'плод', 'целое', 'букет', 'витамин', 'микроэлемент', 'органический', 'кислота', 'чрезвычайно', 'важный', 'профилактика', 'лечение', 'многий', 'заболевание', 'плод', 'употреблять', 'свежий', 'вид', 'готовить', 'богатый', 'витамин', 'сок', 'сироп', 'компот', 'кисель', 'пастила', 'мармелад', 'желе', 'джема', 'наливка', 'вино', 'настойка', 'ликёр', 'ягода', 'облепиха', 'сохраняться', 'заморозить', 'вид', 'красноплодный', 'сорт', 'облепиха', 'получать', 'уникальный', 'поливитаминный', 'препарат', 'который', 'найти', 'широкий', 'применение', 'медицина', 'облепиховый', 'масло', 'оно', 'обладать', 'бактерицидный', 'свойство', 'способствовать', 'эпителизация', 'ткань', 'заживлять', 'рана', 'повреждение', 'слизистый', 'оболочка', 'кожа', 'успокаивать', 'боль', 'острый', 'хронический', 'ларингит', 'фарингит', 'нужно', 'смазывать', 'слизистая', 'оболочка', 'ватный', 'тампон', 'смочить', 'облепиховый', 'масло', 'делать', 'масляный', 'ингаляция', 'ежедневно', 'минута', 'курс', 'лечение', 'состоять', 'процедура', 'удаление', 'миндалина', 'операционный', 'ана', 'смазывать', 'облепиховый', 'масло', 'это', 'снижать', 'температурный', 'реакция', 'способствовать', 'очищение', 'эпителизация', 'поверхность', 'рана', 'острый', 'хронический', 'гайморит', 'верхнечелюстной', 'пазуха', 'вводить', 'мл', 'стерильный', 'облепиховый', 'масло', 'профилактика', 'заболевание', 'верхний', 'дыхательный', 'путь', 'рекомендоваться', 'ингаляция', 'облепиховый', 'масло', 'хронический', 'воспалительный', 'процесс', 'тонкий', 'толстой', 'кишка', 'успех', 'использовать', 'облепиховый', 'масло', 'лечение', 'язва', 'двенадцатиперстный', 'кишка', 'желудок', 'многий', 'случай', 'эффективно', 'действовать', 'курс', 'лечение', 'облепиховый', 'масло', 'следовать', 'принимать', 'чайный', 'ложка', 'раз', 'день', 'минута', 'еда', 'повышенный', 'кислотность', 'желудок', 'облепиховый', 'масло', 'нужно', 'нейтрализовать', 'жжёный', 'магнезия', 'раствор', 'сода', 'эрозивноязвенный', 'проктит', 'сфинктерит', 'трещина', 'анус', 'внутренний', 'геморрой', 'назначать', 'свеча', 'облепиховый', 'масло', 'редька', 'содержать', 'витамин', 'соль', 'калий', 'кальций', 'сера', 'магний', 'полезный', 'сахарный', 'диабет', 'сок', 'оказывать', 'мочегонное', 'желчегонный', 'ранозаживляющий', 'бактерицидный', 'действие', 'улучшать', 'пищеварение', 'обмен', 'вещество', 'сок', 'чрной', 'редька', 'являться', 'мощный', 'антисептик', 'заживлять', 'рана', 'язва', 'отхаркивающий', 'противопростудный', 'средство', 'редька', 'мдом', 'отлично', 'помогать', 'справиться', 'кашель', 'редька', 'нормализовать', 'работа', 'орган', 'пищеварение', 'улучшать', 'аппетит', 'человек', 'гастрит', 'язва', 'желудок', '12типерстный', 'кишка', 'сок', 'редька', 'противопоказанный', 'относиться', 'редька', 'сильнодействующий', 'природный', 'антибиотик', 'редька', 'обладать', 'антибактериальный', 'действие', 'выводить', 'токсин', 'организм', 'нормализовать', 'работа', 'орган', 'пищеварение', 'принимать', 'внутрь', 'кашель', 'грипп', 'ангина', 'простудный', 'заболевание', 'бронхит', 'отличный', 'рецепт', 'являться', 'редька', 'мёд', 'применять', 'кожный', 'заболевание', 'качество', 'наружное', 'средство', 'популярно', 'употребление', 'сок', 'редька', 'смешанный', 'пропорция', 'мёд', 'сахар', 'катар', 'верхний', 'дыхательный', 'путь', 'бронхит', 'коклюш', 'это', 'лекарство', 'принимать', 'столовая', 'ложка', 'раз', 'день', 'действовать', 'отхаркивающий', 'успокаивать', 'кашель', 'средство', 'стоить', 'принимать', 'редька', 'сердечнососудистый', 'патология', 'тяжёлый', 'заболевание', 'почка', 'язва', 'желудок', 'двенадцатиперстный', 'кишка', 'хрен', 'известный', 'свой', 'лекарственный', 'свойство', 'крещение', 'русь', 'корень', 'хрен', 'содержать', 'эфирный', 'масло', 'лизоцим', 'известный', 'антимикробный', 'свойство', 'множество', 'витамин', 'минерал', 'измельчение', 'хрен', 'выделяться', 'аллиловый', 'горчичный', 'масло', 'обладать', 'фитонцидный', 'действие', 'сочетание', 'эфирный', 'масло', 'лизоцим', 'делать', 'корень', 'хрен', 'сильный', 'природный', 'антибиотик', 'применяться', 'инфекционный', 'заболевание', 'верхний', 'дыхательный', 'путь', 'рецепт', 'хреновый', 'закуска', 'известный', 'каждый', 'семья', 'протёртый', 'хрен', 'чеснок', 'помидор', 'соль', 'уксус', 'масло', 'раскладывать', 'баночка', 'держать', 'холодильник', 'это', 'острый', 'добавка', 'холодец', 'другой', 'блюдо', 'лекарственный', 'средство', 'профилактика', 'лечение', 'инфекционный', 'заболевание', 'корн', 'растение', 'который', 'встретить', 'любой', 'огород', 'дачный', 'участок', 'содержаться', 'гликозид', 'синигрин', 'горчичный', 'масло', 'корень', 'хрен', 'растереть', 'оба', 'вещество', 'соединиться', 'воздействие', 'кислород', 'результат', 'образоваться', 'аллилгорчичный', 'масло', 'аллилизотиоцианат', 'естественный', 'антибиотик', 'это', 'соединение', 'успешно', 'бороться', 'бактерия', 'носоглотка', 'полость', 'рот', 'растение', 'содержать', 'большой', 'количество', 'аскорбиновый', 'кислота', 'каротин', 'витамин', 'группа', 'минеральный', 'соль', 'калий', 'кальций', 'фосфор', 'смолистый', 'азотистый', 'вещество', 'благодаря', 'высокий', 'содержание', 'витамин', 'особенно', 'витамин', 'хрен', 'являться', 'хороший', 'противоцинготный', 'средство', 'другой', 'ценный', 'свойство', 'хрен', 'наличие', 'нм', 'фитонцид', 'способствовать', 'уничтожение', 'бактерия', 'микроорганизм', 'поэтому', 'издавна', 'хрен', 'использовать', 'хранение', 'продукт', 'пересыпать', 'нарезать', 'кусочек', 'корень', 'хрен', 'помощь', 'настойка', 'ст', 'ложка', 'тртого', 'хрен', 'ст', 'мда', 'вылечить', 'трахеит', 'бронхит', 'хронический', 'кашель', 'цистит', 'устранить', 'залить', 'ложка', 'тртого', 'хрен', 'стакан', 'кипяток', 'выпивать', 'мл', 'такой', 'чай', 'трижды', 'день', 'чрный', 'смородина', 'целебный', 'свойство', 'чрный', 'смородина', 'нередко', 'называть', 'домашний', 'доктор', 'это', 'ценить', 'наш', 'предок', 'русский', 'травник', 'лечебник', 'xvxvi', 'век', 'чёрный', 'смородина', 'упоминаться', 'лечебный', 'растение', 'исцелять', 'множество', 'недуг', 'этот', 'полезный', 'ягода', 'обладать', 'противовоспалительный', 'дезинфицировать', 'свойство', 'сок', 'применяться', 'лечение', 'ангина', 'народный', 'медицина', 'этот', 'ягода', 'использоваться', 'приготовление', 'травяной', 'чай', 'лекарство', 'диарея', 'жара', 'ягода', 'лист', 'чрной', 'смородина', 'помогать', 'простуда', 'вирусный', 'инфекционный', 'заболевание', 'заболевание', 'верхний', 'дыхательный', 'путь', 'ягода', 'чрной', 'смородина', 'содержать', 'фитонцид', 'препятствовать', 'рост', 'микроб', 'очень', 'полезный', 'витамин', 'антисептический', 'свойство', 'чрной', 'смородина', 'настолько', 'большой', 'полоскание', 'горло', 'сок', 'разбавить', 'вода', 'короткий', 'время', 'помогать', 'избавиться', 'ангина', 'сок', 'смородина', 'также', 'эффективный', 'сильный', 'кашель', 'состав', 'чёрный', 'смородина', 'особый', 'биологически', 'активный', 'вещество', 'фитонцид', 'способный', 'подавлять', 'убивать', 'вирус', 'бактерия', 'микроскопический', 'гриб', 'фитонцид', 'сок', 'чёрный', 'смородина', 'способный', 'обезвредить', 'трихомонада', 'золотистый', 'стафилококк', 'биологический', 'вещество', 'активно', 'действовать', 'низкий', 'высокий', 'температура', 'чеснок', 'общеизвестный', 'природный', 'антибиотик', 'обладать', 'биостимулирующий', 'действие', 'включать', 'собственный', 'иммунный', 'клетка', 'организм', 'тлимфоцит', 'эфирный', 'масло', 'чеснок', 'действовать', 'антисептический', 'средство', 'внутрь', 'вид', 'настойка', 'биостимулирующий', 'особенность', 'эфирный', 'масло', 'чеснок', 'являться', 'действовать', 'подобно', 'омега3', 'кислота', 'объяснять', 'антираковый', 'свойство', 'чеснок', 'также', 'применение', 'кардиологический', 'заболевание', 'повышенный', 'холестерин', 'чеснок', 'выводить', 'кишечный', 'прочий', 'паразит', 'уничтожать', 'бактерия', 'вирус', 'снижать', 'давление', 'предотвращать', 'тромбоз', 'это', 'растение', 'обладать', 'антиоксидантный', 'свойство', 'предупреждать', 'онкологический', 'заболевание', 'зубчик', 'чеснок', 'содержать', 'болье', 'полезный', 'соединение', 'чеснок', 'лечить', 'дифтерия', 'язвенный', 'болезнь', 'туберкулзти', 'различный', 'глистный', 'заболевание', 'универсальный', 'чесночный', 'ликра', 'приготавливаться', 'прозрачный', 'стеклянный', 'мкостя', 'поместить', 'зубчик', 'чеснок', 'залить', 'красный', 'вино', 'настаивать', 'окно', 'неделя', 'abcslimru', 'это', 'интересно', 'вс', 'выглядеть', 'блог', 'каждый', 'день', 'каждый', 'сталкиваться', 'огромный', 'количество', 'микроорганизм', 'простой', 'скопировать', 'код', 'блог', 'обновить', 'просмотр', 'писать', 'комментарий', 'необходимо', 'спасибо']\"\n"
     ]
    }
   ],
   "execution_count": 43
  },
  {
   "metadata": {
    "ExecuteTime": {
     "end_time": "2024-06-02T09:12:48.245400Z",
     "start_time": "2024-06-02T09:12:48.245331Z"
    }
   },
   "cell_type": "code",
   "source": [
    "# Настройка параметров для RandomForestClassifier\n",
    "rf_params = {'n_estimators': [100, 200, 300], 'max_depth': [None, 10, 20, 30]}\n",
    "rf_grid = GridSearchCV(RandomForestClassifier(), rf_params, cv=5, scoring='f1', n_jobs=-1)\n",
    "rf_grid.fit(X_train_split, y_train_split)\n",
    "best_rf = rf_grid.best_estimator_"
   ],
   "id": "3495a29ff18cda1d",
   "outputs": [],
   "execution_count": null
  },
  {
   "metadata": {},
   "cell_type": "code",
   "source": [
    "# Настройка параметров для SVC\n",
    "svc_params = {'C': [0.1, 1, 10], 'kernel': ['linear', 'rbf']}\n",
    "svc_grid = GridSearchCV(SVC(probability=True), svc_params, cv=5, scoring='f1', n_jobs=-1)\n",
    "svc_grid.fit(X_train_split, y_train_split)\n",
    "best_svc = svc_grid.best_estimator_"
   ],
   "id": "245b60b7db0ddad2",
   "outputs": [],
   "execution_count": null
  },
  {
   "metadata": {},
   "cell_type": "code",
   "source": [
    "# Настройка параметров CatBoost\n",
    "cat_params = {\n",
    "    'iterations': [200, 350, 500],\n",
    "    'depth': [6, 8, 10],\n",
    "    'learning_rate': [0.01, 0.05, 0.1],\n",
    "    'l2_leaf_reg': [1, 3, 5]\n",
    "}\n",
    "\n",
    "cat_model = CatBoostClassifier()\n",
    "cat_grid = GridSearchCV(cat_model, cat_params, cv=5, scoring='f1', n_jobs=-1)\n",
    "cat_grid.fit(X_train_split, y_train_split)\n",
    "best_cat_params = cat_grid.best_params_"
   ],
   "id": "fa7def42de71de96",
   "outputs": [],
   "execution_count": null
  },
  {
   "metadata": {},
   "cell_type": "code",
   "source": [
    "# Обучение CatBoost с лучшими параметрами на полном наборе данных\n",
    "final_cat_model = CatBoostClassifier(**best_cat_params)\n",
    "train_pool = Pool(X_train, y_train)\n",
    "final_cat_model.fit(train_pool)"
   ],
   "id": "5b1da10c34c5b0f4",
   "outputs": [],
   "execution_count": null
  },
  {
   "metadata": {},
   "cell_type": "code",
   "source": [
    "# Настройка параметров мета-модели\n",
    "meta_params = {'C': [0.1, 1, 10]}\n",
    "meta_grid = GridSearchCV(LogisticRegression(), meta_params, cv=5, scoring='f1', n_jobs=-1)\n",
    "meta_grid.fit(X_train, y_train)\n",
    "best_meta = meta_grid.best_estimator_"
   ],
   "id": "a96787dc4707a990",
   "outputs": [],
   "execution_count": null
  },
  {
   "metadata": {},
   "cell_type": "markdown",
   "source": "# Стекинг\n",
   "id": "ec955eb29bcf9627"
  },
  {
   "metadata": {},
   "cell_type": "code",
   "source": [
    "# Создание стекинг-классификатора\n",
    "stacking_model = StackingClassifier(\n",
    "    estimators=[\n",
    "        ('knn', best_knn),\n",
    "        ('rf', best_rf),\n",
    "        ('svc', best_svc),\n",
    "        ('cat', final_cat_model)\n",
    "    ],\n",
    "    final_estimator=best_meta,\n",
    "    cv=5\n",
    ")\n",
    "\n",
    "stacking_model.fit(X_train, y_train)\n"
   ],
   "id": "7a0fb64529a051f8",
   "outputs": [],
   "execution_count": null
  },
  {
   "metadata": {},
   "cell_type": "code",
   "source": [
    "# Предсказание и сохранение результатов\n",
    "test_predictions = stacking_model.predict(X_test)\n"
   ],
   "id": "5f599a1aeec80870",
   "outputs": [],
   "execution_count": null
  },
  {
   "metadata": {},
   "cell_type": "code",
   "source": [
    "# Сохранение результатов\n",
    "submission = test_groups[['pair_id']].copy()\n",
    "submission['target'] = test_predictions\n",
    "submission.to_csv('submission.csv', index=False)\n",
    "print('Файл с предсказаниями создан: submission.csv')\n"
   ],
   "id": "32044529c4d93dc8",
   "outputs": [],
   "execution_count": null
  },
  {
   "metadata": {},
   "cell_type": "code",
   "source": [
    "# Важность признаков\n",
    "import matplotlib.pyplot as plt\n",
    "\n",
    "importances = final_cat_model.get_feature_importance(type='PredictionValuesChange')\n",
    "feature_importances = pd.Series(importances, index=X_train.columns).sort_values()[-15:]\n",
    "plt.figure(figsize=(10, 6))\n",
    "plt.barh(feature_importances.index, feature_importances.values)\n",
    "plt.title('CatBoost Feature Importance')\n",
    "plt.xlabel('Importance')\n",
    "plt.ylabel('Features')\n",
    "plt.show()"
   ],
   "id": "33d51949ce7ed8e4",
   "outputs": [],
   "execution_count": null
  },
  {
   "metadata": {},
   "cell_type": "code",
   "source": "",
   "id": "2b25dc8fbe6fc6e7",
   "outputs": [],
   "execution_count": null
  },
  {
   "metadata": {},
   "cell_type": "code",
   "source": "",
   "id": "78b92145d2979995",
   "outputs": [],
   "execution_count": null
  }
 ],
 "metadata": {
  "kernelspec": {
   "display_name": "Python 3",
   "language": "python",
   "name": "python3"
  },
  "language_info": {
   "codemirror_mode": {
    "name": "ipython",
    "version": 2
   },
   "file_extension": ".py",
   "mimetype": "text/x-python",
   "name": "python",
   "nbconvert_exporter": "python",
   "pygments_lexer": "ipython2",
   "version": "2.7.6"
  }
 },
 "nbformat": 4,
 "nbformat_minor": 5
}
